{
 "cells": [
  {
   "cell_type": "code",
   "execution_count": 1,
   "id": "c1a5440d",
   "metadata": {},
   "outputs": [],
   "source": [
    "import pandas as pd\n",
    "import numpy as np\n",
    "import matplotlib.pyplot as plt\n",
    "import seaborn as sns\n",
    "import geopandas as gpd\n",
    "from sklearn.model_selection import train_test_split\n",
    "from sklearn.preprocessing import StandardScaler\n",
    "import warnings\n",
    "import optuna"
   ]
  },
  {
   "cell_type": "code",
   "execution_count": 39,
   "id": "63727fc7",
   "metadata": {},
   "outputs": [],
   "source": [
    "# Modelling Libraries\n",
    "from sklearn.linear_model import LogisticRegression, RidgeClassifier, SGDClassifier\n",
    "from sklearn.tree import DecisionTreeClassifier\n",
    "from sklearn.ensemble import RandomForestClassifier,AdaBoostClassifier,GradientBoostingClassifier\n",
    "from xgboost import XGBClassifier\n",
    "from sklearn.naive_bayes import GaussianNB\n",
    "\n",
    "# Evaluation & CV Libraries\n",
    "from sklearn.metrics import precision_score, accuracy_score, roc_curve, roc_auc_score\n",
    "from sklearn.model_selection import RandomizedSearchCV,GridSearchCV, StratifiedKFold, cross_val_score, KFold\n",
    "\n",
    "from sklearn.metrics import confusion_matrix, classification_report, balanced_accuracy_score"
   ]
  },
  {
   "cell_type": "code",
   "execution_count": 3,
   "id": "50b2947b",
   "metadata": {},
   "outputs": [
    {
     "name": "stdout",
     "output_type": "stream",
     "text": [
      "Dataframe dimensions: (5819079, 31)\n"
     ]
    }
   ],
   "source": [
    "df=pd.read_csv('flights.csv', low_memory=False)\n",
    "print('Dataframe dimensions:', df.shape)"
   ]
  },
  {
   "cell_type": "code",
   "execution_count": 4,
   "id": "f680454c",
   "metadata": {},
   "outputs": [
    {
     "name": "stdout",
     "output_type": "stream",
     "text": [
      "<class 'pandas.core.frame.DataFrame'>\n",
      "RangeIndex: 5819079 entries, 0 to 5819078\n",
      "Data columns (total 31 columns):\n",
      " #   Column               Non-Null Count    Dtype  \n",
      "---  ------               --------------    -----  \n",
      " 0   YEAR                 5819079 non-null  int64  \n",
      " 1   MONTH                5819079 non-null  int64  \n",
      " 2   DAY                  5819079 non-null  int64  \n",
      " 3   DAY_OF_WEEK          5819079 non-null  int64  \n",
      " 4   AIRLINE              5819079 non-null  object \n",
      " 5   FLIGHT_NUMBER        5819079 non-null  int64  \n",
      " 6   TAIL_NUMBER          5804358 non-null  object \n",
      " 7   ORIGIN_AIRPORT       5819079 non-null  object \n",
      " 8   DESTINATION_AIRPORT  5819079 non-null  object \n",
      " 9   SCHEDULED_DEPARTURE  5819079 non-null  int64  \n",
      " 10  DEPARTURE_TIME       5732926 non-null  float64\n",
      " 11  DEPARTURE_DELAY      5732926 non-null  float64\n",
      " 12  TAXI_OUT             5730032 non-null  float64\n",
      " 13  WHEELS_OFF           5730032 non-null  float64\n",
      " 14  SCHEDULED_TIME       5819073 non-null  float64\n",
      " 15  ELAPSED_TIME         5714008 non-null  float64\n",
      " 16  AIR_TIME             5714008 non-null  float64\n",
      " 17  DISTANCE             5819079 non-null  int64  \n",
      " 18  WHEELS_ON            5726566 non-null  float64\n",
      " 19  TAXI_IN              5726566 non-null  float64\n",
      " 20  SCHEDULED_ARRIVAL    5819079 non-null  int64  \n",
      " 21  ARRIVAL_TIME         5726566 non-null  float64\n",
      " 22  ARRIVAL_DELAY        5714008 non-null  float64\n",
      " 23  DIVERTED             5819079 non-null  int64  \n",
      " 24  CANCELLED            5819079 non-null  int64  \n",
      " 25  CANCELLATION_REASON  89884 non-null    object \n",
      " 26  AIR_SYSTEM_DELAY     1063439 non-null  float64\n",
      " 27  SECURITY_DELAY       1063439 non-null  float64\n",
      " 28  AIRLINE_DELAY        1063439 non-null  float64\n",
      " 29  LATE_AIRCRAFT_DELAY  1063439 non-null  float64\n",
      " 30  WEATHER_DELAY        1063439 non-null  float64\n",
      "dtypes: float64(16), int64(10), object(5)\n",
      "memory usage: 1.3+ GB\n"
     ]
    }
   ],
   "source": [
    "df.info(show_counts=True)"
   ]
  },
  {
   "cell_type": "code",
   "execution_count": 5,
   "id": "77479d34",
   "metadata": {},
   "outputs": [],
   "source": [
    "# Each entry of the flights.csv file corresponds to a flight and we see that more than 5'800'000 flights have been recorded in 2015. These flights are described according to 31 variables. A description of these variables can be found here and I briefly recall the meaning of the variables that will be used in this notebook:\n",
    "\n",
    "# YEAR, MONTH, DAY, DAY_OF_WEEK: dates of the flight\n",
    "# AIRLINE: An identification number assigned by US DOT to identify a unique airline\n",
    "# ORIGIN_AIRPORT and DESTINATION_AIRPORT: code attributed by IATA to identify the airports\n",
    "# SCHEDULED_DEPARTURE and SCHEDULED_ARRIVAL : scheduled times of take-off and landing\n",
    "# DEPARTURE_TIME and ARRIVAL_TIME: real times at which take-off and landing took place\n",
    "# DEPARTURE_DELAY and ARRIVAL_DELAY: difference (in minutes) between planned and real times\n",
    "\n"
   ]
  },
  {
   "cell_type": "markdown",
   "id": "31e2ef27",
   "metadata": {},
   "source": [
    "### The main goal of this project is to predict arrival delay"
   ]
  },
  {
   "cell_type": "code",
   "execution_count": 6,
   "id": "3556ed96",
   "metadata": {},
   "outputs": [],
   "source": [
    "# I remove Nans from columns where flights were cancelled (or diverted)\n",
    "df.dropna(subset=['DEPARTURE_TIME', 'DEPARTURE_DELAY', 'TAXI_OUT', 'WHEELS_OFF', 'ELAPSED_TIME', 'AIR_TIME', \n",
    "                'WHEELS_ON', 'TAXI_IN', 'ARRIVAL_TIME', 'ARRIVAL_DELAY'], inplace=True)\n",
    "# I remove columns 'DIVERTED', 'CANCELLED', 'CANCELLATION_REASON'\n",
    "df.drop(['DIVERTED', 'CANCELLED', 'CANCELLATION_REASON'], axis=1, inplace=True)\n",
    "# I remove columns with insufficient data\n",
    "df.drop([\"AIR_SYSTEM_DELAY\",\"SECURITY_DELAY\", \"AIRLINE_DELAY\", \"LATE_AIRCRAFT_DELAY\", \"WEATHER_DELAY\"], axis=1, inplace=True)"
   ]
  },
  {
   "cell_type": "code",
   "execution_count": 7,
   "id": "0cd4b7ba",
   "metadata": {},
   "outputs": [],
   "source": [
    "# In the initial dataframe, dates are coded according to 4 variables: YEAR, MONTH, DAY, and DAY_OF_WEEK. \n",
    "# I change it into datetime format:\n",
    "import datetime\n",
    "df['DATE'] = pd.to_datetime(df[['YEAR','MONTH', 'DAY']])\n",
    "# I'll need name of the week and month name\n",
    "df['DAY_NAME'] = df['DATE'].dt.day_name()\n",
    "df['MONTH_NAME'] = df['DATE'].dt.month_name()\n",
    "# I remove those 4 unnecessary columns\n",
    "df.drop(['YEAR', 'MONTH', 'DAY', 'DAY_OF_WEEK'], axis=1, inplace=True)"
   ]
  },
  {
   "cell_type": "code",
   "execution_count": 7,
   "id": "549d3e15",
   "metadata": {},
   "outputs": [
    {
     "data": {
      "image/png": "[encoded data removed]",
      "text/plain": [
       "<Figure size 720x576 with 2 Axes>"
      ]
     },
     "metadata": {
      "needs_background": "light"
     },
     "output_type": "display_data"
    }
   ],
   "source": [
    "corr=df.corr()\n",
    "plt.figure(figsize=(10,8))\n",
    "sns.heatmap(corr, annot=True, cmap='RdYlGn', linewidths=0.05)\n",
    "plt.show()"
   ]
  },
  {
   "cell_type": "markdown",
   "id": "c7b528ea",
   "metadata": {},
   "source": [
    "### Departure_delay column is the most correlated data with arrival_delay, but I want to predict arrival delays before the flight."
   ]
  },
  {
   "cell_type": "code",
   "execution_count": 8,
   "id": "db0f8203",
   "metadata": {},
   "outputs": [],
   "source": [
    "# My goal is to predict if the arrival will be delayed or not, that's why I removed columns that have nothing to do with the goal:\n",
    "df.drop(['FLIGHT_NUMBER', 'TAIL_NUMBER', 'TAXI_OUT', 'WHEELS_OFF', 'ELAPSED_TIME', 'DEPARTURE_DELAY', 'DEPARTURE_TIME',\n",
    "             'AIR_TIME', 'WHEELS_ON', 'TAXI_IN', 'ARRIVAL_TIME'], axis=1, inplace=True)"
   ]
  },
  {
   "cell_type": "code",
   "execution_count": 9,
   "id": "ac314f13",
   "metadata": {},
   "outputs": [
    {
     "data": {
      "text/html": [
       "<div>\n",
       "<style scoped>\n",
       "    .dataframe tbody tr th:only-of-type {\n",
       "        vertical-align: middle;\n",
       "    }\n",
       "\n",
       "    .dataframe tbody tr th {\n",
       "        vertical-align: top;\n",
       "    }\n",
       "\n",
       "    .dataframe thead th {\n",
       "        text-align: right;\n",
       "    }\n",
       "</style>\n",
       "<table border=\"1\" class=\"dataframe\">\n",
       "  <thead>\n",
       "    <tr style=\"text-align: right;\">\n",
       "      <th></th>\n",
       "      <th>AIRLINE</th>\n",
       "      <th>ORIGIN_AIRPORT</th>\n",
       "      <th>DESTINATION_AIRPORT</th>\n",
       "      <th>SCHEDULED_DEPARTURE</th>\n",
       "      <th>SCHEDULED_TIME</th>\n",
       "      <th>DISTANCE</th>\n",
       "      <th>SCHEDULED_ARRIVAL</th>\n",
       "      <th>ARRIVAL_DELAY</th>\n",
       "      <th>DATE</th>\n",
       "      <th>DAY_NAME</th>\n",
       "      <th>MONTH_NAME</th>\n",
       "    </tr>\n",
       "  </thead>\n",
       "  <tbody>\n",
       "    <tr>\n",
       "      <th>771787</th>\n",
       "      <td>EV</td>\n",
       "      <td>CLE</td>\n",
       "      <td>BOS</td>\n",
       "      <td>1634</td>\n",
       "      <td>108.0</td>\n",
       "      <td>563</td>\n",
       "      <td>1822</td>\n",
       "      <td>-5.0</td>\n",
       "      <td>2015-02-20</td>\n",
       "      <td>Friday</td>\n",
       "      <td>February</td>\n",
       "    </tr>\n",
       "    <tr>\n",
       "      <th>858015</th>\n",
       "      <td>OO</td>\n",
       "      <td>DEN</td>\n",
       "      <td>MAF</td>\n",
       "      <td>955</td>\n",
       "      <td>105.0</td>\n",
       "      <td>563</td>\n",
       "      <td>1240</td>\n",
       "      <td>39.0</td>\n",
       "      <td>2015-02-26</td>\n",
       "      <td>Thursday</td>\n",
       "      <td>February</td>\n",
       "    </tr>\n",
       "    <tr>\n",
       "      <th>4740474</th>\n",
       "      <td>OO</td>\n",
       "      <td>12266</td>\n",
       "      <td>11433</td>\n",
       "      <td>1037</td>\n",
       "      <td>173.0</td>\n",
       "      <td>1075</td>\n",
       "      <td>1430</td>\n",
       "      <td>-23.0</td>\n",
       "      <td>2015-10-23</td>\n",
       "      <td>Friday</td>\n",
       "      <td>October</td>\n",
       "    </tr>\n",
       "    <tr>\n",
       "      <th>439281</th>\n",
       "      <td>OO</td>\n",
       "      <td>SFO</td>\n",
       "      <td>AUS</td>\n",
       "      <td>1848</td>\n",
       "      <td>199.0</td>\n",
       "      <td>1504</td>\n",
       "      <td>7</td>\n",
       "      <td>9.0</td>\n",
       "      <td>2015-01-29</td>\n",
       "      <td>Thursday</td>\n",
       "      <td>January</td>\n",
       "    </tr>\n",
       "    <tr>\n",
       "      <th>5439155</th>\n",
       "      <td>UA</td>\n",
       "      <td>LAX</td>\n",
       "      <td>DEN</td>\n",
       "      <td>1304</td>\n",
       "      <td>139.0</td>\n",
       "      <td>862</td>\n",
       "      <td>1623</td>\n",
       "      <td>0.0</td>\n",
       "      <td>2015-12-07</td>\n",
       "      <td>Monday</td>\n",
       "      <td>December</td>\n",
       "    </tr>\n",
       "    <tr>\n",
       "      <th>1769344</th>\n",
       "      <td>DL</td>\n",
       "      <td>MIA</td>\n",
       "      <td>JFK</td>\n",
       "      <td>1520</td>\n",
       "      <td>189.0</td>\n",
       "      <td>1089</td>\n",
       "      <td>1829</td>\n",
       "      <td>66.0</td>\n",
       "      <td>2015-04-23</td>\n",
       "      <td>Thursday</td>\n",
       "      <td>April</td>\n",
       "    </tr>\n",
       "    <tr>\n",
       "      <th>3294512</th>\n",
       "      <td>OO</td>\n",
       "      <td>ORD</td>\n",
       "      <td>SLC</td>\n",
       "      <td>800</td>\n",
       "      <td>210.0</td>\n",
       "      <td>1250</td>\n",
       "      <td>1030</td>\n",
       "      <td>-2.0</td>\n",
       "      <td>2015-07-25</td>\n",
       "      <td>Saturday</td>\n",
       "      <td>July</td>\n",
       "    </tr>\n",
       "    <tr>\n",
       "      <th>5032904</th>\n",
       "      <td>EV</td>\n",
       "      <td>JAN</td>\n",
       "      <td>ORD</td>\n",
       "      <td>730</td>\n",
       "      <td>135.0</td>\n",
       "      <td>677</td>\n",
       "      <td>945</td>\n",
       "      <td>-27.0</td>\n",
       "      <td>2015-11-11</td>\n",
       "      <td>Wednesday</td>\n",
       "      <td>November</td>\n",
       "    </tr>\n",
       "    <tr>\n",
       "      <th>18833</th>\n",
       "      <td>OO</td>\n",
       "      <td>SNA</td>\n",
       "      <td>DEN</td>\n",
       "      <td>1004</td>\n",
       "      <td>135.0</td>\n",
       "      <td>846</td>\n",
       "      <td>1319</td>\n",
       "      <td>10.0</td>\n",
       "      <td>2015-01-02</td>\n",
       "      <td>Friday</td>\n",
       "      <td>January</td>\n",
       "    </tr>\n",
       "    <tr>\n",
       "      <th>5396931</th>\n",
       "      <td>EV</td>\n",
       "      <td>EWR</td>\n",
       "      <td>AVL</td>\n",
       "      <td>1430</td>\n",
       "      <td>117.0</td>\n",
       "      <td>583</td>\n",
       "      <td>1627</td>\n",
       "      <td>10.0</td>\n",
       "      <td>2015-12-04</td>\n",
       "      <td>Friday</td>\n",
       "      <td>December</td>\n",
       "    </tr>\n",
       "  </tbody>\n",
       "</table>\n",
       "</div>"
      ],
      "text/plain": [
       "        AIRLINE ORIGIN_AIRPORT DESTINATION_AIRPORT  SCHEDULED_DEPARTURE  \\\n",
       "771787       EV            CLE                 BOS                 1634   \n",
       "858015       OO            DEN                 MAF                  955   \n",
       "4740474      OO          12266               11433                 1037   \n",
       "439281       OO            SFO                 AUS                 1848   \n",
       "5439155      UA            LAX                 DEN                 1304   \n",
       "1769344      DL            MIA                 JFK                 1520   \n",
       "3294512      OO            ORD                 SLC                  800   \n",
       "5032904      EV            JAN                 ORD                  730   \n",
       "18833        OO            SNA                 DEN                 1004   \n",
       "5396931      EV            EWR                 AVL                 1430   \n",
       "\n",
       "         SCHEDULED_TIME  DISTANCE  SCHEDULED_ARRIVAL  ARRIVAL_DELAY  \\\n",
       "771787            108.0       563               1822           -5.0   \n",
       "858015            105.0       563               1240           39.0   \n",
       "4740474           173.0      1075               1430          -23.0   \n",
       "439281            199.0      1504                  7            9.0   \n",
       "5439155           139.0       862               1623            0.0   \n",
       "1769344           189.0      1089               1829           66.0   \n",
       "3294512           210.0      1250               1030           -2.0   \n",
       "5032904           135.0       677                945          -27.0   \n",
       "18833             135.0       846               1319           10.0   \n",
       "5396931           117.0       583               1627           10.0   \n",
       "\n",
       "              DATE   DAY_NAME MONTH_NAME  \n",
       "771787  2015-02-20     Friday   February  \n",
       "858015  2015-02-26   Thursday   February  \n",
       "4740474 2015-10-23     Friday    October  \n",
       "439281  2015-01-29   Thursday    January  \n",
       "5439155 2015-12-07     Monday   December  \n",
       "1769344 2015-04-23   Thursday      April  \n",
       "3294512 2015-07-25   Saturday       July  \n",
       "5032904 2015-11-11  Wednesday   November  \n",
       "18833   2015-01-02     Friday    January  \n",
       "5396931 2015-12-04     Friday   December  "
      ]
     },
     "execution_count": 9,
     "metadata": {},
     "output_type": "execute_result"
    }
   ],
   "source": [
    "df.sample(10)"
   ]
  },
  {
   "cell_type": "code",
   "execution_count": 10,
   "id": "5d58ef81",
   "metadata": {},
   "outputs": [],
   "source": [
    "# SCHEDULED_DEPARTURE and _ARRIVAL - this columns shows hours and minutes from departures and arrivals\n",
    "# I'm changing it into full hours\n",
    "df['SCHEDULED_DEPARTURE_H'] = df['SCHEDULED_DEPARTURE'] // 100\n",
    "df['SCHEDULED_ARRIVAL_H'] = df['SCHEDULED_ARRIVAL'] // 100\n",
    "# Remove column SCHEDULED_DEPARTURE:\n",
    "df.drop(['SCHEDULED_DEPARTURE', 'SCHEDULED_ARRIVAL'], axis=1, inplace=True)\n",
    "\n",
    "# In the data there was one position with hour = 24 (should be 00)\n",
    "df['SCHEDULED_ARRIVAL_H'].replace(24, 0, inplace=True)"
   ]
  },
  {
   "cell_type": "markdown",
   "id": "2935a44d",
   "metadata": {},
   "source": [
    "## An additional file of this dataset, the airports.csv file, gives a more exhaustive description of the airports:"
   ]
  },
  {
   "cell_type": "code",
   "execution_count": 11,
   "id": "ef15554c",
   "metadata": {},
   "outputs": [
    {
     "data": {
      "text/html": [
       "<div>\n",
       "<style scoped>\n",
       "    .dataframe tbody tr th:only-of-type {\n",
       "        vertical-align: middle;\n",
       "    }\n",
       "\n",
       "    .dataframe tbody tr th {\n",
       "        vertical-align: top;\n",
       "    }\n",
       "\n",
       "    .dataframe thead th {\n",
       "        text-align: right;\n",
       "    }\n",
       "</style>\n",
       "<table border=\"1\" class=\"dataframe\">\n",
       "  <thead>\n",
       "    <tr style=\"text-align: right;\">\n",
       "      <th></th>\n",
       "      <th>IATA_CODE</th>\n",
       "      <th>AIRPORT</th>\n",
       "      <th>CITY</th>\n",
       "      <th>STATE</th>\n",
       "      <th>COUNTRY</th>\n",
       "      <th>LATITUDE</th>\n",
       "      <th>LONGITUDE</th>\n",
       "    </tr>\n",
       "  </thead>\n",
       "  <tbody>\n",
       "    <tr>\n",
       "      <th>0</th>\n",
       "      <td>ABE</td>\n",
       "      <td>Lehigh Valley International Airport</td>\n",
       "      <td>Allentown</td>\n",
       "      <td>PA</td>\n",
       "      <td>USA</td>\n",
       "      <td>40.65236</td>\n",
       "      <td>-75.44040</td>\n",
       "    </tr>\n",
       "    <tr>\n",
       "      <th>1</th>\n",
       "      <td>ABI</td>\n",
       "      <td>Abilene Regional Airport</td>\n",
       "      <td>Abilene</td>\n",
       "      <td>TX</td>\n",
       "      <td>USA</td>\n",
       "      <td>32.41132</td>\n",
       "      <td>-99.68190</td>\n",
       "    </tr>\n",
       "    <tr>\n",
       "      <th>2</th>\n",
       "      <td>ABQ</td>\n",
       "      <td>Albuquerque International Sunport</td>\n",
       "      <td>Albuquerque</td>\n",
       "      <td>NM</td>\n",
       "      <td>USA</td>\n",
       "      <td>35.04022</td>\n",
       "      <td>-106.60919</td>\n",
       "    </tr>\n",
       "    <tr>\n",
       "      <th>3</th>\n",
       "      <td>ABR</td>\n",
       "      <td>Aberdeen Regional Airport</td>\n",
       "      <td>Aberdeen</td>\n",
       "      <td>SD</td>\n",
       "      <td>USA</td>\n",
       "      <td>45.44906</td>\n",
       "      <td>-98.42183</td>\n",
       "    </tr>\n",
       "    <tr>\n",
       "      <th>4</th>\n",
       "      <td>ABY</td>\n",
       "      <td>Southwest Georgia Regional Airport</td>\n",
       "      <td>Albany</td>\n",
       "      <td>GA</td>\n",
       "      <td>USA</td>\n",
       "      <td>31.53552</td>\n",
       "      <td>-84.19447</td>\n",
       "    </tr>\n",
       "    <tr>\n",
       "      <th>...</th>\n",
       "      <td>...</td>\n",
       "      <td>...</td>\n",
       "      <td>...</td>\n",
       "      <td>...</td>\n",
       "      <td>...</td>\n",
       "      <td>...</td>\n",
       "      <td>...</td>\n",
       "    </tr>\n",
       "    <tr>\n",
       "      <th>317</th>\n",
       "      <td>WRG</td>\n",
       "      <td>Wrangell Airport</td>\n",
       "      <td>Wrangell</td>\n",
       "      <td>AK</td>\n",
       "      <td>USA</td>\n",
       "      <td>56.48433</td>\n",
       "      <td>-132.36982</td>\n",
       "    </tr>\n",
       "    <tr>\n",
       "      <th>318</th>\n",
       "      <td>WYS</td>\n",
       "      <td>Westerly State Airport</td>\n",
       "      <td>West Yellowstone</td>\n",
       "      <td>MT</td>\n",
       "      <td>USA</td>\n",
       "      <td>44.68840</td>\n",
       "      <td>-111.11764</td>\n",
       "    </tr>\n",
       "    <tr>\n",
       "      <th>319</th>\n",
       "      <td>XNA</td>\n",
       "      <td>Northwest Arkansas Regional Airport</td>\n",
       "      <td>Fayetteville/Springdale/Rogers</td>\n",
       "      <td>AR</td>\n",
       "      <td>USA</td>\n",
       "      <td>36.28187</td>\n",
       "      <td>-94.30681</td>\n",
       "    </tr>\n",
       "    <tr>\n",
       "      <th>320</th>\n",
       "      <td>YAK</td>\n",
       "      <td>Yakutat Airport</td>\n",
       "      <td>Yakutat</td>\n",
       "      <td>AK</td>\n",
       "      <td>USA</td>\n",
       "      <td>59.50336</td>\n",
       "      <td>-139.66023</td>\n",
       "    </tr>\n",
       "    <tr>\n",
       "      <th>321</th>\n",
       "      <td>YUM</td>\n",
       "      <td>Yuma International Airport</td>\n",
       "      <td>Yuma</td>\n",
       "      <td>AZ</td>\n",
       "      <td>USA</td>\n",
       "      <td>32.65658</td>\n",
       "      <td>-114.60597</td>\n",
       "    </tr>\n",
       "  </tbody>\n",
       "</table>\n",
       "<p>322 rows × 7 columns</p>\n",
       "</div>"
      ],
      "text/plain": [
       "    IATA_CODE                              AIRPORT  \\\n",
       "0         ABE  Lehigh Valley International Airport   \n",
       "1         ABI             Abilene Regional Airport   \n",
       "2         ABQ    Albuquerque International Sunport   \n",
       "3         ABR            Aberdeen Regional Airport   \n",
       "4         ABY   Southwest Georgia Regional Airport   \n",
       "..        ...                                  ...   \n",
       "317       WRG                     Wrangell Airport   \n",
       "318       WYS               Westerly State Airport   \n",
       "319       XNA  Northwest Arkansas Regional Airport   \n",
       "320       YAK                      Yakutat Airport   \n",
       "321       YUM           Yuma International Airport   \n",
       "\n",
       "                               CITY STATE COUNTRY  LATITUDE  LONGITUDE  \n",
       "0                         Allentown    PA     USA  40.65236  -75.44040  \n",
       "1                           Abilene    TX     USA  32.41132  -99.68190  \n",
       "2                       Albuquerque    NM     USA  35.04022 -106.60919  \n",
       "3                          Aberdeen    SD     USA  45.44906  -98.42183  \n",
       "4                            Albany    GA     USA  31.53552  -84.19447  \n",
       "..                              ...   ...     ...       ...        ...  \n",
       "317                        Wrangell    AK     USA  56.48433 -132.36982  \n",
       "318                West Yellowstone    MT     USA  44.68840 -111.11764  \n",
       "319  Fayetteville/Springdale/Rogers    AR     USA  36.28187  -94.30681  \n",
       "320                         Yakutat    AK     USA  59.50336 -139.66023  \n",
       "321                            Yuma    AZ     USA  32.65658 -114.60597  \n",
       "\n",
       "[322 rows x 7 columns]"
      ]
     },
     "execution_count": 11,
     "metadata": {},
     "output_type": "execute_result"
    }
   ],
   "source": [
    "airports=pd.read_csv('airports.csv')\n",
    "airports"
   ]
  },
  {
   "cell_type": "code",
   "execution_count": 12,
   "id": "da673066",
   "metadata": {},
   "outputs": [
    {
     "name": "stdout",
     "output_type": "stream",
     "text": [
      "<class 'pandas.core.frame.DataFrame'>\n",
      "RangeIndex: 322 entries, 0 to 321\n",
      "Data columns (total 7 columns):\n",
      " #   Column     Non-Null Count  Dtype  \n",
      "---  ------     --------------  -----  \n",
      " 0   IATA_CODE  322 non-null    object \n",
      " 1   AIRPORT    322 non-null    object \n",
      " 2   CITY       322 non-null    object \n",
      " 3   STATE      322 non-null    object \n",
      " 4   COUNTRY    322 non-null    object \n",
      " 5   LATITUDE   319 non-null    float64\n",
      " 6   LONGITUDE  319 non-null    float64\n",
      "dtypes: float64(2), object(5)\n",
      "memory usage: 17.7+ KB\n"
     ]
    }
   ],
   "source": [
    "airports.info()"
   ]
  },
  {
   "cell_type": "code",
   "execution_count": 13,
   "id": "8f81bbc2",
   "metadata": {},
   "outputs": [
    {
     "data": {
      "text/html": [
       "<div>\n",
       "<style scoped>\n",
       "    .dataframe tbody tr th:only-of-type {\n",
       "        vertical-align: middle;\n",
       "    }\n",
       "\n",
       "    .dataframe tbody tr th {\n",
       "        vertical-align: top;\n",
       "    }\n",
       "\n",
       "    .dataframe thead th {\n",
       "        text-align: right;\n",
       "    }\n",
       "</style>\n",
       "<table border=\"1\" class=\"dataframe\">\n",
       "  <thead>\n",
       "    <tr style=\"text-align: right;\">\n",
       "      <th></th>\n",
       "      <th>IATA_CODE</th>\n",
       "      <th>AIRPORT</th>\n",
       "      <th>CITY</th>\n",
       "      <th>STATE</th>\n",
       "      <th>COUNTRY</th>\n",
       "      <th>LATITUDE</th>\n",
       "      <th>LONGITUDE</th>\n",
       "    </tr>\n",
       "  </thead>\n",
       "  <tbody>\n",
       "    <tr>\n",
       "      <th>96</th>\n",
       "      <td>ECP</td>\n",
       "      <td>Northwest Florida Beaches International Airport</td>\n",
       "      <td>Panama City</td>\n",
       "      <td>FL</td>\n",
       "      <td>USA</td>\n",
       "      <td>NaN</td>\n",
       "      <td>NaN</td>\n",
       "    </tr>\n",
       "    <tr>\n",
       "      <th>234</th>\n",
       "      <td>PBG</td>\n",
       "      <td>Plattsburgh International Airport</td>\n",
       "      <td>Plattsburgh</td>\n",
       "      <td>NY</td>\n",
       "      <td>USA</td>\n",
       "      <td>NaN</td>\n",
       "      <td>NaN</td>\n",
       "    </tr>\n",
       "    <tr>\n",
       "      <th>313</th>\n",
       "      <td>UST</td>\n",
       "      <td>Northeast Florida Regional Airport (St. August...</td>\n",
       "      <td>St. Augustine</td>\n",
       "      <td>FL</td>\n",
       "      <td>USA</td>\n",
       "      <td>NaN</td>\n",
       "      <td>NaN</td>\n",
       "    </tr>\n",
       "  </tbody>\n",
       "</table>\n",
       "</div>"
      ],
      "text/plain": [
       "    IATA_CODE                                            AIRPORT  \\\n",
       "96        ECP    Northwest Florida Beaches International Airport   \n",
       "234       PBG                  Plattsburgh International Airport   \n",
       "313       UST  Northeast Florida Regional Airport (St. August...   \n",
       "\n",
       "              CITY STATE COUNTRY  LATITUDE  LONGITUDE  \n",
       "96     Panama City    FL     USA       NaN        NaN  \n",
       "234    Plattsburgh    NY     USA       NaN        NaN  \n",
       "313  St. Augustine    FL     USA       NaN        NaN  "
      ]
     },
     "execution_count": 13,
     "metadata": {},
     "output_type": "execute_result"
    }
   ],
   "source": [
    "# Chcking the Nan values\n",
    "airports[airports['LATITUDE'].isna()]"
   ]
  },
  {
   "cell_type": "code",
   "execution_count": 14,
   "id": "822cd92b",
   "metadata": {},
   "outputs": [],
   "source": [
    "# taking real world data for missing values:\n",
    "airports.loc[234,'LATITUDE'] = 44.3903\n",
    "airports.loc[234,'LONGITUDE']= -73.2805\n",
    "airports.loc[96,'LATITUDE'] = 30.2130\n",
    "airports.loc[96,'LONGITUDE']= -85.4744\n",
    "airports.loc[313,'LATITUDE'] = 29.57333\n",
    "airports.loc[313,'LONGITUDE']= -81.2023"
   ]
  },
  {
   "cell_type": "code",
   "execution_count": 15,
   "id": "3194890e",
   "metadata": {},
   "outputs": [
    {
     "data": {
      "text/plain": [
       "USA    322\n",
       "Name: COUNTRY, dtype: int64"
      ]
     },
     "execution_count": 15,
     "metadata": {},
     "output_type": "execute_result"
    }
   ],
   "source": [
    "# In airports.csv we have airports only from one country - USA\n",
    "airports['COUNTRY'].value_counts()"
   ]
  },
  {
   "cell_type": "code",
   "execution_count": 16,
   "id": "727eb5f7",
   "metadata": {},
   "outputs": [
    {
     "data": {
      "text/plain": [
       "(54,)"
      ]
     },
     "execution_count": 16,
     "metadata": {},
     "output_type": "execute_result"
    }
   ],
   "source": [
    "# In airports.csv we have airports from 54 states of USA\n",
    "airports['STATE'].unique().shape"
   ]
  },
  {
   "cell_type": "code",
   "execution_count": 17,
   "id": "7a95a18b",
   "metadata": {},
   "outputs": [
    {
     "data": {
      "text/plain": [
       "ATL      343506\n",
       "ORD      276554\n",
       "DFW      232647\n",
       "DEN      193402\n",
       "LAX      192003\n",
       "          ...  \n",
       "13541        11\n",
       "10165         9\n",
       "14222         9\n",
       "13502         6\n",
       "11503         4\n",
       "Name: ORIGIN_AIRPORT, Length: 628, dtype: int64"
      ]
     },
     "execution_count": 17,
     "metadata": {},
     "output_type": "execute_result"
    }
   ],
   "source": [
    "# In the dataframe there are also airports that are not in the airport.csv file\n",
    "df['ORIGIN_AIRPORT'].value_counts()"
   ]
  },
  {
   "cell_type": "code",
   "execution_count": 11,
   "id": "7e99576a",
   "metadata": {},
   "outputs": [
    {
     "name": "stdout",
     "output_type": "stream",
     "text": [
      "<class 'pandas.core.frame.DataFrame'>\n",
      "Int64Index: 5231130 entries, 0 to 5819078\n",
      "Data columns (total 11 columns):\n",
      " #   Column                 Non-Null Count    Dtype         \n",
      "---  ------                 --------------    -----         \n",
      " 0   AIRLINE                5231130 non-null  object        \n",
      " 1   ORIGIN_AIRPORT         5231130 non-null  object        \n",
      " 2   DESTINATION_AIRPORT    5231130 non-null  object        \n",
      " 3   SCHEDULED_TIME         5231130 non-null  float64       \n",
      " 4   DISTANCE               5231130 non-null  int64         \n",
      " 5   ARRIVAL_DELAY          5231130 non-null  float64       \n",
      " 6   DATE                   5231130 non-null  datetime64[ns]\n",
      " 7   DAY_NAME               5231130 non-null  object        \n",
      " 8   MONTH_NAME             5231130 non-null  object        \n",
      " 9   SCHEDULED_DEPARTURE_H  5231130 non-null  int64         \n",
      " 10  SCHEDULED_ARRIVAL_H    5231130 non-null  int64         \n",
      "dtypes: datetime64[ns](1), float64(2), int64(3), object(5)\n",
      "memory usage: 478.9+ MB\n"
     ]
    }
   ],
   "source": [
    "# I remove the data where airports are shown in 5-digit code\n",
    "df_air= df[df['ORIGIN_AIRPORT'] > 'AAA']\n",
    "df_air.info(show_counts=True)"
   ]
  },
  {
   "cell_type": "markdown",
   "id": "51a86ad1",
   "metadata": {},
   "source": [
    "## An additional file of this dataset, the airlines.csv file, gives a more exhaustive description of the airlines:"
   ]
  },
  {
   "cell_type": "code",
   "execution_count": 19,
   "id": "091927d2",
   "metadata": {},
   "outputs": [
    {
     "data": {
      "text/html": [
       "<div>\n",
       "<style scoped>\n",
       "    .dataframe tbody tr th:only-of-type {\n",
       "        vertical-align: middle;\n",
       "    }\n",
       "\n",
       "    .dataframe tbody tr th {\n",
       "        vertical-align: top;\n",
       "    }\n",
       "\n",
       "    .dataframe thead th {\n",
       "        text-align: right;\n",
       "    }\n",
       "</style>\n",
       "<table border=\"1\" class=\"dataframe\">\n",
       "  <thead>\n",
       "    <tr style=\"text-align: right;\">\n",
       "      <th></th>\n",
       "      <th>IATA_CODE</th>\n",
       "      <th>AIRLINE</th>\n",
       "    </tr>\n",
       "  </thead>\n",
       "  <tbody>\n",
       "    <tr>\n",
       "      <th>0</th>\n",
       "      <td>UA</td>\n",
       "      <td>United Air Lines Inc.</td>\n",
       "    </tr>\n",
       "    <tr>\n",
       "      <th>1</th>\n",
       "      <td>AA</td>\n",
       "      <td>American Airlines Inc.</td>\n",
       "    </tr>\n",
       "    <tr>\n",
       "      <th>2</th>\n",
       "      <td>US</td>\n",
       "      <td>US Airways Inc.</td>\n",
       "    </tr>\n",
       "    <tr>\n",
       "      <th>3</th>\n",
       "      <td>F9</td>\n",
       "      <td>Frontier Airlines Inc.</td>\n",
       "    </tr>\n",
       "    <tr>\n",
       "      <th>4</th>\n",
       "      <td>B6</td>\n",
       "      <td>JetBlue Airways</td>\n",
       "    </tr>\n",
       "    <tr>\n",
       "      <th>5</th>\n",
       "      <td>OO</td>\n",
       "      <td>Skywest Airlines Inc.</td>\n",
       "    </tr>\n",
       "    <tr>\n",
       "      <th>6</th>\n",
       "      <td>AS</td>\n",
       "      <td>Alaska Airlines Inc.</td>\n",
       "    </tr>\n",
       "    <tr>\n",
       "      <th>7</th>\n",
       "      <td>NK</td>\n",
       "      <td>Spirit Air Lines</td>\n",
       "    </tr>\n",
       "    <tr>\n",
       "      <th>8</th>\n",
       "      <td>WN</td>\n",
       "      <td>Southwest Airlines Co.</td>\n",
       "    </tr>\n",
       "    <tr>\n",
       "      <th>9</th>\n",
       "      <td>DL</td>\n",
       "      <td>Delta Air Lines Inc.</td>\n",
       "    </tr>\n",
       "    <tr>\n",
       "      <th>10</th>\n",
       "      <td>EV</td>\n",
       "      <td>Atlantic Southeast Airlines</td>\n",
       "    </tr>\n",
       "    <tr>\n",
       "      <th>11</th>\n",
       "      <td>HA</td>\n",
       "      <td>Hawaiian Airlines Inc.</td>\n",
       "    </tr>\n",
       "    <tr>\n",
       "      <th>12</th>\n",
       "      <td>MQ</td>\n",
       "      <td>American Eagle Airlines Inc.</td>\n",
       "    </tr>\n",
       "    <tr>\n",
       "      <th>13</th>\n",
       "      <td>VX</td>\n",
       "      <td>Virgin America</td>\n",
       "    </tr>\n",
       "  </tbody>\n",
       "</table>\n",
       "</div>"
      ],
      "text/plain": [
       "   IATA_CODE                       AIRLINE\n",
       "0         UA         United Air Lines Inc.\n",
       "1         AA        American Airlines Inc.\n",
       "2         US               US Airways Inc.\n",
       "3         F9        Frontier Airlines Inc.\n",
       "4         B6               JetBlue Airways\n",
       "5         OO         Skywest Airlines Inc.\n",
       "6         AS          Alaska Airlines Inc.\n",
       "7         NK              Spirit Air Lines\n",
       "8         WN        Southwest Airlines Co.\n",
       "9         DL          Delta Air Lines Inc.\n",
       "10        EV   Atlantic Southeast Airlines\n",
       "11        HA        Hawaiian Airlines Inc.\n",
       "12        MQ  American Eagle Airlines Inc.\n",
       "13        VX                Virgin America"
      ]
     },
     "execution_count": 19,
     "metadata": {},
     "output_type": "execute_result"
    }
   ],
   "source": [
    "airlines_names=pd.read_csv('airlines.csv')\n",
    "airlines_names"
   ]
  },
  {
   "cell_type": "code",
   "execution_count": 20,
   "id": "3a77ce06",
   "metadata": {},
   "outputs": [],
   "source": [
    "# I create a dictionary with IATA_CODE and AIRLINE name\n",
    "abbr_companies = airlines_names.set_index('IATA_CODE')['AIRLINE'].to_dict()"
   ]
  },
  {
   "cell_type": "code",
   "execution_count": 16,
   "id": "d0ba0a9d",
   "metadata": {},
   "outputs": [
    {
     "data": {
      "image/png": "[encoded data removed]",
      "text/plain": [
       "<Figure size 576x432 with 1 Axes>"
      ]
     },
     "metadata": {
      "needs_background": "light"
     },
     "output_type": "display_data"
    }
   ],
   "source": [
    "plt.figure(figsize=(8,6))\n",
    "ax = sns.histplot(x='ARRIVAL_DELAY', data=df_air, binwidth=1)\n",
    "ax.axvline(x=-6, linestyle='dotted', color='black')\n",
    "ax.annotate('Median arrival delay is -6 minutes', xy=[-5,160000], \n",
    "           xytext=[50, 150000],\n",
    "           arrowprops={'arrowstyle': '->', 'color':'gray'})\n",
    "plt.xlim(-100, 200)\n",
    "plt.show()"
   ]
  },
  {
   "cell_type": "code",
   "execution_count": 12,
   "id": "1471f1e8",
   "metadata": {},
   "outputs": [
    {
     "name": "stderr",
     "output_type": "stream",
     "text": [
      "C:\\Users\\HP\\AppData\\Local\\Temp\\ipykernel_17008\\7107336.py:2: SettingWithCopyWarning: \n",
      "A value is trying to be set on a copy of a slice from a DataFrame.\n",
      "Try using .loc[row_indexer,col_indexer] = value instead\n",
      "\n",
      "See the caveats in the documentation: https://pandas.pydata.org/pandas-docs/stable/user_guide/indexing.html#returning-a-view-versus-a-copy\n",
      "  df_air[\"delayed\"] = pd.cut( x=df_air[\"ARRIVAL_DELAY\"], bins=[-100, 0, np.inf], labels=[0, 1])\n"
     ]
    },
    {
     "data": {
      "image/png": "[encoded data removed]",
      "text/plain": [
       "<Figure size 576x576 with 1 Axes>"
      ]
     },
     "metadata": {},
     "output_type": "display_data"
    }
   ],
   "source": [
    "# Function that define how delays are grouped\n",
    "df_air[\"delayed\"] = pd.cut( x=df_air[\"ARRIVAL_DELAY\"], bins=[-100, 0, np.inf], labels=[0, 1])\n",
    "\n",
    "# \n",
    "delay_level = dict(df_air.groupby('delayed')['delayed'].count())\n",
    "labels = ['on time (t <= 0 min)', 'delayed (t >= 1 min)']\n",
    "values = delay_level.values()\n",
    "plt.figure(figsize=(8,8))\n",
    "plt.pie(data=df_air, x=values, labels= labels, autopct = '%1.1f%%', pctdistance=0.8, shadow=True)\n",
    "plt.title('DELAY LEVEL Percentange', fontsize=14, weight = 'bold')\n",
    "plt.show()"
   ]
  },
  {
   "cell_type": "code",
   "execution_count": 23,
   "id": "9cee7f4b",
   "metadata": {},
   "outputs": [
    {
     "data": {
      "image/png": "[encoded data removed]",
      "text/plain": [
       "<Figure size 720x576 with 1 Axes>"
      ]
     },
     "metadata": {
      "needs_background": "light"
     },
     "output_type": "display_data"
    }
   ],
   "source": [
    "df1 = df_air.groupby('AIRLINE')['delayed'].value_counts(normalize=True)\n",
    "df1 = df1.mul(100)\n",
    "df1 = df1.rename('percent').reset_index()\n",
    "df1['AIRLINE'] = df1['AIRLINE'].replace(abbr_companies)\n",
    "\n",
    "plt.figure(figsize=(10,8))\n",
    "sns.barplot(y='AIRLINE', x='percent', hue='level_1', data=df1)\n",
    "\n",
    "# Set the legend\n",
    "L = plt.legend(bbox_to_anchor=(1, 1))\n",
    "L.get_texts()[0].set_text('on time (t <= 0 min)')\n",
    "L.get_texts()[1].set_text('delayed (t >= 1 min)') \n",
    "plt.show()"
   ]
  },
  {
   "cell_type": "markdown",
   "id": "97fa9bcd",
   "metadata": {},
   "source": [
    "## Time charts"
   ]
  },
  {
   "cell_type": "code",
   "execution_count": 39,
   "id": "fc98eec4",
   "metadata": {},
   "outputs": [
    {
     "data": {
      "image/png": "[encoded data removed]",
      "text/plain": [
       "<Figure size 432x288 with 1 Axes>"
      ]
     },
     "metadata": {
      "needs_background": "light"
     },
     "output_type": "display_data"
    }
   ],
   "source": [
    "# Boxplot:  Month name vs arrival_delay\n",
    "sns.boxplot(x='MONTH_NAME', y='ARRIVAL_DELAY', data=df_air, showfliers=False)\n",
    "plt.xticks(rotation=45)\n",
    "plt.show()"
   ]
  },
  {
   "cell_type": "code",
   "execution_count": 24,
   "id": "b358d3cc",
   "metadata": {},
   "outputs": [
    {
     "data": {
      "image/png": "[encoded data removed]",
      "text/plain": [
       "<Figure size 720x576 with 1 Axes>"
      ]
     },
     "metadata": {
      "needs_background": "light"
     },
     "output_type": "display_data"
    }
   ],
   "source": [
    "# Bar chart: Flight count delays vs month name\n",
    "\n",
    "x,y =  'MONTH_NAME', 'delayed'\n",
    "\n",
    "df_mn = df_air.groupby(x)[y].value_counts(normalize=True)\n",
    "df_mn = df_mn.mul(100)\n",
    "df_mn = df_mn.rename('percent').reset_index()\n",
    "\n",
    "plt.figure(figsize=(10,8))\n",
    "sns.barplot(y='MONTH_NAME', x='percent', hue='level_1', data=df_mn)\n",
    "\n",
    "# Set the legend\n",
    "L = plt.legend(bbox_to_anchor=(1, 1))\n",
    "L.get_texts()[0].set_text('on time (t <= 0 min)')\n",
    "L.get_texts()[1].set_text('delayed (t >= 1 min)') \n",
    "plt.show()"
   ]
  },
  {
   "cell_type": "code",
   "execution_count": 43,
   "id": "b145d6f4",
   "metadata": {},
   "outputs": [
    {
     "data": {
      "image/png": "[encoded data removed]",
      "text/plain": [
       "<Figure size 432x288 with 1 Axes>"
      ]
     },
     "metadata": {
      "needs_background": "light"
     },
     "output_type": "display_data"
    }
   ],
   "source": [
    "weekdays = ['Monday', 'Tuesday', 'Wednesday', 'Thursday', 'Friday', 'Saturday', 'Sunday']\n",
    "sns.boxplot(x='DAY_NAME', y='ARRIVAL_DELAY', data=df_air, showfliers=False, order=weekdays)\n",
    "plt.xticks(rotation=45)\n",
    "plt.show()"
   ]
  },
  {
   "cell_type": "code",
   "execution_count": 25,
   "id": "de4c54d4",
   "metadata": {},
   "outputs": [
    {
     "data": {
      "image/png": "[encoded data removed]",
      "text/plain": [
       "<Figure size 720x576 with 1 Axes>"
      ]
     },
     "metadata": {
      "needs_background": "light"
     },
     "output_type": "display_data"
    }
   ],
   "source": [
    "# Bar chart: Flight count delays vs week name\n",
    "\n",
    "x,y =  'DAY_NAME', 'delayed'\n",
    "\n",
    "df_mn = df_air.groupby(x)[y].value_counts(normalize=True)\n",
    "df_mn = df_mn.mul(100)\n",
    "df_mn = df_mn.rename('percent').reset_index()\n",
    "\n",
    "plt.figure(figsize=(10,8))\n",
    "sns.barplot(y='DAY_NAME', x='percent', hue='level_1', data=df_mn)\n",
    "\n",
    "# Set the legend\n",
    "L = plt.legend(bbox_to_anchor=(1, 1))\n",
    "L.get_texts()[0].set_text('on time (t <= 0 min)')\n",
    "L.get_texts()[1].set_text('delayed (t >= 1 min)') \n",
    "plt.show()"
   ]
  },
  {
   "cell_type": "code",
   "execution_count": 16,
   "id": "72c0df40",
   "metadata": {},
   "outputs": [
    {
     "name": "stderr",
     "output_type": "stream",
     "text": [
      "C:\\Users\\HP\\AppData\\Local\\Temp\\ipykernel_11484\\527070438.py:4: SettingWithCopyWarning: \n",
      "A value is trying to be set on a copy of a slice from a DataFrame.\n",
      "Try using .loc[row_indexer,col_indexer] = value instead\n",
      "\n",
      "See the caveats in the documentation: https://pandas.pydata.org/pandas-docs/stable/user_guide/indexing.html#returning-a-view-versus-a-copy\n",
      "  df_air['DAY_TYPE'] = df['DAY_NAME'].replace(mappings)\n"
     ]
    },
    {
     "data": {
      "image/png": "[encoded data removed]",
      "text/plain": [
       "<Figure size 576x432 with 1 Axes>"
      ]
     },
     "metadata": {
      "needs_background": "light"
     },
     "output_type": "display_data"
    }
   ],
   "source": [
    "mappings = { 'Monday':'weekday', 'Tuesday':'weekday', 'Wednesday':'weekday', 'Thursday':'weekday',\n",
    "           'Friday':'weekday', 'Saturday':'weekend', 'Sunday':'weekend'}\n",
    "\n",
    "df_air['DAY_TYPE'] = df['DAY_NAME'].replace(mappings)\n",
    "\n",
    "x,y =  'DAY_TYPE', 'delayed'\n",
    "\n",
    "df_mn = df_air.groupby(x)[y].value_counts(normalize=True)\n",
    "df_mn = df_mn.mul(100)\n",
    "df_mn = df_mn.rename('percent').reset_index()\n",
    "\n",
    "plt.figure(figsize=(8,6))\n",
    "sns.barplot(y='DAY_TYPE', x='percent', hue='level_1', data=df_mn)\n",
    "\n",
    "# Set the legend\n",
    "L = plt.legend(bbox_to_anchor=(1, 1))\n",
    "L.get_texts()[0].set_text('on time (t <= 0 min)')\n",
    "L.get_texts()[1].set_text('delayed (t >= 1 min)') \n",
    "plt.show()\n"
   ]
  },
  {
   "cell_type": "code",
   "execution_count": 45,
   "id": "dc91fbf8",
   "metadata": {},
   "outputs": [
    {
     "data": {
      "image/png": "[encoded data removed]",
      "text/plain": [
       "<Figure size 576x432 with 1 Axes>"
      ]
     },
     "metadata": {
      "needs_background": "light"
     },
     "output_type": "display_data"
    }
   ],
   "source": [
    "fig, ax=plt.subplots(figsize=(8,6))\n",
    "ax.hist(df_air['SCHEDULED_DEPARTURE_H'], label='SCHEDULED_DEPARTURE_H', alpha=0.5, bins=24)\n",
    "ax.hist(df_air['SCHEDULED_ARRIVAL_H'], label='SCHEDULED_ARRIVAL_H', alpha=0.5, bins=24)\n",
    "ax.legend(bbox_to_anchor=(1, 1))\n",
    "plt.show()"
   ]
  },
  {
   "cell_type": "code",
   "execution_count": 46,
   "id": "d1e6241b",
   "metadata": {},
   "outputs": [
    {
     "data": {
      "image/png": "[encoded data removed]",
      "text/plain": [
       "<Figure size 432x288 with 1 Axes>"
      ]
     },
     "metadata": {
      "needs_background": "light"
     },
     "output_type": "display_data"
    }
   ],
   "source": [
    "sns.boxplot(x='SCHEDULED_DEPARTURE_H', y='ARRIVAL_DELAY', data=df_air, showfliers=False)\n",
    "plt.show()"
   ]
  },
  {
   "cell_type": "code",
   "execution_count": 47,
   "id": "f8e63d59",
   "metadata": {},
   "outputs": [
    {
     "data": {
      "image/png": "[encoded data removed]",
      "text/plain": [
       "<Figure size 432x288 with 1 Axes>"
      ]
     },
     "metadata": {
      "needs_background": "light"
     },
     "output_type": "display_data"
    }
   ],
   "source": [
    "sns.boxplot(x='SCHEDULED_ARRIVAL_H', y='ARRIVAL_DELAY', data=df_air, showfliers=False)\n",
    "plt.show()"
   ]
  },
  {
   "cell_type": "code",
   "execution_count": 34,
   "id": "3bf894c2",
   "metadata": {},
   "outputs": [
    {
     "data": {
      "text/html": [
       "<div>\n",
       "<style scoped>\n",
       "    .dataframe tbody tr th:only-of-type {\n",
       "        vertical-align: middle;\n",
       "    }\n",
       "\n",
       "    .dataframe tbody tr th {\n",
       "        vertical-align: top;\n",
       "    }\n",
       "\n",
       "    .dataframe thead th {\n",
       "        text-align: right;\n",
       "    }\n",
       "</style>\n",
       "<table border=\"1\" class=\"dataframe\">\n",
       "  <thead>\n",
       "    <tr style=\"text-align: right;\">\n",
       "      <th></th>\n",
       "      <th>ORIGIN_AIRPORT</th>\n",
       "      <th>count</th>\n",
       "      <th>mean_delay</th>\n",
       "      <th>size</th>\n",
       "    </tr>\n",
       "  </thead>\n",
       "  <tbody>\n",
       "    <tr>\n",
       "      <th>0</th>\n",
       "      <td>ABE</td>\n",
       "      <td>2227</td>\n",
       "      <td>6.249663</td>\n",
       "      <td>small</td>\n",
       "    </tr>\n",
       "    <tr>\n",
       "      <th>1</th>\n",
       "      <td>ABI</td>\n",
       "      <td>2231</td>\n",
       "      <td>3.272075</td>\n",
       "      <td>small</td>\n",
       "    </tr>\n",
       "    <tr>\n",
       "      <th>2</th>\n",
       "      <td>ABQ</td>\n",
       "      <td>18918</td>\n",
       "      <td>4.768263</td>\n",
       "      <td>big</td>\n",
       "    </tr>\n",
       "    <tr>\n",
       "      <th>3</th>\n",
       "      <td>ABR</td>\n",
       "      <td>663</td>\n",
       "      <td>9.909502</td>\n",
       "      <td>very small</td>\n",
       "    </tr>\n",
       "    <tr>\n",
       "      <th>4</th>\n",
       "      <td>ABY</td>\n",
       "      <td>866</td>\n",
       "      <td>7.587760</td>\n",
       "      <td>small</td>\n",
       "    </tr>\n",
       "    <tr>\n",
       "      <th>...</th>\n",
       "      <td>...</td>\n",
       "      <td>...</td>\n",
       "      <td>...</td>\n",
       "      <td>...</td>\n",
       "    </tr>\n",
       "    <tr>\n",
       "      <th>317</th>\n",
       "      <td>WRG</td>\n",
       "      <td>649</td>\n",
       "      <td>4.667180</td>\n",
       "      <td>very small</td>\n",
       "    </tr>\n",
       "    <tr>\n",
       "      <th>318</th>\n",
       "      <td>WYS</td>\n",
       "      <td>208</td>\n",
       "      <td>-1.865385</td>\n",
       "      <td>very small</td>\n",
       "    </tr>\n",
       "    <tr>\n",
       "      <th>319</th>\n",
       "      <td>XNA</td>\n",
       "      <td>8963</td>\n",
       "      <td>11.233850</td>\n",
       "      <td>medium</td>\n",
       "    </tr>\n",
       "    <tr>\n",
       "      <th>320</th>\n",
       "      <td>YAK</td>\n",
       "      <td>650</td>\n",
       "      <td>-5.632308</td>\n",
       "      <td>very small</td>\n",
       "    </tr>\n",
       "    <tr>\n",
       "      <th>321</th>\n",
       "      <td>YUM</td>\n",
       "      <td>1854</td>\n",
       "      <td>2.184466</td>\n",
       "      <td>small</td>\n",
       "    </tr>\n",
       "  </tbody>\n",
       "</table>\n",
       "<p>322 rows × 4 columns</p>\n",
       "</div>"
      ],
      "text/plain": [
       "    ORIGIN_AIRPORT  count  mean_delay        size\n",
       "0              ABE   2227    6.249663       small\n",
       "1              ABI   2231    3.272075       small\n",
       "2              ABQ  18918    4.768263         big\n",
       "3              ABR    663    9.909502  very small\n",
       "4              ABY    866    7.587760       small\n",
       "..             ...    ...         ...         ...\n",
       "317            WRG    649    4.667180  very small\n",
       "318            WYS    208   -1.865385  very small\n",
       "319            XNA   8963   11.233850      medium\n",
       "320            YAK    650   -5.632308  very small\n",
       "321            YUM   1854    2.184466       small\n",
       "\n",
       "[322 rows x 4 columns]"
      ]
     },
     "execution_count": 34,
     "metadata": {},
     "output_type": "execute_result"
    }
   ],
   "source": [
    "# Now, I'll check size of airports, by counting the departures:\n",
    "airport_size = df_air.groupby('ORIGIN_AIRPORT').agg(count=('ORIGIN_AIRPORT', 'size'), \n",
    "                                             mean_delay=('ARRIVAL_DELAY', 'mean')).reset_index()\n",
    "airport_size['size'] = pd.cut(airport_size['count'], bins=[0, 750, 2500, 10000, 25000, 500000],\n",
    "                              labels=['very small', 'small', 'medium','big','huge'])\n",
    "airport_size"
   ]
  },
  {
   "cell_type": "code",
   "execution_count": 35,
   "id": "c49a7708",
   "metadata": {},
   "outputs": [
    {
     "data": {
      "text/plain": [
       "medium        86\n",
       "small         84\n",
       "very small    76\n",
       "huge          47\n",
       "big           29\n",
       "Name: size, dtype: int64"
      ]
     },
     "execution_count": 35,
     "metadata": {},
     "output_type": "execute_result"
    }
   ],
   "source": [
    "airport_size['size'].value_counts()"
   ]
  },
  {
   "cell_type": "code",
   "execution_count": 36,
   "id": "b970f5bd",
   "metadata": {},
   "outputs": [
    {
     "data": {
      "text/plain": [
       "<AxesSubplot:xlabel='size', ylabel='mean_delay'>"
      ]
     },
     "execution_count": 36,
     "metadata": {},
     "output_type": "execute_result"
    },
    {
     "data": {
      "image/png": "[encoded data removed]",
      "text/plain": [
       "<Figure size 432x288 with 1 Axes>"
      ]
     },
     "metadata": {
      "needs_background": "light"
     },
     "output_type": "display_data"
    }
   ],
   "source": [
    "sns.boxplot(x='size', y='mean_delay', data=airport_size)"
   ]
  },
  {
   "cell_type": "code",
   "execution_count": 26,
   "id": "259d269c",
   "metadata": {},
   "outputs": [],
   "source": [
    "df3 = df_air.loc[:, ['ORIGIN_AIRPORT', 'DESTINATION_AIRPORT', 'ARRIVAL_DELAY']]\n",
    "df4 = df3.merge(airports, how='inner', left_on='ORIGIN_AIRPORT', right_on='IATA_CODE')"
   ]
  },
  {
   "cell_type": "code",
   "execution_count": 28,
   "id": "dc877ff2",
   "metadata": {},
   "outputs": [
    {
     "data": {
      "image/png": "[encoded data removed]",
      "text/plain": [
       "<Figure size 1008x648 with 1 Axes>"
      ]
     },
     "metadata": {
      "needs_background": "light"
     },
     "output_type": "display_data"
    }
   ],
   "source": [
    "delay_map_dep = df4.groupby('ORIGIN_AIRPORT').agg(\n",
    "                    median_delay=('ARRIVAL_DELAY', 'median'), \n",
    "                    LATITUDE=('LATITUDE', 'mean'), LONGITUDE=('LONGITUDE', 'mean'))\n",
    "\n",
    "# From GeoPandas, our world map data\n",
    "worldmap = gpd.read_file(gpd.datasets.get_path(\"naturalearth_lowres\"))\n",
    "\n",
    "fig, ax = plt.subplots(figsize=(14, 9))\n",
    "worldmap.plot(color=\"lightgrey\", ax=ax)\n",
    "\n",
    "# Plotting our Mean_delay data with a color map\n",
    "sns.scatterplot(x='LONGITUDE', y='LATITUDE', data=delay_map_dep, hue='median_delay', palette='rocket_r')\n",
    "plt.title('Location of airports vs mean arrival delay ', fontsize=12)\n",
    "plt.xlim([-180, -60])\n",
    "plt.ylim([10, 80])\n",
    "plt.show()"
   ]
  },
  {
   "cell_type": "code",
   "execution_count": 13,
   "id": "008c61d2",
   "metadata": {},
   "outputs": [
    {
     "name": "stderr",
     "output_type": "stream",
     "text": [
      "C:\\Users\\HP\\AppData\\Local\\Temp\\ipykernel_17008\\259602420.py:2: SettingWithCopyWarning: \n",
      "A value is trying to be set on a copy of a slice from a DataFrame.\n",
      "Try using .loc[row_indexer,col_indexer] = value instead\n",
      "\n",
      "See the caveats in the documentation: https://pandas.pydata.org/pandas-docs/stable/user_guide/indexing.html#returning-a-view-versus-a-copy\n",
      "  df_air['Origin_airport_median_dalay'] = df_air.groupby('ORIGIN_AIRPORT')['ARRIVAL_DELAY'].transform('median')\n",
      "C:\\Users\\HP\\AppData\\Local\\Temp\\ipykernel_17008\\259602420.py:5: SettingWithCopyWarning: \n",
      "A value is trying to be set on a copy of a slice from a DataFrame.\n",
      "Try using .loc[row_indexer,col_indexer] = value instead\n",
      "\n",
      "See the caveats in the documentation: https://pandas.pydata.org/pandas-docs/stable/user_guide/indexing.html#returning-a-view-versus-a-copy\n",
      "  df_air['Destination_airport_median_dalay'] = df_air.groupby('DESTINATION_AIRPORT')['ARRIVAL_DELAY'].transform('median')\n",
      "C:\\Users\\HP\\AppData\\Local\\Temp\\ipykernel_17008\\259602420.py:8: SettingWithCopyWarning: \n",
      "A value is trying to be set on a copy of a slice from a DataFrame.\n",
      "Try using .loc[row_indexer,col_indexer] = value instead\n",
      "\n",
      "See the caveats in the documentation: https://pandas.pydata.org/pandas-docs/stable/user_guide/indexing.html#returning-a-view-versus-a-copy\n",
      "  df_air['plane_route'] = df_air['ORIGIN_AIRPORT'] + '-' + df_air['DESTINATION_AIRPORT']\n",
      "C:\\Users\\HP\\AppData\\Local\\Temp\\ipykernel_17008\\259602420.py:9: SettingWithCopyWarning: \n",
      "A value is trying to be set on a copy of a slice from a DataFrame.\n",
      "Try using .loc[row_indexer,col_indexer] = value instead\n",
      "\n",
      "See the caveats in the documentation: https://pandas.pydata.org/pandas-docs/stable/user_guide/indexing.html#returning-a-view-versus-a-copy\n",
      "  df_air['route_median_delay'] = df_air.groupby('plane_route')['ARRIVAL_DELAY'].transform('median')\n"
     ]
    },
    {
     "data": {
      "text/html": [
       "<div>\n",
       "<style scoped>\n",
       "    .dataframe tbody tr th:only-of-type {\n",
       "        vertical-align: middle;\n",
       "    }\n",
       "\n",
       "    .dataframe tbody tr th {\n",
       "        vertical-align: top;\n",
       "    }\n",
       "\n",
       "    .dataframe thead th {\n",
       "        text-align: right;\n",
       "    }\n",
       "</style>\n",
       "<table border=\"1\" class=\"dataframe\">\n",
       "  <thead>\n",
       "    <tr style=\"text-align: right;\">\n",
       "      <th></th>\n",
       "      <th>AIRLINE</th>\n",
       "      <th>ORIGIN_AIRPORT</th>\n",
       "      <th>DESTINATION_AIRPORT</th>\n",
       "      <th>SCHEDULED_TIME</th>\n",
       "      <th>DISTANCE</th>\n",
       "      <th>ARRIVAL_DELAY</th>\n",
       "      <th>DATE</th>\n",
       "      <th>DAY_NAME</th>\n",
       "      <th>MONTH_NAME</th>\n",
       "      <th>SCHEDULED_DEPARTURE_H</th>\n",
       "      <th>SCHEDULED_ARRIVAL_H</th>\n",
       "      <th>delayed</th>\n",
       "      <th>Origin_airport_median_dalay</th>\n",
       "      <th>Destination_airport_median_dalay</th>\n",
       "      <th>plane_route</th>\n",
       "      <th>route_median_delay</th>\n",
       "    </tr>\n",
       "  </thead>\n",
       "  <tbody>\n",
       "    <tr>\n",
       "      <th>0</th>\n",
       "      <td>AS</td>\n",
       "      <td>ANC</td>\n",
       "      <td>SEA</td>\n",
       "      <td>205.0</td>\n",
       "      <td>1448</td>\n",
       "      <td>-22.0</td>\n",
       "      <td>2015-01-01</td>\n",
       "      <td>Thursday</td>\n",
       "      <td>January</td>\n",
       "      <td>0</td>\n",
       "      <td>4</td>\n",
       "      <td>0</td>\n",
       "      <td>-5.0</td>\n",
       "      <td>-5.0</td>\n",
       "      <td>ANC-SEA</td>\n",
       "      <td>-6.0</td>\n",
       "    </tr>\n",
       "    <tr>\n",
       "      <th>1</th>\n",
       "      <td>AA</td>\n",
       "      <td>LAX</td>\n",
       "      <td>PBI</td>\n",
       "      <td>280.0</td>\n",
       "      <td>2330</td>\n",
       "      <td>-9.0</td>\n",
       "      <td>2015-01-01</td>\n",
       "      <td>Thursday</td>\n",
       "      <td>January</td>\n",
       "      <td>0</td>\n",
       "      <td>7</td>\n",
       "      <td>0</td>\n",
       "      <td>-3.0</td>\n",
       "      <td>-4.0</td>\n",
       "      <td>LAX-PBI</td>\n",
       "      <td>5.0</td>\n",
       "    </tr>\n",
       "    <tr>\n",
       "      <th>2</th>\n",
       "      <td>US</td>\n",
       "      <td>SFO</td>\n",
       "      <td>CLT</td>\n",
       "      <td>286.0</td>\n",
       "      <td>2296</td>\n",
       "      <td>5.0</td>\n",
       "      <td>2015-01-01</td>\n",
       "      <td>Thursday</td>\n",
       "      <td>January</td>\n",
       "      <td>0</td>\n",
       "      <td>8</td>\n",
       "      <td>1</td>\n",
       "      <td>-4.0</td>\n",
       "      <td>-5.0</td>\n",
       "      <td>SFO-CLT</td>\n",
       "      <td>-6.0</td>\n",
       "    </tr>\n",
       "    <tr>\n",
       "      <th>3</th>\n",
       "      <td>AA</td>\n",
       "      <td>LAX</td>\n",
       "      <td>MIA</td>\n",
       "      <td>285.0</td>\n",
       "      <td>2342</td>\n",
       "      <td>-9.0</td>\n",
       "      <td>2015-01-01</td>\n",
       "      <td>Thursday</td>\n",
       "      <td>January</td>\n",
       "      <td>0</td>\n",
       "      <td>8</td>\n",
       "      <td>0</td>\n",
       "      <td>-3.0</td>\n",
       "      <td>-4.0</td>\n",
       "      <td>LAX-MIA</td>\n",
       "      <td>-1.0</td>\n",
       "    </tr>\n",
       "    <tr>\n",
       "      <th>4</th>\n",
       "      <td>AS</td>\n",
       "      <td>SEA</td>\n",
       "      <td>ANC</td>\n",
       "      <td>235.0</td>\n",
       "      <td>1448</td>\n",
       "      <td>-21.0</td>\n",
       "      <td>2015-01-01</td>\n",
       "      <td>Thursday</td>\n",
       "      <td>January</td>\n",
       "      <td>0</td>\n",
       "      <td>3</td>\n",
       "      <td>0</td>\n",
       "      <td>-3.0</td>\n",
       "      <td>-4.0</td>\n",
       "      <td>SEA-ANC</td>\n",
       "      <td>-2.0</td>\n",
       "    </tr>\n",
       "    <tr>\n",
       "      <th>...</th>\n",
       "      <td>...</td>\n",
       "      <td>...</td>\n",
       "      <td>...</td>\n",
       "      <td>...</td>\n",
       "      <td>...</td>\n",
       "      <td>...</td>\n",
       "      <td>...</td>\n",
       "      <td>...</td>\n",
       "      <td>...</td>\n",
       "      <td>...</td>\n",
       "      <td>...</td>\n",
       "      <td>...</td>\n",
       "      <td>...</td>\n",
       "      <td>...</td>\n",
       "      <td>...</td>\n",
       "      <td>...</td>\n",
       "    </tr>\n",
       "    <tr>\n",
       "      <th>5819074</th>\n",
       "      <td>B6</td>\n",
       "      <td>LAX</td>\n",
       "      <td>BOS</td>\n",
       "      <td>320.0</td>\n",
       "      <td>2611</td>\n",
       "      <td>-26.0</td>\n",
       "      <td>2015-12-31</td>\n",
       "      <td>Thursday</td>\n",
       "      <td>December</td>\n",
       "      <td>23</td>\n",
       "      <td>8</td>\n",
       "      <td>0</td>\n",
       "      <td>-3.0</td>\n",
       "      <td>-5.0</td>\n",
       "      <td>LAX-BOS</td>\n",
       "      <td>-7.0</td>\n",
       "    </tr>\n",
       "    <tr>\n",
       "      <th>5819075</th>\n",
       "      <td>B6</td>\n",
       "      <td>JFK</td>\n",
       "      <td>PSE</td>\n",
       "      <td>227.0</td>\n",
       "      <td>1617</td>\n",
       "      <td>-16.0</td>\n",
       "      <td>2015-12-31</td>\n",
       "      <td>Thursday</td>\n",
       "      <td>December</td>\n",
       "      <td>23</td>\n",
       "      <td>4</td>\n",
       "      <td>0</td>\n",
       "      <td>-7.0</td>\n",
       "      <td>0.0</td>\n",
       "      <td>JFK-PSE</td>\n",
       "      <td>3.0</td>\n",
       "    </tr>\n",
       "    <tr>\n",
       "      <th>5819076</th>\n",
       "      <td>B6</td>\n",
       "      <td>JFK</td>\n",
       "      <td>SJU</td>\n",
       "      <td>221.0</td>\n",
       "      <td>1598</td>\n",
       "      <td>-8.0</td>\n",
       "      <td>2015-12-31</td>\n",
       "      <td>Thursday</td>\n",
       "      <td>December</td>\n",
       "      <td>23</td>\n",
       "      <td>4</td>\n",
       "      <td>0</td>\n",
       "      <td>-7.0</td>\n",
       "      <td>-3.0</td>\n",
       "      <td>JFK-SJU</td>\n",
       "      <td>-6.0</td>\n",
       "    </tr>\n",
       "    <tr>\n",
       "      <th>5819077</th>\n",
       "      <td>B6</td>\n",
       "      <td>MCO</td>\n",
       "      <td>SJU</td>\n",
       "      <td>161.0</td>\n",
       "      <td>1189</td>\n",
       "      <td>-10.0</td>\n",
       "      <td>2015-12-31</td>\n",
       "      <td>Thursday</td>\n",
       "      <td>December</td>\n",
       "      <td>23</td>\n",
       "      <td>3</td>\n",
       "      <td>0</td>\n",
       "      <td>-5.0</td>\n",
       "      <td>-3.0</td>\n",
       "      <td>MCO-SJU</td>\n",
       "      <td>-1.0</td>\n",
       "    </tr>\n",
       "    <tr>\n",
       "      <th>5819078</th>\n",
       "      <td>B6</td>\n",
       "      <td>JFK</td>\n",
       "      <td>BQN</td>\n",
       "      <td>221.0</td>\n",
       "      <td>1576</td>\n",
       "      <td>2.0</td>\n",
       "      <td>2015-12-31</td>\n",
       "      <td>Thursday</td>\n",
       "      <td>December</td>\n",
       "      <td>23</td>\n",
       "      <td>4</td>\n",
       "      <td>1</td>\n",
       "      <td>-7.0</td>\n",
       "      <td>1.0</td>\n",
       "      <td>JFK-BQN</td>\n",
       "      <td>1.0</td>\n",
       "    </tr>\n",
       "  </tbody>\n",
       "</table>\n",
       "<p>5231130 rows × 16 columns</p>\n",
       "</div>"
      ],
      "text/plain": [
       "        AIRLINE ORIGIN_AIRPORT DESTINATION_AIRPORT  SCHEDULED_TIME  DISTANCE  \\\n",
       "0            AS            ANC                 SEA           205.0      1448   \n",
       "1            AA            LAX                 PBI           280.0      2330   \n",
       "2            US            SFO                 CLT           286.0      2296   \n",
       "3            AA            LAX                 MIA           285.0      2342   \n",
       "4            AS            SEA                 ANC           235.0      1448   \n",
       "...         ...            ...                 ...             ...       ...   \n",
       "5819074      B6            LAX                 BOS           320.0      2611   \n",
       "5819075      B6            JFK                 PSE           227.0      1617   \n",
       "5819076      B6            JFK                 SJU           221.0      1598   \n",
       "5819077      B6            MCO                 SJU           161.0      1189   \n",
       "5819078      B6            JFK                 BQN           221.0      1576   \n",
       "\n",
       "         ARRIVAL_DELAY       DATE  DAY_NAME MONTH_NAME  SCHEDULED_DEPARTURE_H  \\\n",
       "0                -22.0 2015-01-01  Thursday    January                      0   \n",
       "1                 -9.0 2015-01-01  Thursday    January                      0   \n",
       "2                  5.0 2015-01-01  Thursday    January                      0   \n",
       "3                 -9.0 2015-01-01  Thursday    January                      0   \n",
       "4                -21.0 2015-01-01  Thursday    January                      0   \n",
       "...                ...        ...       ...        ...                    ...   \n",
       "5819074          -26.0 2015-12-31  Thursday   December                     23   \n",
       "5819075          -16.0 2015-12-31  Thursday   December                     23   \n",
       "5819076           -8.0 2015-12-31  Thursday   December                     23   \n",
       "5819077          -10.0 2015-12-31  Thursday   December                     23   \n",
       "5819078            2.0 2015-12-31  Thursday   December                     23   \n",
       "\n",
       "         SCHEDULED_ARRIVAL_H delayed  Origin_airport_median_dalay  \\\n",
       "0                          4       0                         -5.0   \n",
       "1                          7       0                         -3.0   \n",
       "2                          8       1                         -4.0   \n",
       "3                          8       0                         -3.0   \n",
       "4                          3       0                         -3.0   \n",
       "...                      ...     ...                          ...   \n",
       "5819074                    8       0                         -3.0   \n",
       "5819075                    4       0                         -7.0   \n",
       "5819076                    4       0                         -7.0   \n",
       "5819077                    3       0                         -5.0   \n",
       "5819078                    4       1                         -7.0   \n",
       "\n",
       "         Destination_airport_median_dalay plane_route  route_median_delay  \n",
       "0                                    -5.0     ANC-SEA                -6.0  \n",
       "1                                    -4.0     LAX-PBI                 5.0  \n",
       "2                                    -5.0     SFO-CLT                -6.0  \n",
       "3                                    -4.0     LAX-MIA                -1.0  \n",
       "4                                    -4.0     SEA-ANC                -2.0  \n",
       "...                                   ...         ...                 ...  \n",
       "5819074                              -5.0     LAX-BOS                -7.0  \n",
       "5819075                               0.0     JFK-PSE                 3.0  \n",
       "5819076                              -3.0     JFK-SJU                -6.0  \n",
       "5819077                              -3.0     MCO-SJU                -1.0  \n",
       "5819078                               1.0     JFK-BQN                 1.0  \n",
       "\n",
       "[5231130 rows x 16 columns]"
      ]
     },
     "execution_count": 13,
     "metadata": {},
     "output_type": "execute_result"
    }
   ],
   "source": [
    "# Instead of airport departure name I'll use mean arrival delay [in minutes]\n",
    "df_air['Origin_airport_median_dalay'] = df_air.groupby('ORIGIN_AIRPORT')['ARRIVAL_DELAY'].transform('median')\n",
    "\n",
    "# Instead of airport arrival name I'll use mean arrival delay [in minutes]\n",
    "df_air['Destination_airport_median_dalay'] = df_air.groupby('DESTINATION_AIRPORT')['ARRIVAL_DELAY'].transform('median')\n",
    "\n",
    "# Add new column plane_route as a route between airports and I'll check mean arrival delay between them\n",
    "df_air['plane_route'] = df_air['ORIGIN_AIRPORT'] + '-' + df_air['DESTINATION_AIRPORT']\n",
    "df_air['route_median_delay'] = df_air.groupby('plane_route')['ARRIVAL_DELAY'].transform('median')\n",
    "df_air"
   ]
  },
  {
   "cell_type": "code",
   "execution_count": 30,
   "id": "96ab3a22",
   "metadata": {},
   "outputs": [
    {
     "data": {
      "image/png": "[encoded data removed]",
      "text/plain": [
       "<Figure size 864x576 with 1 Axes>"
      ]
     },
     "metadata": {
      "needs_background": "light"
     },
     "output_type": "display_data"
    }
   ],
   "source": [
    "plt.figure(figsize=(12,8))\n",
    "sns.kdeplot(x='DISTANCE', hue='delayed', data=df_air, multiple=\"stack\")\n",
    "plt.title('FLIGHT DISTANCE IN MILES vs DELAY LEVEL DENSITY', fontsize=12)\n",
    "plt.show()"
   ]
  },
  {
   "cell_type": "code",
   "execution_count": 31,
   "id": "60f82152",
   "metadata": {},
   "outputs": [
    {
     "data": {
      "image/png": "[encoded data removed]",
      "text/plain": [
       "<Figure size 864x576 with 1 Axes>"
      ]
     },
     "metadata": {
      "needs_background": "light"
     },
     "output_type": "display_data"
    }
   ],
   "source": [
    "plt.figure(figsize=(12,8))\n",
    "sns.kdeplot(x='SCHEDULED_TIME', hue='delayed', data=df_air, multiple=\"stack\")\n",
    "plt.title('SCHEDULED FLIGHT TIME IN MINUTES vs DELAY LEVEL DENSITY', fontsize=12)\n",
    "plt.show()"
   ]
  },
  {
   "cell_type": "markdown",
   "id": "e8795160",
   "metadata": {},
   "source": [
    "## Model 1 (whole dataset)"
   ]
  },
  {
   "cell_type": "code",
   "execution_count": 32,
   "id": "9a45263b",
   "metadata": {},
   "outputs": [
    {
     "name": "stderr",
     "output_type": "stream",
     "text": [
      "C:\\Users\\HP\\AppData\\Local\\Temp\\ipykernel_3452\\1636373088.py:1: SettingWithCopyWarning: \n",
      "A value is trying to be set on a copy of a slice from a DataFrame\n",
      "\n",
      "See the caveats in the documentation: https://pandas.pydata.org/pandas-docs/stable/user_guide/indexing.html#returning-a-view-versus-a-copy\n",
      "  df_air.drop(['DESTINATION_AIRPORT', 'ORIGIN_AIRPORT', 'ARRIVAL_DELAY', 'DATE', 'plane_route'], axis=1, inplace=True)\n"
     ]
    }
   ],
   "source": [
    "df_air.drop(['DESTINATION_AIRPORT', 'ORIGIN_AIRPORT', 'ARRIVAL_DELAY', 'DATE', 'plane_route'], axis=1, inplace=True)"
   ]
  },
  {
   "cell_type": "code",
   "execution_count": 33,
   "id": "b5c89284",
   "metadata": {},
   "outputs": [],
   "source": [
    "df_ohe = pd.get_dummies(data=df_air, columns=['AIRLINE', 'DAY_NAME', 'MONTH_NAME'])"
   ]
  },
  {
   "cell_type": "code",
   "execution_count": 34,
   "id": "3f969674",
   "metadata": {},
   "outputs": [
    {
     "data": {
      "text/plain": [
       "(5231130, 40)"
      ]
     },
     "execution_count": 34,
     "metadata": {},
     "output_type": "execute_result"
    }
   ],
   "source": [
    "df_ohe.shape"
   ]
  },
  {
   "cell_type": "code",
   "execution_count": 35,
   "id": "c83100c9",
   "metadata": {},
   "outputs": [],
   "source": [
    "y=df_ohe.pop('delayed')\n",
    "X=df_ohe"
   ]
  },
  {
   "cell_type": "code",
   "execution_count": 36,
   "id": "532cc606",
   "metadata": {},
   "outputs": [],
   "source": [
    "X_train,X_test,y_train,y_test = train_test_split(X,y,test_size=0.2,random_state=1)"
   ]
  },
  {
   "cell_type": "code",
   "execution_count": 49,
   "id": "d709047b",
   "metadata": {},
   "outputs": [
    {
     "data": {
      "text/plain": [
       "(4184904, 39)"
      ]
     },
     "execution_count": 49,
     "metadata": {},
     "output_type": "execute_result"
    }
   ],
   "source": [
    "X_train.shape"
   ]
  },
  {
   "cell_type": "code",
   "execution_count": 37,
   "id": "446c8e63",
   "metadata": {},
   "outputs": [],
   "source": [
    "scaler = StandardScaler()\n",
    "scaler.fit(X_train)\n",
    "X_train = scaler.transform(X_train)\n",
    "X_test = scaler.transform(X_test)"
   ]
  },
  {
   "cell_type": "code",
   "execution_count": 45,
   "id": "bb34204e",
   "metadata": {},
   "outputs": [
    {
     "name": "stdout",
     "output_type": "stream",
     "text": [
      "Balanced accuracy score in train set: 0.573\n",
      "Balanced accuracy score in test set: 0.572\n",
      "Accuracy score in train set: 0.657\n",
      "Accuracy score in test set: 0.656\n"
     ]
    }
   ],
   "source": [
    "xgb = XGBClassifier(random_state=1, n_jobs=-1)  # ok. 8 min\n",
    "xgb.fit(X_train, y_train)\n",
    "xgb_results_train = xgb.predict(X_train)\n",
    "xgb_results_test = xgb.predict(X_test)\n",
    "\n",
    "print('Accuracy score in train set: {:.3f}'.format(accuracy_score(y_train, xgb_results_train)))\n",
    "print('Accuracy score in test set: {:.3f}'.format(accuracy_score(y_test, xgb_results_test)))\n",
    "print('ROC AUC score in train set: {:.3f}'.format(roc_auc_score(y_train, xgb_results_train)))\n",
    "print('ROC AUC score in test set: {:.3f}'.format(roc_auc_score(y_test, xgb_results_test)))"
   ]
  },
  {
   "cell_type": "code",
   "execution_count": 46,
   "id": "6ab1c15b",
   "metadata": {},
   "outputs": [
    {
     "name": "stdout",
     "output_type": "stream",
     "text": [
      "              precision    recall  f1-score   support\n",
      "\n",
      "           0       0.67      0.90      0.77    656933\n",
      "           1       0.59      0.25      0.35    389293\n",
      "\n",
      "    accuracy                           0.66   1046226\n",
      "   macro avg       0.63      0.57      0.56   1046226\n",
      "weighted avg       0.64      0.66      0.61   1046226\n",
      "\n"
     ]
    }
   ],
   "source": [
    "print(classification_report(y_test, xgb_results_test))"
   ]
  },
  {
   "cell_type": "code",
   "execution_count": 47,
   "id": "809c6084",
   "metadata": {},
   "outputs": [
    {
     "data": {
      "image/png": "[encoded data removed]",
      "text/plain": [
       "<Figure size 432x288 with 2 Axes>"
      ]
     },
     "metadata": {
      "needs_background": "light"
     },
     "output_type": "display_data"
    }
   ],
   "source": [
    "gb_cm=confusion_matrix(y_test, xgb_results_test)\n",
    "sns.heatmap(gb_cm, annot=True, fmt='d')\n",
    "plt.show()"
   ]
  },
  {
   "cell_type": "code",
   "execution_count": 41,
   "id": "b869a03e",
   "metadata": {},
   "outputs": [
    {
     "name": "stdout",
     "output_type": "stream",
     "text": [
      "Accuracy score in train set: 0.638\n",
      "Accuracy score in test set: 0.639\n",
      "ROC AUC score in train set: 0.542\n",
      "ROC AUC score in test set: 0.543\n"
     ]
    }
   ],
   "source": [
    "lr = LogisticRegression(random_state=1, n_jobs=-1)\n",
    "lr.fit(X_train, y_train)\n",
    "lr_results_train = lr.predict(X_train)\n",
    "lr_results = lr.predict(X_test)\n",
    "print('Accuracy score in train set: {:.3f}'.format(accuracy_score(y_train, lr_results_train)))\n",
    "print('Accuracy score in test set: {:.3f}'.format(accuracy_score(y_test, lr_results)))\n",
    "print('ROC AUC score in train set: {:.3f}'.format(roc_auc_score(y_train, lr_results_train)))\n",
    "print('ROC AUC score in test set: {:.3f}'.format(roc_auc_score(y_test, lr_results)))"
   ]
  },
  {
   "cell_type": "code",
   "execution_count": 66,
   "id": "edada88f",
   "metadata": {},
   "outputs": [
    {
     "name": "stdout",
     "output_type": "stream",
     "text": [
      "Balanced accuracy score in train set: 0.338\n",
      "Balanced accuracy score in test set: 0.339\n",
      "Accuracy score in train set: 0.629\n",
      "Accuracy score in test set: 0.629\n"
     ]
    }
   ],
   "source": [
    "rdg = RidgeClassifier(random_state=1)\n",
    "rdg.fit(X_train, y_train)\n",
    "rdg_results_train = rdg.predict(X_train)\n",
    "rdg_results = rdg.predict(X_test)\n",
    "print('Accuracy score in train set: {:.3f}'.format(accuracy_score(y_train, rdg_results_train)))\n",
    "print('Accuracy score in test set: {:.3f}'.format(accuracy_score(y_test, rdg_results)))\n",
    "print('ROC AUC score in train set: {:.3f}'.format(roc_auc_score(y_train, rdg_results_train)))\n",
    "print('ROC AUC score in test set: {:.3f}'.format(roc_auc_score(y_test, rdg_results)))"
   ]
  },
  {
   "cell_type": "code",
   "execution_count": 42,
   "id": "67a3e104",
   "metadata": {},
   "outputs": [
    {
     "name": "stdout",
     "output_type": "stream",
     "text": [
      "Accuracy score in train set: 0.615\n",
      "Accuracy score in test set: 0.616\n",
      "ROC AUC score in train set: 0.561\n",
      "ROC AUC score in test set: 0.561\n"
     ]
    }
   ],
   "source": [
    "nb = GaussianNB()\n",
    "nb.fit(X_train, y_train)\n",
    "nb_results_train = nb.predict(X_train)\n",
    "nb_results = nb.predict(X_test)\n",
    "print('Accuracy score in train set: {:.3f}'.format(accuracy_score(y_train, nb_results_train)))\n",
    "print('Accuracy score in test set: {:.3f}'.format(accuracy_score(y_test, nb_results)))\n",
    "print('ROC AUC score in train set: {:.3f}'.format(roc_auc_score(y_train, nb_results_train)))\n",
    "print('ROC AUC score in test set: {:.3f}'.format(roc_auc_score(y_test, nb_results)))"
   ]
  },
  {
   "cell_type": "code",
   "execution_count": 43,
   "id": "870eb7da",
   "metadata": {},
   "outputs": [
    {
     "name": "stdout",
     "output_type": "stream",
     "text": [
      "Accuracy score in train set: 0.808\n",
      "Accuracy score in test set: 0.618\n",
      "ROC AUC score in train set: 0.765\n",
      "ROC AUC score in test set: 0.564\n"
     ]
    }
   ],
   "source": [
    "dt = DecisionTreeClassifier()   # ok. 2 min.\n",
    "dt.fit(X_train, y_train)\n",
    "dt_results_train = dt.predict(X_train)\n",
    "dt_results = dt.predict(X_test)\n",
    "\n",
    "print('Accuracy score in train set: {:.3f}'.format(accuracy_score(y_train, dt_results_train)))\n",
    "print('Accuracy score in test set: {:.3f}'.format(accuracy_score(y_test, dt_results)))\n",
    "print('ROC AUC score in train set: {:.3f}'.format(roc_auc_score(y_train, dt_results_train)))\n",
    "print('ROC AUC score in test set: {:.3f}'.format(roc_auc_score(y_test, dt_results)))"
   ]
  },
  {
   "cell_type": "code",
   "execution_count": 44,
   "id": "2718c3af",
   "metadata": {},
   "outputs": [
    {
     "name": "stdout",
     "output_type": "stream",
     "text": [
      "Accuracy score in train set: 0.808\n",
      "Accuracy score in test set: 0.616\n",
      "ROC AUC score in train set: 0.783\n",
      "ROC AUC score in test set: 0.576\n"
     ]
    }
   ],
   "source": [
    "rf = RandomForestClassifier(random_state=1, n_jobs=-1)  # 8 min.\n",
    "rf.fit(X_train, y_train)\n",
    "rf_results_train = rf.predict(X_train)\n",
    "rf_results = rf.predict(X_test)\n",
    "\n",
    "print('Accuracy score in train set: {:.3f}'.format(accuracy_score(y_train, rf_results_train)))\n",
    "print('Accuracy score in test set: {:.3f}'.format(accuracy_score(y_test, rf_results)))\n",
    "print('ROC AUC score in train set: {:.3f}'.format(roc_auc_score(y_train, rf_results_train)))\n",
    "print('ROC AUC score in test set: {:.3f}'.format(roc_auc_score(y_test, rf_results)))"
   ]
  },
  {
   "cell_type": "markdown",
   "id": "19b53c59",
   "metadata": {},
   "source": [
    "## Model 2 (half of the dataset)"
   ]
  },
  {
   "cell_type": "code",
   "execution_count": 14,
   "id": "e3b41c0d",
   "metadata": {},
   "outputs": [
    {
     "name": "stderr",
     "output_type": "stream",
     "text": [
      "C:\\Users\\HP\\AppData\\Local\\Temp\\ipykernel_18124\\2097014546.py:2: SettingWithCopyWarning: \n",
      "A value is trying to be set on a copy of a slice from a DataFrame\n",
      "\n",
      "See the caveats in the documentation: https://pandas.pydata.org/pandas-docs/stable/user_guide/indexing.html#returning-a-view-versus-a-copy\n",
      "  df_6.drop(['DESTINATION_AIRPORT', 'ORIGIN_AIRPORT', 'ARRIVAL_DELAY', 'DATE', 'plane_route'], axis=1, inplace=True)\n"
     ]
    }
   ],
   "source": [
    "df_6 = df_air[df_air['DATE'] <= '2015-06-30']\n",
    "df_6.drop(['DESTINATION_AIRPORT', 'ORIGIN_AIRPORT', 'ARRIVAL_DELAY', 'DATE', 'plane_route'], axis=1, inplace=True)"
   ]
  },
  {
   "cell_type": "code",
   "execution_count": 15,
   "id": "da07c0e5",
   "metadata": {},
   "outputs": [],
   "source": [
    "df_ohe1 = pd.get_dummies(data=df_6, columns=['AIRLINE', 'DAY_NAME', 'MONTH_NAME'])"
   ]
  },
  {
   "cell_type": "code",
   "execution_count": 16,
   "id": "d836120c",
   "metadata": {},
   "outputs": [],
   "source": [
    "y=df_ohe1.pop('delayed')\n",
    "X=df_ohe1"
   ]
  },
  {
   "cell_type": "code",
   "execution_count": 17,
   "id": "31ae2549",
   "metadata": {},
   "outputs": [],
   "source": [
    "X_train,X_test,y_train,y_test = train_test_split(X,y,test_size=0.2,random_state=1)"
   ]
  },
  {
   "cell_type": "code",
   "execution_count": 18,
   "id": "6c8ab4ad",
   "metadata": {},
   "outputs": [],
   "source": [
    "scaler = StandardScaler()\n",
    "scaler.fit(X_train)\n",
    "X_train = scaler.transform(X_train)\n",
    "X_test = scaler.transform(X_test)"
   ]
  },
  {
   "cell_type": "code",
   "execution_count": 21,
   "id": "ccb9d8e0",
   "metadata": {},
   "outputs": [
    {
     "name": "stdout",
     "output_type": "stream",
     "text": [
      "Accuracy score in train set: 0.623\n",
      "Accuracy score in test set: 0.624\n",
      "ROC AUC score in train set: 0.548\n",
      "ROC AUC score in test set: 0.550\n"
     ]
    }
   ],
   "source": [
    "lr = LogisticRegression(random_state=1, n_jobs=-1)\n",
    "lr.fit(X_train, y_train)\n",
    "lr_results_train = lr.predict(X_train)\n",
    "lr_results = lr.predict(X_test)\n",
    "print('Accuracy score in train set: {:.3f}'.format(accuracy_score(y_train, lr_results_train)))\n",
    "print('Accuracy score in test set: {:.3f}'.format(accuracy_score(y_test, lr_results)))\n",
    "print('ROC AUC score in train set: {:.3f}'.format(roc_auc_score(y_train, lr_results_train)))\n",
    "print('ROC AUC score in test set: {:.3f}'.format(roc_auc_score(y_test, lr_results)))"
   ]
  },
  {
   "cell_type": "code",
   "execution_count": 23,
   "id": "397ff9d2",
   "metadata": {},
   "outputs": [
    {
     "name": "stdout",
     "output_type": "stream",
     "text": [
      "Accuracy score in train set: 0.805\n",
      "Accuracy score in test set: 0.607\n",
      "ROC AUC score in train set: 0.771\n",
      "ROC AUC score in test set: 0.564\n"
     ]
    }
   ],
   "source": [
    "dt = DecisionTreeClassifier()\n",
    "dt.fit(X_train, y_train)\n",
    "dt_results_train = dt.predict(X_train)\n",
    "dt_results_test = dt.predict(X_test)\n",
    "\n",
    "print('Accuracy score in train set: {:.3f}'.format(accuracy_score(y_train, dt_results_train)))\n",
    "print('Accuracy score in test set: {:.3f}'.format(accuracy_score(y_test, dt_results_test)))\n",
    "print('ROC AUC score in train set: {:.3f}'.format(roc_auc_score(y_train, dt_results_train)))\n",
    "print('ROC AUC score in test set: {:.3f}'.format(roc_auc_score(y_test, dt_results_test)))"
   ]
  },
  {
   "cell_type": "code",
   "execution_count": 24,
   "id": "4dc4bf0b",
   "metadata": {},
   "outputs": [
    {
     "name": "stdout",
     "output_type": "stream",
     "text": [
      "              precision    recall  f1-score   support\n",
      "\n",
      "           0       0.65      0.76      0.70    342560\n",
      "           1       0.50      0.37      0.42    221151\n",
      "\n",
      "    accuracy                           0.61    563711\n",
      "   macro avg       0.57      0.56      0.56    563711\n",
      "weighted avg       0.59      0.61      0.59    563711\n",
      "\n"
     ]
    }
   ],
   "source": [
    "print(classification_report(y_test, dt_results_test))"
   ]
  },
  {
   "cell_type": "code",
   "execution_count": 25,
   "id": "8dbfec86",
   "metadata": {},
   "outputs": [
    {
     "data": {
      "image/png": "[encoded data removed]",
      "text/plain": [
       "<Figure size 432x288 with 2 Axes>"
      ]
     },
     "metadata": {
      "needs_background": "light"
     },
     "output_type": "display_data"
    }
   ],
   "source": [
    "gb_cm=confusion_matrix(y_test, dt_results_test)\n",
    "sns.heatmap(gb_cm, annot=True, fmt='d')\n",
    "plt.show()"
   ]
  },
  {
   "cell_type": "code",
   "execution_count": 27,
   "id": "9c3dba6c",
   "metadata": {},
   "outputs": [
    {
     "name": "stdout",
     "output_type": "stream",
     "text": [
      "Accuracy score in train set: 0.647\n",
      "Accuracy score in test set: 0.645\n",
      "ROC AUC score in train set: 0.585\n",
      "ROC AUC score in test set: 0.583\n"
     ]
    }
   ],
   "source": [
    "xgb = XGBClassifier(random_state=1, n_jobs=-1) # 3 min.\n",
    "xgb.fit(X_train, y_train)\n",
    "xgb_results_train = xgb.predict(X_train)\n",
    "xgb_results_test = xgb.predict(X_test)\n",
    "\n",
    "print('Accuracy score in train set: {:.3f}'.format(accuracy_score(y_train, xgb_results_train)))\n",
    "print('Accuracy score in test set: {:.3f}'.format(accuracy_score(y_test, xgb_results_test)))\n",
    "print('ROC AUC score in train set: {:.3f}'.format(roc_auc_score(y_train, xgb_results_train)))\n",
    "print('ROC AUC score in test set: {:.3f}'.format(roc_auc_score(y_test, xgb_results_test)))"
   ]
  },
  {
   "cell_type": "code",
   "execution_count": 28,
   "id": "2eeb79b7",
   "metadata": {},
   "outputs": [
    {
     "name": "stdout",
     "output_type": "stream",
     "text": [
      "Accuracy score in train set: 0.611\n",
      "Accuracy score in test set: 0.610\n",
      "ROC AUC score in train set: 0.556\n",
      "ROC AUC score in test set: 0.557\n"
     ]
    }
   ],
   "source": [
    "nb = GaussianNB()\n",
    "nb.fit(X_train, y_train)\n",
    "nb_results_train = nb.predict(X_train)\n",
    "nb_results = nb.predict(X_test)\n",
    "print('Accuracy score in train set: {:.3f}'.format(accuracy_score(y_train, nb_results_train)))\n",
    "print('Accuracy score in test set: {:.3f}'.format(accuracy_score(y_test, nb_results)))\n",
    "print('ROC AUC score in train set: {:.3f}'.format(roc_auc_score(y_train, nb_results_train)))\n",
    "print('ROC AUC score in test set: {:.3f}'.format(roc_auc_score(y_test, nb_results)))"
   ]
  },
  {
   "cell_type": "code",
   "execution_count": 29,
   "id": "af55ad47",
   "metadata": {},
   "outputs": [
    {
     "name": "stdout",
     "output_type": "stream",
     "text": [
      "Accuracy score in train set: 0.805\n",
      "Accuracy score in test set: 0.604\n",
      "ROC AUC score in train set: 0.787\n",
      "ROC AUC score in test set: 0.575\n"
     ]
    }
   ],
   "source": [
    "rf = RandomForestClassifier(random_state=1, n_jobs=-1)\n",
    "rf.fit(X_train, y_train)\n",
    "rf_results_train = rf.predict(X_train)\n",
    "rf_results_test = rf.predict(X_test)\n",
    "\n",
    "print('Accuracy score in train set: {:.3f}'.format(accuracy_score(y_train, rf_results_train)))\n",
    "print('Accuracy score in test set: {:.3f}'.format(accuracy_score(y_test, rf_results_test)))\n",
    "print('ROC AUC score in train set: {:.3f}'.format(roc_auc_score(y_train, rf_results_train)))\n",
    "print('ROC AUC score in test set: {:.3f}'.format(roc_auc_score(y_test, rf_results_test)))"
   ]
  },
  {
   "cell_type": "code",
   "execution_count": 30,
   "id": "6eeeb91c",
   "metadata": {},
   "outputs": [
    {
     "name": "stdout",
     "output_type": "stream",
     "text": [
      "              precision    recall  f1-score   support\n",
      "\n",
      "           0       0.65      0.76      0.70    342560\n",
      "           1       0.50      0.37      0.42    221151\n",
      "\n",
      "    accuracy                           0.61    563711\n",
      "   macro avg       0.57      0.56      0.56    563711\n",
      "weighted avg       0.59      0.61      0.59    563711\n",
      "\n"
     ]
    }
   ],
   "source": [
    "print(classification_report(y_test, dt_results_test))"
   ]
  },
  {
   "cell_type": "code",
   "execution_count": 31,
   "id": "c49abf0f",
   "metadata": {},
   "outputs": [
    {
     "data": {
      "image/png": "[encoded data removed]",
      "text/plain": [
       "<Figure size 432x288 with 2 Axes>"
      ]
     },
     "metadata": {
      "needs_background": "light"
     },
     "output_type": "display_data"
    }
   ],
   "source": [
    "gb_cm=confusion_matrix(y_test, dt_results_test)\n",
    "sns.heatmap(gb_cm, annot=True, fmt='d')\n",
    "plt.show()"
   ]
  },
  {
   "cell_type": "markdown",
   "id": "ad661ff6",
   "metadata": {},
   "source": [
    "## Model 2 z walidacją"
   ]
  },
  {
   "cell_type": "code",
   "execution_count": 18,
   "id": "9bec448f",
   "metadata": {},
   "outputs": [
    {
     "name": "stderr",
     "output_type": "stream",
     "text": [
      "C:\\Users\\HP\\AppData\\Local\\Temp\\ipykernel_11484\\2097014546.py:2: SettingWithCopyWarning: \n",
      "A value is trying to be set on a copy of a slice from a DataFrame\n",
      "\n",
      "See the caveats in the documentation: https://pandas.pydata.org/pandas-docs/stable/user_guide/indexing.html#returning-a-view-versus-a-copy\n",
      "  df_6.drop(['DESTINATION_AIRPORT', 'ORIGIN_AIRPORT', 'ARRIVAL_DELAY', 'DATE', 'plane_route'], axis=1, inplace=True)\n"
     ]
    }
   ],
   "source": [
    "df_6 = df_air[df_air['DATE'] <= '2015-06-30']\n",
    "df_6.drop(['DESTINATION_AIRPORT', 'ORIGIN_AIRPORT', 'ARRIVAL_DELAY', 'DATE', 'plane_route'], axis=1, inplace=True)"
   ]
  },
  {
   "cell_type": "code",
   "execution_count": 19,
   "id": "33dc29ee",
   "metadata": {},
   "outputs": [
    {
     "data": {
      "text/plain": [
       "(2818553, 37)"
      ]
     },
     "execution_count": 19,
     "metadata": {},
     "output_type": "execute_result"
    }
   ],
   "source": [
    "df_ohe2 = pd.get_dummies(data=df_6, columns=['AIRLINE', 'DAY_NAME', 'MONTH_NAME', 'DAY_TYPE'])\n",
    "df_ohe2.shape"
   ]
  },
  {
   "cell_type": "code",
   "execution_count": 21,
   "id": "2b7ccbef",
   "metadata": {},
   "outputs": [],
   "source": [
    "y=df_ohe2.pop('delayed')\n",
    "X=df_ohe2"
   ]
  },
  {
   "cell_type": "code",
   "execution_count": 22,
   "id": "49b84ebb",
   "metadata": {},
   "outputs": [],
   "source": [
    "X_train,X_test,y_train,y_test = train_test_split(X,y,test_size=0.2, random_state=1)\n",
    "X_train, X_val, y_train, y_val = train_test_split(X, y, test_size = 0.2, random_state=1)"
   ]
  },
  {
   "cell_type": "code",
   "execution_count": 23,
   "id": "72064b74",
   "metadata": {},
   "outputs": [],
   "source": [
    "scaler = StandardScaler()\n",
    "scaler.fit(X_train)\n",
    "X_train = scaler.transform(X_train)\n",
    "X_val = scaler.transform(X_val)\n",
    "X_test = scaler.transform(X_test)"
   ]
  },
  {
   "cell_type": "code",
   "execution_count": 26,
   "id": "d3ed66f6",
   "metadata": {},
   "outputs": [
    {
     "name": "stdout",
     "output_type": "stream",
     "text": [
      "ROC AUC score in train set: 0.771\n",
      "ROC AUC score in val set: 0.564\n",
      "ROC AUC score in test set: 0.564\n"
     ]
    }
   ],
   "source": [
    "dt = DecisionTreeClassifier()\n",
    "dt.fit(X_train, y_train)\n",
    "dt_results_train = dt.predict(X_train)\n",
    "dt_results_val = dt.predict(X_val)\n",
    "dt_results_test = dt.predict(X_test)\n",
    "\n",
    "print('ROC AUC score in train set: {:.3f}'.format(roc_auc_score(y_train, dt_results_train)))\n",
    "print('ROC AUC score in val set: {:.3f}'.format(roc_auc_score(y_val, dt_results_val)))\n",
    "print('ROC AUC score in test set: {:.3f}'.format(roc_auc_score(y_test, dt_results_test)))"
   ]
  },
  {
   "cell_type": "code",
   "execution_count": 27,
   "id": "77887970",
   "metadata": {},
   "outputs": [
    {
     "name": "stdout",
     "output_type": "stream",
     "text": [
      "ROC AUC score in train set: 0.787\n",
      "ROC AUC score in val set: 0.564\n",
      "ROC AUC score in test set: 0.575\n"
     ]
    }
   ],
   "source": [
    "rf = RandomForestClassifier(random_state=1, n_jobs=-1)\n",
    "rf.fit(X_train, y_train)\n",
    "rf_results_train = rf.predict(X_train)\n",
    "rf_results_val = dt.predict(X_val)\n",
    "rf_results_test = rf.predict(X_test)\n",
    "\n",
    "print('ROC AUC score in train set: {:.3f}'.format(roc_auc_score(y_train, rf_results_train)))\n",
    "print('ROC AUC score in val set: {:.3f}'.format(roc_auc_score(y_val, rf_results_val)))\n",
    "print('ROC AUC score in test set: {:.3f}'.format(roc_auc_score(y_test, rf_results_test)))"
   ]
  },
  {
   "cell_type": "markdown",
   "id": "77584db0",
   "metadata": {},
   "source": [
    "## Model 3"
   ]
  },
  {
   "cell_type": "code",
   "execution_count": 19,
   "id": "65fc3f04",
   "metadata": {},
   "outputs": [
    {
     "name": "stderr",
     "output_type": "stream",
     "text": [
      "C:\\Users\\HP\\AppData\\Local\\Temp\\ipykernel_17872\\3164434127.py:2: SettingWithCopyWarning: \n",
      "A value is trying to be set on a copy of a slice from a DataFrame\n",
      "\n",
      "See the caveats in the documentation: https://pandas.pydata.org/pandas-docs/stable/user_guide/indexing.html#returning-a-view-versus-a-copy\n",
      "  df_6.drop(['ARRIVAL_DELAY', 'DATE'], axis=1, inplace=True)\n"
     ]
    }
   ],
   "source": [
    "df_6 = df_air[df_air['DATE'] <= '2015-06-30']\n",
    "df_6.drop(['ARRIVAL_DELAY', 'DATE'], axis=1, inplace=True)"
   ]
  },
  {
   "cell_type": "code",
   "execution_count": 21,
   "id": "f801fedf",
   "metadata": {},
   "outputs": [
    {
     "data": {
      "text/plain": [
       "(2818553, 676)"
      ]
     },
     "execution_count": 21,
     "metadata": {},
     "output_type": "execute_result"
    }
   ],
   "source": [
    "df_ohe3 = pd.get_dummies(data=df_6, columns=['AIRLINE', 'DAY_NAME', 'MONTH_NAME', 'ORIGIN_AIRPORT',\n",
    "                                             'DESTINATION_AIRPORT'])\n",
    "df_ohe3.shape"
   ]
  },
  {
   "cell_type": "code",
   "execution_count": 22,
   "id": "c83d4c8d",
   "metadata": {},
   "outputs": [],
   "source": [
    "y=df_ohe3.pop('delayed')\n",
    "X=df_ohe3"
   ]
  },
  {
   "cell_type": "code",
   "execution_count": 23,
   "id": "ba533e15",
   "metadata": {},
   "outputs": [],
   "source": [
    "X_train,X_test,y_train,y_test = train_test_split(X,y,test_size=0.2, random_state=1)"
   ]
  },
  {
   "cell_type": "code",
   "execution_count": 24,
   "id": "4993da4d",
   "metadata": {},
   "outputs": [],
   "source": [
    "scaler = StandardScaler()\n",
    "scaler.fit(X_train)\n",
    "X_train = scaler.transform(X_train)\n",
    "X_test = scaler.transform(X_test)"
   ]
  },
  {
   "cell_type": "code",
   "execution_count": 25,
   "id": "c6b91ea4",
   "metadata": {},
   "outputs": [
    {
     "name": "stdout",
     "output_type": "stream",
     "text": [
      "Accuracy score in train set: 0.811\n",
      "Accuracy score in test set: 0.607\n",
      "ROC AUC score in train set: 0.778\n",
      "ROC AUC score in test set: 0.565\n"
     ]
    }
   ],
   "source": [
    "dt = DecisionTreeClassifier()   # 5 min\n",
    "dt.fit(X_train, y_train)\n",
    "dt_results_train = dt.predict(X_train)\n",
    "dt_results_test = dt.predict(X_test)\n",
    "\n",
    "print('Accuracy score in train set: {:.3f}'.format(accuracy_score(y_train, dt_results_train)))\n",
    "print('Accuracy score in test set: {:.3f}'.format(accuracy_score(y_test, dt_results_test)))\n",
    "print('ROC AUC score in train set: {:.3f}'.format(roc_auc_score(y_train, dt_results_train)))\n",
    "print('ROC AUC score in test set: {:.3f}'.format(roc_auc_score(y_test, dt_results_test)))"
   ]
  },
  {
   "cell_type": "code",
   "execution_count": 30,
   "id": "d0c4c638",
   "metadata": {},
   "outputs": [],
   "source": [
    "scaler = StandardScaler()\n",
    "scaler.fit(X)\n",
    "X = scaler.transform(X)"
   ]
  },
  {
   "cell_type": "code",
   "execution_count": 33,
   "id": "5dde0b09",
   "metadata": {},
   "outputs": [
    {
     "ename": "TypeError",
     "evalue": "unsupported format string passed to numpy.ndarray.__format__",
     "output_type": "error",
     "traceback": [
      "\u001b[1;31m---------------------------------------------------------------------------\u001b[0m",
      "\u001b[1;31mTypeError\u001b[0m                                 Traceback (most recent call last)",
      "Input \u001b[1;32mIn [33]\u001b[0m, in \u001b[0;36m<cell line: 2>\u001b[1;34m()\u001b[0m\n\u001b[0;32m      1\u001b[0m skf \u001b[38;5;241m=\u001b[39m StratifiedKFold()\n\u001b[1;32m----> 2\u001b[0m \u001b[38;5;28mprint\u001b[39m(\u001b[38;5;124;43m'\u001b[39;49m\u001b[38;5;124;43mStratifiedKFold cross validation score:\u001b[39;49m\u001b[38;5;132;43;01m{:.3f}\u001b[39;49;00m\u001b[38;5;124;43m'\u001b[39;49m\u001b[38;5;241;43m.\u001b[39;49m\u001b[43mformat\u001b[49m\u001b[43m(\u001b[49m\u001b[43mcross_val_score\u001b[49m\u001b[43m(\u001b[49m\u001b[43mdt\u001b[49m\u001b[43m,\u001b[49m\u001b[43m \u001b[49m\u001b[43mX\u001b[49m\u001b[43m,\u001b[49m\u001b[43m \u001b[49m\u001b[43my\u001b[49m\u001b[43m,\u001b[49m\u001b[43m \u001b[49m\u001b[43mcv\u001b[49m\u001b[38;5;241;43m=\u001b[39;49m\u001b[43mskf\u001b[49m\u001b[43m)\u001b[49m\u001b[43m)\u001b[49m)\n",
      "\u001b[1;31mTypeError\u001b[0m: unsupported format string passed to numpy.ndarray.__format__"
     ]
    }
   ],
   "source": [
    "skf = StratifiedKFold()         # 1h i błąd\n",
    "print('StratifiedKFold cross validation score:{:.3f}'.format(cross_val_score(dt, X, y, cv=skf)))"
   ]
  },
  {
   "cell_type": "code",
   "execution_count": 34,
   "id": "c9cdfcff",
   "metadata": {},
   "outputs": [
    {
     "ename": "TypeError",
     "evalue": "unsupported format string passed to numpy.ndarray.__format__",
     "output_type": "error",
     "traceback": [
      "\u001b[1;31m---------------------------------------------------------------------------\u001b[0m",
      "\u001b[1;31mTypeError\u001b[0m                                 Traceback (most recent call last)",
      "Input \u001b[1;32mIn [34]\u001b[0m, in \u001b[0;36m<cell line: 2>\u001b[1;34m()\u001b[0m\n\u001b[0;32m      1\u001b[0m scores \u001b[38;5;241m=\u001b[39m cross_val_score(dt, X, y)\n\u001b[1;32m----> 2\u001b[0m \u001b[38;5;28mprint\u001b[39m(\u001b[38;5;124;43m'\u001b[39;49m\u001b[38;5;124;43mCross validation score:\u001b[39;49m\u001b[38;5;132;43;01m{:.3f}\u001b[39;49;00m\u001b[38;5;124;43m'\u001b[39;49m\u001b[38;5;241;43m.\u001b[39;49m\u001b[43mformat\u001b[49m\u001b[43m(\u001b[49m\u001b[43mscores\u001b[49m\u001b[43m)\u001b[49m)\n",
      "\u001b[1;31mTypeError\u001b[0m: unsupported format string passed to numpy.ndarray.__format__"
     ]
    }
   ],
   "source": [
    "scores = cross_val_score(dt, X, y)            # 1h i błąd\n",
    "print('Cross validation score:{:.3f}'.format(scores))"
   ]
  },
  {
   "cell_type": "code",
   "execution_count": 36,
   "id": "82f4b3ce",
   "metadata": {},
   "outputs": [
    {
     "ename": "KeyboardInterrupt",
     "evalue": "",
     "output_type": "error",
     "traceback": [
      "\u001b[1;31m---------------------------------------------------------------------------\u001b[0m",
      "\u001b[1;31mKeyboardInterrupt\u001b[0m                         Traceback (most recent call last)",
      "Input \u001b[1;32mIn [36]\u001b[0m, in \u001b[0;36m<cell line: 5>\u001b[1;34m()\u001b[0m\n\u001b[0;32m      2\u001b[0m param_gridDT \u001b[38;5;241m=\u001b[39m {\u001b[38;5;124m'\u001b[39m\u001b[38;5;124mmax_depth\u001b[39m\u001b[38;5;124m'\u001b[39m:\u001b[38;5;28mlist\u001b[39m(\u001b[38;5;28mrange\u001b[39m(\u001b[38;5;241m5\u001b[39m,\u001b[38;5;241m10\u001b[39m)), \u001b[38;5;124m'\u001b[39m\u001b[38;5;124mrandom_state\u001b[39m\u001b[38;5;124m'\u001b[39m: [\u001b[38;5;241m1\u001b[39m]}\n\u001b[0;32m      4\u001b[0m clf_dt \u001b[38;5;241m=\u001b[39m GridSearchCV(dt, param_gridDT, cv\u001b[38;5;241m=\u001b[39m\u001b[38;5;241m5\u001b[39m)\n\u001b[1;32m----> 5\u001b[0m \u001b[43mclf_dt\u001b[49m\u001b[38;5;241;43m.\u001b[39;49m\u001b[43mfit\u001b[49m\u001b[43m(\u001b[49m\u001b[43mX_train\u001b[49m\u001b[43m,\u001b[49m\u001b[43m \u001b[49m\u001b[43my_train\u001b[49m\u001b[43m)\u001b[49m\n",
      "File \u001b[1;32m~\\anaconda3\\lib\\site-packages\\sklearn\\model_selection\\_search.py:910\u001b[0m, in \u001b[0;36mBaseSearchCV.fit\u001b[1;34m(self, X, y, groups, **fit_params)\u001b[0m\n\u001b[0;32m    908\u001b[0m refit_start_time \u001b[38;5;241m=\u001b[39m time\u001b[38;5;241m.\u001b[39mtime()\n\u001b[0;32m    909\u001b[0m \u001b[38;5;28;01mif\u001b[39;00m y \u001b[38;5;129;01mis\u001b[39;00m \u001b[38;5;129;01mnot\u001b[39;00m \u001b[38;5;28;01mNone\u001b[39;00m:\n\u001b[1;32m--> 910\u001b[0m     \u001b[38;5;28mself\u001b[39m\u001b[38;5;241m.\u001b[39mbest_estimator_\u001b[38;5;241m.\u001b[39mfit(X, y, \u001b[38;5;241m*\u001b[39m\u001b[38;5;241m*\u001b[39mfit_params)\n\u001b[0;32m    911\u001b[0m \u001b[38;5;28;01melse\u001b[39;00m:\n\u001b[0;32m    912\u001b[0m     \u001b[38;5;28mself\u001b[39m\u001b[38;5;241m.\u001b[39mbest_estimator_\u001b[38;5;241m.\u001b[39mfit(X, \u001b[38;5;241m*\u001b[39m\u001b[38;5;241m*\u001b[39mfit_params)\n",
      "File \u001b[1;32m~\\anaconda3\\lib\\site-packages\\sklearn\\tree\\_classes.py:969\u001b[0m, in \u001b[0;36mDecisionTreeClassifier.fit\u001b[1;34m(self, X, y, sample_weight, check_input)\u001b[0m\n\u001b[0;32m    939\u001b[0m \u001b[38;5;28;01mdef\u001b[39;00m \u001b[38;5;21mfit\u001b[39m(\u001b[38;5;28mself\u001b[39m, X, y, sample_weight\u001b[38;5;241m=\u001b[39m\u001b[38;5;28;01mNone\u001b[39;00m, check_input\u001b[38;5;241m=\u001b[39m\u001b[38;5;28;01mTrue\u001b[39;00m):\n\u001b[0;32m    940\u001b[0m     \u001b[38;5;124;03m\"\"\"Build a decision tree classifier from the training set (X, y).\u001b[39;00m\n\u001b[0;32m    941\u001b[0m \n\u001b[0;32m    942\u001b[0m \u001b[38;5;124;03m    Parameters\u001b[39;00m\n\u001b[1;32m   (...)\u001b[0m\n\u001b[0;32m    966\u001b[0m \u001b[38;5;124;03m        Fitted estimator.\u001b[39;00m\n\u001b[0;32m    967\u001b[0m \u001b[38;5;124;03m    \"\"\"\u001b[39;00m\n\u001b[1;32m--> 969\u001b[0m     \u001b[38;5;28;43msuper\u001b[39;49m\u001b[43m(\u001b[49m\u001b[43m)\u001b[49m\u001b[38;5;241;43m.\u001b[39;49m\u001b[43mfit\u001b[49m\u001b[43m(\u001b[49m\n\u001b[0;32m    970\u001b[0m \u001b[43m        \u001b[49m\u001b[43mX\u001b[49m\u001b[43m,\u001b[49m\n\u001b[0;32m    971\u001b[0m \u001b[43m        \u001b[49m\u001b[43my\u001b[49m\u001b[43m,\u001b[49m\n\u001b[0;32m    972\u001b[0m \u001b[43m        \u001b[49m\u001b[43msample_weight\u001b[49m\u001b[38;5;241;43m=\u001b[39;49m\u001b[43msample_weight\u001b[49m\u001b[43m,\u001b[49m\n\u001b[0;32m    973\u001b[0m \u001b[43m        \u001b[49m\u001b[43mcheck_input\u001b[49m\u001b[38;5;241;43m=\u001b[39;49m\u001b[43mcheck_input\u001b[49m\u001b[43m,\u001b[49m\n\u001b[0;32m    974\u001b[0m \u001b[43m    \u001b[49m\u001b[43m)\u001b[49m\n\u001b[0;32m    975\u001b[0m     \u001b[38;5;28;01mreturn\u001b[39;00m \u001b[38;5;28mself\u001b[39m\n",
      "File \u001b[1;32m~\\anaconda3\\lib\\site-packages\\sklearn\\tree\\_classes.py:458\u001b[0m, in \u001b[0;36mBaseDecisionTree.fit\u001b[1;34m(self, X, y, sample_weight, check_input)\u001b[0m\n\u001b[0;32m    447\u001b[0m \u001b[38;5;28;01melse\u001b[39;00m:\n\u001b[0;32m    448\u001b[0m     builder \u001b[38;5;241m=\u001b[39m BestFirstTreeBuilder(\n\u001b[0;32m    449\u001b[0m         splitter,\n\u001b[0;32m    450\u001b[0m         min_samples_split,\n\u001b[1;32m   (...)\u001b[0m\n\u001b[0;32m    455\u001b[0m         \u001b[38;5;28mself\u001b[39m\u001b[38;5;241m.\u001b[39mmin_impurity_decrease,\n\u001b[0;32m    456\u001b[0m     )\n\u001b[1;32m--> 458\u001b[0m \u001b[43mbuilder\u001b[49m\u001b[38;5;241;43m.\u001b[39;49m\u001b[43mbuild\u001b[49m\u001b[43m(\u001b[49m\u001b[38;5;28;43mself\u001b[39;49m\u001b[38;5;241;43m.\u001b[39;49m\u001b[43mtree_\u001b[49m\u001b[43m,\u001b[49m\u001b[43m \u001b[49m\u001b[43mX\u001b[49m\u001b[43m,\u001b[49m\u001b[43m \u001b[49m\u001b[43my\u001b[49m\u001b[43m,\u001b[49m\u001b[43m \u001b[49m\u001b[43msample_weight\u001b[49m\u001b[43m)\u001b[49m\n\u001b[0;32m    460\u001b[0m \u001b[38;5;28;01mif\u001b[39;00m \u001b[38;5;28mself\u001b[39m\u001b[38;5;241m.\u001b[39mn_outputs_ \u001b[38;5;241m==\u001b[39m \u001b[38;5;241m1\u001b[39m \u001b[38;5;129;01mand\u001b[39;00m is_classifier(\u001b[38;5;28mself\u001b[39m):\n\u001b[0;32m    461\u001b[0m     \u001b[38;5;28mself\u001b[39m\u001b[38;5;241m.\u001b[39mn_classes_ \u001b[38;5;241m=\u001b[39m \u001b[38;5;28mself\u001b[39m\u001b[38;5;241m.\u001b[39mn_classes_[\u001b[38;5;241m0\u001b[39m]\n",
      "\u001b[1;31mKeyboardInterrupt\u001b[0m: "
     ]
    }
   ],
   "source": [
    "dt = DecisionTreeClassifier()     #  wyłączam po 3h\n",
    "param_gridDT = {'max_depth':list(range(5,10)), 'random_state': [1]}\n",
    "\n",
    "clf_dt = GridSearchCV(dt, param_gridDT, cv=5)\n",
    "clf_dt.fit(X_train, y_train)"
   ]
  },
  {
   "cell_type": "code",
   "execution_count": 26,
   "id": "f5de3823",
   "metadata": {},
   "outputs": [
    {
     "name": "stdout",
     "output_type": "stream",
     "text": [
      "Accuracy score in train set: 0.811\n",
      "Accuracy score in test set: 0.606\n",
      "ROC AUC score in train set: 0.794\n",
      "ROC AUC score in test set: 0.577\n"
     ]
    }
   ],
   "source": [
    "rf = RandomForestClassifier(random_state=1, n_jobs=-1) # 30 min\n",
    "rf.fit(X_train, y_train)\n",
    "rf_results_train = rf.predict(X_train)\n",
    "rf_results_test = rf.predict(X_test)\n",
    "\n",
    "print('Accuracy score in train set: {:.3f}'.format(accuracy_score(y_train, rf_results_train)))\n",
    "print('Accuracy score in test set: {:.3f}'.format(accuracy_score(y_test, rf_results_test)))\n",
    "print('ROC AUC score in train set: {:.3f}'.format(roc_auc_score(y_train, rf_results_train)))\n",
    "print('ROC AUC score in test set: {:.3f}'.format(roc_auc_score(y_test, rf_results_test)))"
   ]
  },
  {
   "cell_type": "markdown",
   "id": "0a6aa334",
   "metadata": {},
   "source": [
    "## Model 4.1 (sam styczeń)"
   ]
  },
  {
   "cell_type": "code",
   "execution_count": 14,
   "id": "5766f601",
   "metadata": {},
   "outputs": [],
   "source": [
    "df_1 = df_air[df_air['DATE'] <= '2015-01-31']"
   ]
  },
  {
   "cell_type": "code",
   "execution_count": 16,
   "id": "eb2442bf",
   "metadata": {
    "collapsed": true
   },
   "outputs": [
    {
     "ename": "KeyError",
     "evalue": "\"['DESTINATION_AIRPORT', 'ORIGIN_AIRPORT', 'ARRIVAL_DELAY', 'DATE', 'plane_route'] not found in axis\"",
     "output_type": "error",
     "traceback": [
      "\u001b[1;31m---------------------------------------------------------------------------\u001b[0m",
      "\u001b[1;31mKeyError\u001b[0m                                  Traceback (most recent call last)",
      "Input \u001b[1;32mIn [16]\u001b[0m, in \u001b[0;36m<cell line: 1>\u001b[1;34m()\u001b[0m\n\u001b[1;32m----> 1\u001b[0m df_11 \u001b[38;5;241m=\u001b[39m \u001b[43mdf_1\u001b[49m\u001b[38;5;241;43m.\u001b[39;49m\u001b[43mdrop\u001b[49m\u001b[43m(\u001b[49m\u001b[43m[\u001b[49m\u001b[38;5;124;43m'\u001b[39;49m\u001b[38;5;124;43mDESTINATION_AIRPORT\u001b[39;49m\u001b[38;5;124;43m'\u001b[39;49m\u001b[43m,\u001b[49m\u001b[43m \u001b[49m\u001b[38;5;124;43m'\u001b[39;49m\u001b[38;5;124;43mORIGIN_AIRPORT\u001b[39;49m\u001b[38;5;124;43m'\u001b[39;49m\u001b[43m,\u001b[49m\u001b[43m \u001b[49m\u001b[38;5;124;43m'\u001b[39;49m\u001b[38;5;124;43mARRIVAL_DELAY\u001b[39;49m\u001b[38;5;124;43m'\u001b[39;49m\u001b[43m,\u001b[49m\u001b[43m \u001b[49m\u001b[38;5;124;43m'\u001b[39;49m\u001b[38;5;124;43mDATE\u001b[39;49m\u001b[38;5;124;43m'\u001b[39;49m\u001b[43m,\u001b[49m\u001b[43m \u001b[49m\u001b[38;5;124;43m'\u001b[39;49m\u001b[38;5;124;43mplane_route\u001b[39;49m\u001b[38;5;124;43m'\u001b[39;49m\u001b[43m]\u001b[49m\u001b[43m,\u001b[49m\u001b[43m \u001b[49m\n\u001b[0;32m      2\u001b[0m \u001b[43m                  \u001b[49m\u001b[43maxis\u001b[49m\u001b[38;5;241;43m=\u001b[39;49m\u001b[38;5;241;43m1\u001b[39;49m\u001b[43m,\u001b[49m\u001b[43m \u001b[49m\u001b[43minplace\u001b[49m\u001b[38;5;241;43m=\u001b[39;49m\u001b[38;5;28;43;01mTrue\u001b[39;49;00m\u001b[43m)\u001b[49m\n\u001b[0;32m      3\u001b[0m df_11\n",
      "File \u001b[1;32m~\\anaconda3\\lib\\site-packages\\pandas\\util\\_decorators.py:311\u001b[0m, in \u001b[0;36mdeprecate_nonkeyword_arguments.<locals>.decorate.<locals>.wrapper\u001b[1;34m(*args, **kwargs)\u001b[0m\n\u001b[0;32m    305\u001b[0m \u001b[38;5;28;01mif\u001b[39;00m \u001b[38;5;28mlen\u001b[39m(args) \u001b[38;5;241m>\u001b[39m num_allow_args:\n\u001b[0;32m    306\u001b[0m     warnings\u001b[38;5;241m.\u001b[39mwarn(\n\u001b[0;32m    307\u001b[0m         msg\u001b[38;5;241m.\u001b[39mformat(arguments\u001b[38;5;241m=\u001b[39marguments),\n\u001b[0;32m    308\u001b[0m         \u001b[38;5;167;01mFutureWarning\u001b[39;00m,\n\u001b[0;32m    309\u001b[0m         stacklevel\u001b[38;5;241m=\u001b[39mstacklevel,\n\u001b[0;32m    310\u001b[0m     )\n\u001b[1;32m--> 311\u001b[0m \u001b[38;5;28;01mreturn\u001b[39;00m func(\u001b[38;5;241m*\u001b[39margs, \u001b[38;5;241m*\u001b[39m\u001b[38;5;241m*\u001b[39mkwargs)\n",
      "File \u001b[1;32m~\\anaconda3\\lib\\site-packages\\pandas\\core\\frame.py:4954\u001b[0m, in \u001b[0;36mDataFrame.drop\u001b[1;34m(self, labels, axis, index, columns, level, inplace, errors)\u001b[0m\n\u001b[0;32m   4806\u001b[0m \u001b[38;5;129m@deprecate_nonkeyword_arguments\u001b[39m(version\u001b[38;5;241m=\u001b[39m\u001b[38;5;28;01mNone\u001b[39;00m, allowed_args\u001b[38;5;241m=\u001b[39m[\u001b[38;5;124m\"\u001b[39m\u001b[38;5;124mself\u001b[39m\u001b[38;5;124m\"\u001b[39m, \u001b[38;5;124m\"\u001b[39m\u001b[38;5;124mlabels\u001b[39m\u001b[38;5;124m\"\u001b[39m])\n\u001b[0;32m   4807\u001b[0m \u001b[38;5;28;01mdef\u001b[39;00m \u001b[38;5;21mdrop\u001b[39m(\n\u001b[0;32m   4808\u001b[0m     \u001b[38;5;28mself\u001b[39m,\n\u001b[1;32m   (...)\u001b[0m\n\u001b[0;32m   4815\u001b[0m     errors: \u001b[38;5;28mstr\u001b[39m \u001b[38;5;241m=\u001b[39m \u001b[38;5;124m\"\u001b[39m\u001b[38;5;124mraise\u001b[39m\u001b[38;5;124m\"\u001b[39m,\n\u001b[0;32m   4816\u001b[0m ):\n\u001b[0;32m   4817\u001b[0m     \u001b[38;5;124;03m\"\"\"\u001b[39;00m\n\u001b[0;32m   4818\u001b[0m \u001b[38;5;124;03m    Drop specified labels from rows or columns.\u001b[39;00m\n\u001b[0;32m   4819\u001b[0m \n\u001b[1;32m   (...)\u001b[0m\n\u001b[0;32m   4952\u001b[0m \u001b[38;5;124;03m            weight  1.0     0.8\u001b[39;00m\n\u001b[0;32m   4953\u001b[0m \u001b[38;5;124;03m    \"\"\"\u001b[39;00m\n\u001b[1;32m-> 4954\u001b[0m     \u001b[38;5;28;01mreturn\u001b[39;00m \u001b[38;5;28;43msuper\u001b[39;49m\u001b[43m(\u001b[49m\u001b[43m)\u001b[49m\u001b[38;5;241;43m.\u001b[39;49m\u001b[43mdrop\u001b[49m\u001b[43m(\u001b[49m\n\u001b[0;32m   4955\u001b[0m \u001b[43m        \u001b[49m\u001b[43mlabels\u001b[49m\u001b[38;5;241;43m=\u001b[39;49m\u001b[43mlabels\u001b[49m\u001b[43m,\u001b[49m\n\u001b[0;32m   4956\u001b[0m \u001b[43m        \u001b[49m\u001b[43maxis\u001b[49m\u001b[38;5;241;43m=\u001b[39;49m\u001b[43maxis\u001b[49m\u001b[43m,\u001b[49m\n\u001b[0;32m   4957\u001b[0m \u001b[43m        \u001b[49m\u001b[43mindex\u001b[49m\u001b[38;5;241;43m=\u001b[39;49m\u001b[43mindex\u001b[49m\u001b[43m,\u001b[49m\n\u001b[0;32m   4958\u001b[0m \u001b[43m        \u001b[49m\u001b[43mcolumns\u001b[49m\u001b[38;5;241;43m=\u001b[39;49m\u001b[43mcolumns\u001b[49m\u001b[43m,\u001b[49m\n\u001b[0;32m   4959\u001b[0m \u001b[43m        \u001b[49m\u001b[43mlevel\u001b[49m\u001b[38;5;241;43m=\u001b[39;49m\u001b[43mlevel\u001b[49m\u001b[43m,\u001b[49m\n\u001b[0;32m   4960\u001b[0m \u001b[43m        \u001b[49m\u001b[43minplace\u001b[49m\u001b[38;5;241;43m=\u001b[39;49m\u001b[43minplace\u001b[49m\u001b[43m,\u001b[49m\n\u001b[0;32m   4961\u001b[0m \u001b[43m        \u001b[49m\u001b[43merrors\u001b[49m\u001b[38;5;241;43m=\u001b[39;49m\u001b[43merrors\u001b[49m\u001b[43m,\u001b[49m\n\u001b[0;32m   4962\u001b[0m \u001b[43m    \u001b[49m\u001b[43m)\u001b[49m\n",
      "File \u001b[1;32m~\\anaconda3\\lib\\site-packages\\pandas\\core\\generic.py:4267\u001b[0m, in \u001b[0;36mNDFrame.drop\u001b[1;34m(self, labels, axis, index, columns, level, inplace, errors)\u001b[0m\n\u001b[0;32m   4265\u001b[0m \u001b[38;5;28;01mfor\u001b[39;00m axis, labels \u001b[38;5;129;01min\u001b[39;00m axes\u001b[38;5;241m.\u001b[39mitems():\n\u001b[0;32m   4266\u001b[0m     \u001b[38;5;28;01mif\u001b[39;00m labels \u001b[38;5;129;01mis\u001b[39;00m \u001b[38;5;129;01mnot\u001b[39;00m \u001b[38;5;28;01mNone\u001b[39;00m:\n\u001b[1;32m-> 4267\u001b[0m         obj \u001b[38;5;241m=\u001b[39m \u001b[43mobj\u001b[49m\u001b[38;5;241;43m.\u001b[39;49m\u001b[43m_drop_axis\u001b[49m\u001b[43m(\u001b[49m\u001b[43mlabels\u001b[49m\u001b[43m,\u001b[49m\u001b[43m \u001b[49m\u001b[43maxis\u001b[49m\u001b[43m,\u001b[49m\u001b[43m \u001b[49m\u001b[43mlevel\u001b[49m\u001b[38;5;241;43m=\u001b[39;49m\u001b[43mlevel\u001b[49m\u001b[43m,\u001b[49m\u001b[43m \u001b[49m\u001b[43merrors\u001b[49m\u001b[38;5;241;43m=\u001b[39;49m\u001b[43merrors\u001b[49m\u001b[43m)\u001b[49m\n\u001b[0;32m   4269\u001b[0m \u001b[38;5;28;01mif\u001b[39;00m inplace:\n\u001b[0;32m   4270\u001b[0m     \u001b[38;5;28mself\u001b[39m\u001b[38;5;241m.\u001b[39m_update_inplace(obj)\n",
      "File \u001b[1;32m~\\anaconda3\\lib\\site-packages\\pandas\\core\\generic.py:4311\u001b[0m, in \u001b[0;36mNDFrame._drop_axis\u001b[1;34m(self, labels, axis, level, errors, consolidate, only_slice)\u001b[0m\n\u001b[0;32m   4309\u001b[0m         new_axis \u001b[38;5;241m=\u001b[39m axis\u001b[38;5;241m.\u001b[39mdrop(labels, level\u001b[38;5;241m=\u001b[39mlevel, errors\u001b[38;5;241m=\u001b[39merrors)\n\u001b[0;32m   4310\u001b[0m     \u001b[38;5;28;01melse\u001b[39;00m:\n\u001b[1;32m-> 4311\u001b[0m         new_axis \u001b[38;5;241m=\u001b[39m \u001b[43maxis\u001b[49m\u001b[38;5;241;43m.\u001b[39;49m\u001b[43mdrop\u001b[49m\u001b[43m(\u001b[49m\u001b[43mlabels\u001b[49m\u001b[43m,\u001b[49m\u001b[43m \u001b[49m\u001b[43merrors\u001b[49m\u001b[38;5;241;43m=\u001b[39;49m\u001b[43merrors\u001b[49m\u001b[43m)\u001b[49m\n\u001b[0;32m   4312\u001b[0m     indexer \u001b[38;5;241m=\u001b[39m axis\u001b[38;5;241m.\u001b[39mget_indexer(new_axis)\n\u001b[0;32m   4314\u001b[0m \u001b[38;5;66;03m# Case for non-unique axis\u001b[39;00m\n\u001b[0;32m   4315\u001b[0m \u001b[38;5;28;01melse\u001b[39;00m:\n",
      "File \u001b[1;32m~\\anaconda3\\lib\\site-packages\\pandas\\core\\indexes\\base.py:6644\u001b[0m, in \u001b[0;36mIndex.drop\u001b[1;34m(self, labels, errors)\u001b[0m\n\u001b[0;32m   6642\u001b[0m \u001b[38;5;28;01mif\u001b[39;00m mask\u001b[38;5;241m.\u001b[39many():\n\u001b[0;32m   6643\u001b[0m     \u001b[38;5;28;01mif\u001b[39;00m errors \u001b[38;5;241m!=\u001b[39m \u001b[38;5;124m\"\u001b[39m\u001b[38;5;124mignore\u001b[39m\u001b[38;5;124m\"\u001b[39m:\n\u001b[1;32m-> 6644\u001b[0m         \u001b[38;5;28;01mraise\u001b[39;00m \u001b[38;5;167;01mKeyError\u001b[39;00m(\u001b[38;5;124mf\u001b[39m\u001b[38;5;124m\"\u001b[39m\u001b[38;5;132;01m{\u001b[39;00m\u001b[38;5;28mlist\u001b[39m(labels[mask])\u001b[38;5;132;01m}\u001b[39;00m\u001b[38;5;124m not found in axis\u001b[39m\u001b[38;5;124m\"\u001b[39m)\n\u001b[0;32m   6645\u001b[0m     indexer \u001b[38;5;241m=\u001b[39m indexer[\u001b[38;5;241m~\u001b[39mmask]\n\u001b[0;32m   6646\u001b[0m \u001b[38;5;28;01mreturn\u001b[39;00m \u001b[38;5;28mself\u001b[39m\u001b[38;5;241m.\u001b[39mdelete(indexer)\n",
      "\u001b[1;31mKeyError\u001b[0m: \"['DESTINATION_AIRPORT', 'ORIGIN_AIRPORT', 'ARRIVAL_DELAY', 'DATE', 'plane_route'] not found in axis\""
     ]
    }
   ],
   "source": [
    "df_1.drop(['DESTINATION_AIRPORT', 'ORIGIN_AIRPORT', 'ARRIVAL_DELAY', 'DATE', 'plane_route'], \n",
    "                  axis=1, inplace=True)"
   ]
  },
  {
   "cell_type": "code",
   "execution_count": 21,
   "id": "a88a502d",
   "metadata": {
    "scrolled": true
   },
   "outputs": [
    {
     "name": "stdout",
     "output_type": "stream",
     "text": [
      "<class 'pandas.core.frame.DataFrame'>\n",
      "Int64Index: 457013 entries, 0 to 469967\n",
      "Data columns (total 30 columns):\n",
      " #   Column                            Non-Null Count   Dtype   \n",
      "---  ------                            --------------   -----   \n",
      " 0   SCHEDULED_TIME                    457013 non-null  float64 \n",
      " 1   DISTANCE                          457013 non-null  int64   \n",
      " 2   SCHEDULED_DEPARTURE_H             457013 non-null  int64   \n",
      " 3   SCHEDULED_ARRIVAL_H               457013 non-null  int64   \n",
      " 4   delayed                           457013 non-null  category\n",
      " 5   Origin_airport_median_dalay       457013 non-null  float64 \n",
      " 6   Destination_airport_median_dalay  457013 non-null  float64 \n",
      " 7   route_median_delay                457013 non-null  float64 \n",
      " 8   AIRLINE_AA                        457013 non-null  uint8   \n",
      " 9   AIRLINE_AS                        457013 non-null  uint8   \n",
      " 10  AIRLINE_B6                        457013 non-null  uint8   \n",
      " 11  AIRLINE_DL                        457013 non-null  uint8   \n",
      " 12  AIRLINE_EV                        457013 non-null  uint8   \n",
      " 13  AIRLINE_F9                        457013 non-null  uint8   \n",
      " 14  AIRLINE_HA                        457013 non-null  uint8   \n",
      " 15  AIRLINE_MQ                        457013 non-null  uint8   \n",
      " 16  AIRLINE_NK                        457013 non-null  uint8   \n",
      " 17  AIRLINE_OO                        457013 non-null  uint8   \n",
      " 18  AIRLINE_UA                        457013 non-null  uint8   \n",
      " 19  AIRLINE_US                        457013 non-null  uint8   \n",
      " 20  AIRLINE_VX                        457013 non-null  uint8   \n",
      " 21  AIRLINE_WN                        457013 non-null  uint8   \n",
      " 22  DAY_NAME_Friday                   457013 non-null  uint8   \n",
      " 23  DAY_NAME_Monday                   457013 non-null  uint8   \n",
      " 24  DAY_NAME_Saturday                 457013 non-null  uint8   \n",
      " 25  DAY_NAME_Sunday                   457013 non-null  uint8   \n",
      " 26  DAY_NAME_Thursday                 457013 non-null  uint8   \n",
      " 27  DAY_NAME_Tuesday                  457013 non-null  uint8   \n",
      " 28  DAY_NAME_Wednesday                457013 non-null  uint8   \n",
      " 29  MONTH_NAME_January                457013 non-null  uint8   \n",
      "dtypes: category(1), float64(4), int64(3), uint8(22)\n",
      "memory usage: 37.9 MB\n"
     ]
    }
   ],
   "source": [
    "df_111 = pd.get_dummies(data=df_1, columns=['AIRLINE', 'DAY_NAME', 'MONTH_NAME'])\n",
    "df_111.info()"
   ]
  },
  {
   "cell_type": "code",
   "execution_count": 22,
   "id": "755f5da6",
   "metadata": {},
   "outputs": [],
   "source": [
    "df_111.drop('MONTH_NAME_January', axis=1, inplace=True)"
   ]
  },
  {
   "cell_type": "code",
   "execution_count": 24,
   "id": "853678b9",
   "metadata": {},
   "outputs": [],
   "source": [
    "y=df_111.pop('delayed')\n",
    "X=df_111\n",
    "\n",
    "X_train,X_test,y_train,y_test = train_test_split(X,y,test_size=0.2, random_state=1)"
   ]
  },
  {
   "cell_type": "code",
   "execution_count": 25,
   "id": "e1699f84",
   "metadata": {},
   "outputs": [],
   "source": [
    "scaler = StandardScaler()\n",
    "scaler.fit(X_train)\n",
    "X_train = scaler.transform(X_train)\n",
    "X_test = scaler.transform(X_test)"
   ]
  },
  {
   "cell_type": "code",
   "execution_count": 26,
   "id": "09872d20",
   "metadata": {},
   "outputs": [
    {
     "name": "stdout",
     "output_type": "stream",
     "text": [
      "Accuracy score in train set: 0.808\n",
      "Accuracy score in test set: 0.598\n",
      "ROC AUC score in train set: 0.778\n",
      "ROC AUC score in test set: 0.557\n"
     ]
    }
   ],
   "source": [
    "dt = DecisionTreeClassifier()\n",
    "dt.fit(X_train, y_train)\n",
    "dt_results_train = dt.predict(X_train)\n",
    "dt_results_test = dt.predict(X_test)\n",
    "\n",
    "print('Accuracy score in train set: {:.3f}'.format(accuracy_score(y_train, dt_results_train)))\n",
    "print('Accuracy score in test set: {:.3f}'.format(accuracy_score(y_test, dt_results_test)))\n",
    "print('ROC AUC score in train set: {:.3f}'.format(roc_auc_score(y_train, dt_results_train)))\n",
    "print('ROC AUC score in test set: {:.3f}'.format(roc_auc_score(y_test, dt_results_test)))"
   ]
  },
  {
   "cell_type": "code",
   "execution_count": 30,
   "id": "028f1017",
   "metadata": {},
   "outputs": [
    {
     "data": {
      "text/html": [
       "<style>#sk-container-id-2 {color: black;background-color: white;}#sk-container-id-2 pre{padding: 0;}#sk-container-id-2 div.sk-toggleable {background-color: white;}#sk-container-id-2 label.sk-toggleable__label {cursor: pointer;display: block;width: 100%;margin-bottom: 0;padding: 0.3em;box-sizing: border-box;text-align: center;}#sk-container-id-2 label.sk-toggleable__label-arrow:before {content: \"▸\";float: left;margin-right: 0.25em;color: #696969;}#sk-container-id-2 label.sk-toggleable__label-arrow:hover:before {color: black;}#sk-container-id-2 div.sk-estimator:hover label.sk-toggleable__label-arrow:before {color: black;}#sk-container-id-2 div.sk-toggleable__content {max-height: 0;max-width: 0;overflow: hidden;text-align: left;background-color: #f0f8ff;}#sk-container-id-2 div.sk-toggleable__content pre {margin: 0.2em;color: black;border-radius: 0.25em;background-color: #f0f8ff;}#sk-container-id-2 input.sk-toggleable__control:checked~div.sk-toggleable__content {max-height: 200px;max-width: 100%;overflow: auto;}#sk-container-id-2 input.sk-toggleable__control:checked~label.sk-toggleable__label-arrow:before {content: \"▾\";}#sk-container-id-2 div.sk-estimator input.sk-toggleable__control:checked~label.sk-toggleable__label {background-color: #d4ebff;}#sk-container-id-2 div.sk-label input.sk-toggleable__control:checked~label.sk-toggleable__label {background-color: #d4ebff;}#sk-container-id-2 input.sk-hidden--visually {border: 0;clip: rect(1px 1px 1px 1px);clip: rect(1px, 1px, 1px, 1px);height: 1px;margin: -1px;overflow: hidden;padding: 0;position: absolute;width: 1px;}#sk-container-id-2 div.sk-estimator {font-family: monospace;background-color: #f0f8ff;border: 1px dotted black;border-radius: 0.25em;box-sizing: border-box;margin-bottom: 0.5em;}#sk-container-id-2 div.sk-estimator:hover {background-color: #d4ebff;}#sk-container-id-2 div.sk-parallel-item::after {content: \"\";width: 100%;border-bottom: 1px solid gray;flex-grow: 1;}#sk-container-id-2 div.sk-label:hover label.sk-toggleable__label {background-color: #d4ebff;}#sk-container-id-2 div.sk-serial::before {content: \"\";position: absolute;border-left: 1px solid gray;box-sizing: border-box;top: 0;bottom: 0;left: 50%;z-index: 0;}#sk-container-id-2 div.sk-serial {display: flex;flex-direction: column;align-items: center;background-color: white;padding-right: 0.2em;padding-left: 0.2em;position: relative;}#sk-container-id-2 div.sk-item {position: relative;z-index: 1;}#sk-container-id-2 div.sk-parallel {display: flex;align-items: stretch;justify-content: center;background-color: white;position: relative;}#sk-container-id-2 div.sk-item::before, #sk-container-id-2 div.sk-parallel-item::before {content: \"\";position: absolute;border-left: 1px solid gray;box-sizing: border-box;top: 0;bottom: 0;left: 50%;z-index: -1;}#sk-container-id-2 div.sk-parallel-item {display: flex;flex-direction: column;z-index: 1;position: relative;background-color: white;}#sk-container-id-2 div.sk-parallel-item:first-child::after {align-self: flex-end;width: 50%;}#sk-container-id-2 div.sk-parallel-item:last-child::after {align-self: flex-start;width: 50%;}#sk-container-id-2 div.sk-parallel-item:only-child::after {width: 0;}#sk-container-id-2 div.sk-dashed-wrapped {border: 1px dashed gray;margin: 0 0.4em 0.5em 0.4em;box-sizing: border-box;padding-bottom: 0.4em;background-color: white;}#sk-container-id-2 div.sk-label label {font-family: monospace;font-weight: bold;display: inline-block;line-height: 1.2em;}#sk-container-id-2 div.sk-label-container {text-align: center;}#sk-container-id-2 div.sk-container {/* jupyter's `normalize.less` sets `[hidden] { display: none; }` but bootstrap.min.css set `[hidden] { display: none !important; }` so we also need the `!important` here to be able to override the default hidden behavior on the sphinx rendered scikit-learn.org. See: https://github.com/scikit-learn/scikit-learn/issues/21755 */display: inline-block !important;position: relative;}#sk-container-id-2 div.sk-text-repr-fallback {display: none;}</style><div id=\"sk-container-id-2\" class=\"sk-top-container\"><div class=\"sk-text-repr-fallback\"><pre>GridSearchCV(cv=5, estimator=DecisionTreeClassifier(),\n",
       "             param_grid={&#x27;criterion&#x27;: [&#x27;gini&#x27;, &#x27;entropy&#x27;, &#x27;log_loss&#x27;],\n",
       "                         &#x27;max_depth&#x27;: [5, 6, 7, 8, 9, 10],\n",
       "                         &#x27;random_state&#x27;: [1]})</pre><b>In a Jupyter environment, please rerun this cell to show the HTML representation or trust the notebook. <br />On GitHub, the HTML representation is unable to render, please try loading this page with nbviewer.org.</b></div><div class=\"sk-container\" hidden><div class=\"sk-item sk-dashed-wrapped\"><div class=\"sk-label-container\"><div class=\"sk-label sk-toggleable\"><input class=\"sk-toggleable__control sk-hidden--visually\" id=\"sk-estimator-id-4\" type=\"checkbox\" ><label for=\"sk-estimator-id-4\" class=\"sk-toggleable__label sk-toggleable__label-arrow\">GridSearchCV</label><div class=\"sk-toggleable__content\"><pre>GridSearchCV(cv=5, estimator=DecisionTreeClassifier(),\n",
       "             param_grid={&#x27;criterion&#x27;: [&#x27;gini&#x27;, &#x27;entropy&#x27;, &#x27;log_loss&#x27;],\n",
       "                         &#x27;max_depth&#x27;: [5, 6, 7, 8, 9, 10],\n",
       "                         &#x27;random_state&#x27;: [1]})</pre></div></div></div><div class=\"sk-parallel\"><div class=\"sk-parallel-item\"><div class=\"sk-item\"><div class=\"sk-label-container\"><div class=\"sk-label sk-toggleable\"><input class=\"sk-toggleable__control sk-hidden--visually\" id=\"sk-estimator-id-5\" type=\"checkbox\" ><label for=\"sk-estimator-id-5\" class=\"sk-toggleable__label sk-toggleable__label-arrow\">estimator: DecisionTreeClassifier</label><div class=\"sk-toggleable__content\"><pre>DecisionTreeClassifier()</pre></div></div></div><div class=\"sk-serial\"><div class=\"sk-item\"><div class=\"sk-estimator sk-toggleable\"><input class=\"sk-toggleable__control sk-hidden--visually\" id=\"sk-estimator-id-6\" type=\"checkbox\" ><label for=\"sk-estimator-id-6\" class=\"sk-toggleable__label sk-toggleable__label-arrow\">DecisionTreeClassifier</label><div class=\"sk-toggleable__content\"><pre>DecisionTreeClassifier()</pre></div></div></div></div></div></div></div></div></div></div>"
      ],
      "text/plain": [
       "GridSearchCV(cv=5, estimator=DecisionTreeClassifier(),\n",
       "             param_grid={'criterion': ['gini', 'entropy', 'log_loss'],\n",
       "                         'max_depth': [5, 6, 7, 8, 9, 10],\n",
       "                         'random_state': [1]})"
      ]
     },
     "execution_count": 30,
     "metadata": {},
     "output_type": "execute_result"
    }
   ],
   "source": [
    "dt = DecisionTreeClassifier()\n",
    "param_gridDT = {'max_depth':list(range(5,11)), 'random_state': [1], 'criterion':[\"gini\", \"entropy\", \"log_loss\"]}\n",
    "\n",
    "clf_dt = GridSearchCV(dt, param_gridDT, cv=5)\n",
    "clf_dt.fit(X_train, y_train)"
   ]
  },
  {
   "cell_type": "code",
   "execution_count": 31,
   "id": "16ae4a15",
   "metadata": {},
   "outputs": [
    {
     "name": "stdout",
     "output_type": "stream",
     "text": [
      "Best score: DecisionTreeClassifier(criterion='entropy', max_depth=10, random_state=1)\n",
      "Best score: 0.6180164656327781\n"
     ]
    }
   ],
   "source": [
    "print('Best score: {}'.format(clf_dt.best_estimator_))\n",
    "print('Best score: {}'.format(clf_dt.best_score_)) # Mean cross-validated score of the best_estimator"
   ]
  },
  {
   "cell_type": "code",
   "execution_count": 33,
   "id": "39a3b6b1",
   "metadata": {},
   "outputs": [
    {
     "name": "stdout",
     "output_type": "stream",
     "text": [
      "Accuracy score in train set: 0.626\n",
      "Accuracy score in test set: 0.621\n",
      "ROC AUC score in train set: 0.571\n",
      "ROC AUC score in test set: 0.567\n"
     ]
    }
   ],
   "source": [
    "dt_results_train_gs = clf_dt.best_estimator_.predict(X_train)\n",
    "dt_results_test_gs = clf_dt.best_estimator_.predict(X_test)\n",
    "\n",
    "print('Accuracy score in train set: {:.3f}'.format(accuracy_score(y_train, dt_results_train_gs)))\n",
    "print('Accuracy score in test set: {:.3f}'.format(accuracy_score(y_test, dt_results_test_gs)))\n",
    "print('ROC AUC score in train set: {:.3f}'.format(roc_auc_score(y_train, dt_results_train_gs)))\n",
    "print('ROC AUC score in test set: {:.3f}'.format(roc_auc_score(y_test, dt_results_test_gs)))"
   ]
  },
  {
   "cell_type": "code",
   "execution_count": 27,
   "id": "2c8f7e46",
   "metadata": {},
   "outputs": [
    {
     "name": "stdout",
     "output_type": "stream",
     "text": [
      "Accuracy score in train set: 0.808\n",
      "Accuracy score in test set: 0.591\n",
      "ROC AUC score in train set: 0.792\n",
      "ROC AUC score in test set: 0.563\n"
     ]
    }
   ],
   "source": [
    "rf = RandomForestClassifier(random_state=1, n_jobs=-1)\n",
    "rf.fit(X_train, y_train)\n",
    "rf_results_train = rf.predict(X_train)\n",
    "rf_results_test = rf.predict(X_test)\n",
    "\n",
    "print('Accuracy score in train set: {:.3f}'.format(accuracy_score(y_train, rf_results_train)))\n",
    "print('Accuracy score in test set: {:.3f}'.format(accuracy_score(y_test, rf_results_test)))\n",
    "print('ROC AUC score in train set: {:.3f}'.format(roc_auc_score(y_train, rf_results_train)))\n",
    "print('ROC AUC score in test set: {:.3f}'.format(roc_auc_score(y_test, rf_results_test)))"
   ]
  },
  {
   "cell_type": "code",
   "execution_count": 34,
   "id": "004eb00d",
   "metadata": {},
   "outputs": [
    {
     "data": {
      "text/html": [
       "<style>#sk-container-id-3 {color: black;background-color: white;}#sk-container-id-3 pre{padding: 0;}#sk-container-id-3 div.sk-toggleable {background-color: white;}#sk-container-id-3 label.sk-toggleable__label {cursor: pointer;display: block;width: 100%;margin-bottom: 0;padding: 0.3em;box-sizing: border-box;text-align: center;}#sk-container-id-3 label.sk-toggleable__label-arrow:before {content: \"▸\";float: left;margin-right: 0.25em;color: #696969;}#sk-container-id-3 label.sk-toggleable__label-arrow:hover:before {color: black;}#sk-container-id-3 div.sk-estimator:hover label.sk-toggleable__label-arrow:before {color: black;}#sk-container-id-3 div.sk-toggleable__content {max-height: 0;max-width: 0;overflow: hidden;text-align: left;background-color: #f0f8ff;}#sk-container-id-3 div.sk-toggleable__content pre {margin: 0.2em;color: black;border-radius: 0.25em;background-color: #f0f8ff;}#sk-container-id-3 input.sk-toggleable__control:checked~div.sk-toggleable__content {max-height: 200px;max-width: 100%;overflow: auto;}#sk-container-id-3 input.sk-toggleable__control:checked~label.sk-toggleable__label-arrow:before {content: \"▾\";}#sk-container-id-3 div.sk-estimator input.sk-toggleable__control:checked~label.sk-toggleable__label {background-color: #d4ebff;}#sk-container-id-3 div.sk-label input.sk-toggleable__control:checked~label.sk-toggleable__label {background-color: #d4ebff;}#sk-container-id-3 input.sk-hidden--visually {border: 0;clip: rect(1px 1px 1px 1px);clip: rect(1px, 1px, 1px, 1px);height: 1px;margin: -1px;overflow: hidden;padding: 0;position: absolute;width: 1px;}#sk-container-id-3 div.sk-estimator {font-family: monospace;background-color: #f0f8ff;border: 1px dotted black;border-radius: 0.25em;box-sizing: border-box;margin-bottom: 0.5em;}#sk-container-id-3 div.sk-estimator:hover {background-color: #d4ebff;}#sk-container-id-3 div.sk-parallel-item::after {content: \"\";width: 100%;border-bottom: 1px solid gray;flex-grow: 1;}#sk-container-id-3 div.sk-label:hover label.sk-toggleable__label {background-color: #d4ebff;}#sk-container-id-3 div.sk-serial::before {content: \"\";position: absolute;border-left: 1px solid gray;box-sizing: border-box;top: 0;bottom: 0;left: 50%;z-index: 0;}#sk-container-id-3 div.sk-serial {display: flex;flex-direction: column;align-items: center;background-color: white;padding-right: 0.2em;padding-left: 0.2em;position: relative;}#sk-container-id-3 div.sk-item {position: relative;z-index: 1;}#sk-container-id-3 div.sk-parallel {display: flex;align-items: stretch;justify-content: center;background-color: white;position: relative;}#sk-container-id-3 div.sk-item::before, #sk-container-id-3 div.sk-parallel-item::before {content: \"\";position: absolute;border-left: 1px solid gray;box-sizing: border-box;top: 0;bottom: 0;left: 50%;z-index: -1;}#sk-container-id-3 div.sk-parallel-item {display: flex;flex-direction: column;z-index: 1;position: relative;background-color: white;}#sk-container-id-3 div.sk-parallel-item:first-child::after {align-self: flex-end;width: 50%;}#sk-container-id-3 div.sk-parallel-item:last-child::after {align-self: flex-start;width: 50%;}#sk-container-id-3 div.sk-parallel-item:only-child::after {width: 0;}#sk-container-id-3 div.sk-dashed-wrapped {border: 1px dashed gray;margin: 0 0.4em 0.5em 0.4em;box-sizing: border-box;padding-bottom: 0.4em;background-color: white;}#sk-container-id-3 div.sk-label label {font-family: monospace;font-weight: bold;display: inline-block;line-height: 1.2em;}#sk-container-id-3 div.sk-label-container {text-align: center;}#sk-container-id-3 div.sk-container {/* jupyter's `normalize.less` sets `[hidden] { display: none; }` but bootstrap.min.css set `[hidden] { display: none !important; }` so we also need the `!important` here to be able to override the default hidden behavior on the sphinx rendered scikit-learn.org. See: https://github.com/scikit-learn/scikit-learn/issues/21755 */display: inline-block !important;position: relative;}#sk-container-id-3 div.sk-text-repr-fallback {display: none;}</style><div id=\"sk-container-id-3\" class=\"sk-top-container\"><div class=\"sk-text-repr-fallback\"><pre>GridSearchCV(cv=5, estimator=RandomForestClassifier(n_jobs=-1, random_state=1),\n",
       "             param_grid={&#x27;criterion&#x27;: [&#x27;gini&#x27;, &#x27;entropy&#x27;, &#x27;log_loss&#x27;],\n",
       "                         &#x27;max_depth&#x27;: [5, 6, 7, 8, 9],\n",
       "                         &#x27;n_estimators&#x27;: [50, 100, 200], &#x27;random_state&#x27;: [1]})</pre><b>In a Jupyter environment, please rerun this cell to show the HTML representation or trust the notebook. <br />On GitHub, the HTML representation is unable to render, please try loading this page with nbviewer.org.</b></div><div class=\"sk-container\" hidden><div class=\"sk-item sk-dashed-wrapped\"><div class=\"sk-label-container\"><div class=\"sk-label sk-toggleable\"><input class=\"sk-toggleable__control sk-hidden--visually\" id=\"sk-estimator-id-7\" type=\"checkbox\" ><label for=\"sk-estimator-id-7\" class=\"sk-toggleable__label sk-toggleable__label-arrow\">GridSearchCV</label><div class=\"sk-toggleable__content\"><pre>GridSearchCV(cv=5, estimator=RandomForestClassifier(n_jobs=-1, random_state=1),\n",
       "             param_grid={&#x27;criterion&#x27;: [&#x27;gini&#x27;, &#x27;entropy&#x27;, &#x27;log_loss&#x27;],\n",
       "                         &#x27;max_depth&#x27;: [5, 6, 7, 8, 9],\n",
       "                         &#x27;n_estimators&#x27;: [50, 100, 200], &#x27;random_state&#x27;: [1]})</pre></div></div></div><div class=\"sk-parallel\"><div class=\"sk-parallel-item\"><div class=\"sk-item\"><div class=\"sk-label-container\"><div class=\"sk-label sk-toggleable\"><input class=\"sk-toggleable__control sk-hidden--visually\" id=\"sk-estimator-id-8\" type=\"checkbox\" ><label for=\"sk-estimator-id-8\" class=\"sk-toggleable__label sk-toggleable__label-arrow\">estimator: RandomForestClassifier</label><div class=\"sk-toggleable__content\"><pre>RandomForestClassifier(n_jobs=-1, random_state=1)</pre></div></div></div><div class=\"sk-serial\"><div class=\"sk-item\"><div class=\"sk-estimator sk-toggleable\"><input class=\"sk-toggleable__control sk-hidden--visually\" id=\"sk-estimator-id-9\" type=\"checkbox\" ><label for=\"sk-estimator-id-9\" class=\"sk-toggleable__label sk-toggleable__label-arrow\">RandomForestClassifier</label><div class=\"sk-toggleable__content\"><pre>RandomForestClassifier(n_jobs=-1, random_state=1)</pre></div></div></div></div></div></div></div></div></div></div>"
      ],
      "text/plain": [
       "GridSearchCV(cv=5, estimator=RandomForestClassifier(n_jobs=-1, random_state=1),\n",
       "             param_grid={'criterion': ['gini', 'entropy', 'log_loss'],\n",
       "                         'max_depth': [5, 6, 7, 8, 9],\n",
       "                         'n_estimators': [50, 100, 200], 'random_state': [1]})"
      ]
     },
     "execution_count": 34,
     "metadata": {},
     "output_type": "execute_result"
    }
   ],
   "source": [
    "rf = RandomForestClassifier(random_state=1, n_jobs=-1)  # 40 min.\n",
    "param_gridRF = {'max_depth':list(range(5,10)), 'random_state': [1], 'criterion':[\"gini\", \"entropy\", \"log_loss\"], \n",
    "               'n_estimators':[50, 100, 200]}\n",
    "\n",
    "clf_rf = GridSearchCV(rf, param_gridRF, cv=5)\n",
    "clf_rf.fit(X_train, y_train)"
   ]
  },
  {
   "cell_type": "code",
   "execution_count": 35,
   "id": "979d0cde",
   "metadata": {},
   "outputs": [
    {
     "name": "stdout",
     "output_type": "stream",
     "text": [
      "Best score: RandomForestClassifier(max_depth=9, n_estimators=200, n_jobs=-1, random_state=1)\n",
      "Best score: 0.6219003856568474\n"
     ]
    }
   ],
   "source": [
    "print('Best score: {}'.format(clf_rf.best_estimator_))\n",
    "print('Best score: {}'.format(clf_rf.best_score_)) # Mean cross-validated score of the best_estimator"
   ]
  },
  {
   "cell_type": "code",
   "execution_count": 36,
   "id": "6895725c",
   "metadata": {},
   "outputs": [
    {
     "name": "stdout",
     "output_type": "stream",
     "text": [
      "Accuracy score in train set: 0.626\n",
      "Accuracy score in test set: 0.624\n",
      "ROC AUC score in train set: 0.551\n",
      "ROC AUC score in test set: 0.550\n"
     ]
    }
   ],
   "source": [
    "rf_results_train_gs = clf_rf.best_estimator_.predict(X_train)\n",
    "rf_results_test_gs = clf_rf.best_estimator_.predict(X_test)\n",
    "\n",
    "print('Accuracy score in train set: {:.3f}'.format(accuracy_score(y_train, rf_results_train_gs)))\n",
    "print('Accuracy score in test set: {:.3f}'.format(accuracy_score(y_test, rf_results_test_gs)))\n",
    "print('ROC AUC score in train set: {:.3f}'.format(roc_auc_score(y_train, rf_results_train_gs)))\n",
    "print('ROC AUC score in test set: {:.3f}'.format(roc_auc_score(y_test, rf_results_test_gs)))"
   ]
  },
  {
   "cell_type": "code",
   "execution_count": 37,
   "id": "d07aa003",
   "metadata": {},
   "outputs": [
    {
     "name": "stdout",
     "output_type": "stream",
     "text": [
      "Accuracy score in train set: 0.653\n",
      "Accuracy score in test set: 0.641\n",
      "ROC AUC score in train set: 0.602\n",
      "ROC AUC score in test set: 0.590\n"
     ]
    }
   ],
   "source": [
    "xgb = XGBClassifier(random_state=1, n_jobs=-1)\n",
    "xgb.fit(X_train, y_train)\n",
    "xgb_results_train = xgb.predict(X_train)\n",
    "xgb_results_test = xgb.predict(X_test)\n",
    "\n",
    "print('Accuracy score in train set: {:.3f}'.format(accuracy_score(y_train, xgb_results_train)))\n",
    "print('Accuracy score in test set: {:.3f}'.format(accuracy_score(y_test, xgb_results_test)))\n",
    "print('ROC AUC score in train set: {:.3f}'.format(roc_auc_score(y_train, xgb_results_train)))\n",
    "print('ROC AUC score in test set: {:.3f}'.format(roc_auc_score(y_test, xgb_results_test)))"
   ]
  },
  {
   "cell_type": "code",
   "execution_count": 38,
   "id": "bfec48d8",
   "metadata": {},
   "outputs": [],
   "source": [
    "def objective(trial):\n",
    "    \"\"\"Define the objective function\"\"\"\n",
    "\n",
    "    params = {\n",
    "        'max_depth': trial.suggest_int('max_depth', 1, 9),\n",
    "        'learning_rate': trial.suggest_loguniform('learning_rate', 0.01, 1.0),\n",
    "        'n_estimators': trial.suggest_int('n_estimators', 50, 500),\n",
    "        'min_child_weight': trial.suggest_int('min_child_weight', 1, 10),\n",
    "        'gamma': trial.suggest_loguniform('gamma', 1e-8, 1.0),\n",
    "        'subsample': trial.suggest_loguniform('subsample', 0.01, 1.0),\n",
    "        'colsample_bytree': trial.suggest_loguniform('colsample_bytree', 0.01, 1.0),\n",
    "        'reg_alpha': trial.suggest_loguniform('reg_alpha', 1e-8, 1.0),\n",
    "        'reg_lambda': trial.suggest_loguniform('reg_lambda', 1e-8, 1.0),\n",
    "        'n_jobs': -1,\n",
    "        'random_state':1,\n",
    "        'eval_metric': 'mlogloss',\n",
    "        'use_label_encoder': False\n",
    "    }\n",
    "\n",
    "    # Fit the model\n",
    "    optuna_model = XGBClassifier(**params)\n",
    "    optuna_model.fit(X_train, y_train)\n",
    "\n",
    "    # Make predictions\n",
    "    y_pred = optuna_model.predict(X_test)\n",
    "\n",
    "    # Evaluate predictions\n",
    "    accuracy = accuracy_score(y_test, y_pred)\n",
    "    return accuracy"
   ]
  },
  {
   "cell_type": "code",
   "execution_count": 39,
   "id": "71c996ae",
   "metadata": {},
   "outputs": [
    {
     "name": "stderr",
     "output_type": "stream",
     "text": [
      "\u001b[32m[I 2023-03-18 18:12:38,681]\u001b[0m A new study created in memory with name: no-name-9930c5b7-788e-4d78-a4ae-3d5ffc6247c9\u001b[0m\n"
     ]
    }
   ],
   "source": [
    "study = optuna.create_study(direction='maximize')"
   ]
  },
  {
   "cell_type": "code",
   "execution_count": 40,
   "id": "46af6d69",
   "metadata": {
    "scrolled": true
   },
   "outputs": [
    {
     "name": "stderr",
     "output_type": "stream",
     "text": [
      "C:\\Users\\HP\\AppData\\Local\\Temp\\ipykernel_10276\\2939489719.py:6: FutureWarning: suggest_loguniform has been deprecated in v3.0.0. This feature will be removed in v6.0.0. See https://github.com/optuna/optuna/releases/tag/v3.0.0. Use :func:`~optuna.trial.Trial.suggest_float` instead.\n",
      "  'learning_rate': trial.suggest_loguniform('learning_rate', 0.01, 1.0),\n",
      "C:\\Users\\HP\\AppData\\Local\\Temp\\ipykernel_10276\\2939489719.py:9: FutureWarning: suggest_loguniform has been deprecated in v3.0.0. This feature will be removed in v6.0.0. See https://github.com/optuna/optuna/releases/tag/v3.0.0. Use :func:`~optuna.trial.Trial.suggest_float` instead.\n",
      "  'gamma': trial.suggest_loguniform('gamma', 1e-8, 1.0),\n",
      "C:\\Users\\HP\\AppData\\Local\\Temp\\ipykernel_10276\\2939489719.py:10: FutureWarning: suggest_loguniform has been deprecated in v3.0.0. This feature will be removed in v6.0.0. See https://github.com/optuna/optuna/releases/tag/v3.0.0. Use :func:`~optuna.trial.Trial.suggest_float` instead.\n",
      "  'subsample': trial.suggest_loguniform('subsample', 0.01, 1.0),\n",
      "C:\\Users\\HP\\AppData\\Local\\Temp\\ipykernel_10276\\2939489719.py:11: FutureWarning: suggest_loguniform has been deprecated in v3.0.0. This feature will be removed in v6.0.0. See https://github.com/optuna/optuna/releases/tag/v3.0.0. Use :func:`~optuna.trial.Trial.suggest_float` instead.\n",
      "  'colsample_bytree': trial.suggest_loguniform('colsample_bytree', 0.01, 1.0),\n",
      "C:\\Users\\HP\\AppData\\Local\\Temp\\ipykernel_10276\\2939489719.py:12: FutureWarning: suggest_loguniform has been deprecated in v3.0.0. This feature will be removed in v6.0.0. See https://github.com/optuna/optuna/releases/tag/v3.0.0. Use :func:`~optuna.trial.Trial.suggest_float` instead.\n",
      "  'reg_alpha': trial.suggest_loguniform('reg_alpha', 1e-8, 1.0),\n",
      "C:\\Users\\HP\\AppData\\Local\\Temp\\ipykernel_10276\\2939489719.py:13: FutureWarning: suggest_loguniform has been deprecated in v3.0.0. This feature will be removed in v6.0.0. See https://github.com/optuna/optuna/releases/tag/v3.0.0. Use :func:`~optuna.trial.Trial.suggest_float` instead.\n",
      "  'reg_lambda': trial.suggest_loguniform('reg_lambda', 1e-8, 1.0),\n",
      "C:\\Users\\HP\\anaconda3\\lib\\site-packages\\xgboost\\sklearn.py:1421: UserWarning: `use_label_encoder` is deprecated in 1.7.0.\n",
      "  warnings.warn(\"`use_label_encoder` is deprecated in 1.7.0.\")\n",
      "\u001b[32m[I 2023-03-18 18:13:12,453]\u001b[0m Trial 0 finished with value: 0.6281522488320952 and parameters: {'max_depth': 3, 'learning_rate': 0.1776413165995635, 'n_estimators': 135, 'min_child_weight': 1, 'gamma': 0.17013352478896893, 'subsample': 0.047604928117339504, 'colsample_bytree': 0.5432945131605168, 'reg_alpha': 0.030290817232819515, 'reg_lambda': 1.5295318575124114e-05}. Best is trial 0 with value: 0.6281522488320952.\u001b[0m\n",
      "C:\\Users\\HP\\AppData\\Local\\Temp\\ipykernel_10276\\2939489719.py:6: FutureWarning: suggest_loguniform has been deprecated in v3.0.0. This feature will be removed in v6.0.0. See https://github.com/optuna/optuna/releases/tag/v3.0.0. Use :func:`~optuna.trial.Trial.suggest_float` instead.\n",
      "  'learning_rate': trial.suggest_loguniform('learning_rate', 0.01, 1.0),\n",
      "C:\\Users\\HP\\AppData\\Local\\Temp\\ipykernel_10276\\2939489719.py:9: FutureWarning: suggest_loguniform has been deprecated in v3.0.0. This feature will be removed in v6.0.0. See https://github.com/optuna/optuna/releases/tag/v3.0.0. Use :func:`~optuna.trial.Trial.suggest_float` instead.\n",
      "  'gamma': trial.suggest_loguniform('gamma', 1e-8, 1.0),\n",
      "C:\\Users\\HP\\AppData\\Local\\Temp\\ipykernel_10276\\2939489719.py:10: FutureWarning: suggest_loguniform has been deprecated in v3.0.0. This feature will be removed in v6.0.0. See https://github.com/optuna/optuna/releases/tag/v3.0.0. Use :func:`~optuna.trial.Trial.suggest_float` instead.\n",
      "  'subsample': trial.suggest_loguniform('subsample', 0.01, 1.0),\n",
      "C:\\Users\\HP\\AppData\\Local\\Temp\\ipykernel_10276\\2939489719.py:11: FutureWarning: suggest_loguniform has been deprecated in v3.0.0. This feature will be removed in v6.0.0. See https://github.com/optuna/optuna/releases/tag/v3.0.0. Use :func:`~optuna.trial.Trial.suggest_float` instead.\n",
      "  'colsample_bytree': trial.suggest_loguniform('colsample_bytree', 0.01, 1.0),\n",
      "C:\\Users\\HP\\AppData\\Local\\Temp\\ipykernel_10276\\2939489719.py:12: FutureWarning: suggest_loguniform has been deprecated in v3.0.0. This feature will be removed in v6.0.0. See https://github.com/optuna/optuna/releases/tag/v3.0.0. Use :func:`~optuna.trial.Trial.suggest_float` instead.\n",
      "  'reg_alpha': trial.suggest_loguniform('reg_alpha', 1e-8, 1.0),\n",
      "C:\\Users\\HP\\AppData\\Local\\Temp\\ipykernel_10276\\2939489719.py:13: FutureWarning: suggest_loguniform has been deprecated in v3.0.0. This feature will be removed in v6.0.0. See https://github.com/optuna/optuna/releases/tag/v3.0.0. Use :func:`~optuna.trial.Trial.suggest_float` instead.\n",
      "  'reg_lambda': trial.suggest_loguniform('reg_lambda', 1e-8, 1.0),\n",
      "C:\\Users\\HP\\anaconda3\\lib\\site-packages\\xgboost\\sklearn.py:1421: UserWarning: `use_label_encoder` is deprecated in 1.7.0.\n",
      "  warnings.warn(\"`use_label_encoder` is deprecated in 1.7.0.\")\n",
      "\u001b[32m[I 2023-03-18 18:13:26,590]\u001b[0m Trial 1 finished with value: 0.629016553067186 and parameters: {'max_depth': 9, 'learning_rate': 0.037065918538021124, 'n_estimators': 67, 'min_child_weight': 9, 'gamma': 8.04339730912916e-05, 'subsample': 0.03798467029133702, 'colsample_bytree': 0.840055661272229, 'reg_alpha': 0.005720319191880246, 'reg_lambda': 2.1335874009884296e-07}. Best is trial 1 with value: 0.629016553067186.\u001b[0m\n",
      "C:\\Users\\HP\\AppData\\Local\\Temp\\ipykernel_10276\\2939489719.py:6: FutureWarning: suggest_loguniform has been deprecated in v3.0.0. This feature will be removed in v6.0.0. See https://github.com/optuna/optuna/releases/tag/v3.0.0. Use :func:`~optuna.trial.Trial.suggest_float` instead.\n",
      "  'learning_rate': trial.suggest_loguniform('learning_rate', 0.01, 1.0),\n",
      "C:\\Users\\HP\\AppData\\Local\\Temp\\ipykernel_10276\\2939489719.py:9: FutureWarning: suggest_loguniform has been deprecated in v3.0.0. This feature will be removed in v6.0.0. See https://github.com/optuna/optuna/releases/tag/v3.0.0. Use :func:`~optuna.trial.Trial.suggest_float` instead.\n",
      "  'gamma': trial.suggest_loguniform('gamma', 1e-8, 1.0),\n",
      "C:\\Users\\HP\\AppData\\Local\\Temp\\ipykernel_10276\\2939489719.py:10: FutureWarning: suggest_loguniform has been deprecated in v3.0.0. This feature will be removed in v6.0.0. See https://github.com/optuna/optuna/releases/tag/v3.0.0. Use :func:`~optuna.trial.Trial.suggest_float` instead.\n",
      "  'subsample': trial.suggest_loguniform('subsample', 0.01, 1.0),\n",
      "C:\\Users\\HP\\AppData\\Local\\Temp\\ipykernel_10276\\2939489719.py:11: FutureWarning: suggest_loguniform has been deprecated in v3.0.0. This feature will be removed in v6.0.0. See https://github.com/optuna/optuna/releases/tag/v3.0.0. Use :func:`~optuna.trial.Trial.suggest_float` instead.\n",
      "  'colsample_bytree': trial.suggest_loguniform('colsample_bytree', 0.01, 1.0),\n",
      "C:\\Users\\HP\\AppData\\Local\\Temp\\ipykernel_10276\\2939489719.py:12: FutureWarning: suggest_loguniform has been deprecated in v3.0.0. This feature will be removed in v6.0.0. See https://github.com/optuna/optuna/releases/tag/v3.0.0. Use :func:`~optuna.trial.Trial.suggest_float` instead.\n",
      "  'reg_alpha': trial.suggest_loguniform('reg_alpha', 1e-8, 1.0),\n",
      "C:\\Users\\HP\\AppData\\Local\\Temp\\ipykernel_10276\\2939489719.py:13: FutureWarning: suggest_loguniform has been deprecated in v3.0.0. This feature will be removed in v6.0.0. See https://github.com/optuna/optuna/releases/tag/v3.0.0. Use :func:`~optuna.trial.Trial.suggest_float` instead.\n",
      "  'reg_lambda': trial.suggest_loguniform('reg_lambda', 1e-8, 1.0),\n",
      "C:\\Users\\HP\\anaconda3\\lib\\site-packages\\xgboost\\sklearn.py:1421: UserWarning: `use_label_encoder` is deprecated in 1.7.0.\n",
      "  warnings.warn(\"`use_label_encoder` is deprecated in 1.7.0.\")\n",
      "\u001b[32m[I 2023-03-18 18:13:51,496]\u001b[0m Trial 2 finished with value: 0.6184370316072777 and parameters: {'max_depth': 3, 'learning_rate': 0.9886621659221954, 'n_estimators': 309, 'min_child_weight': 2, 'gamma': 0.3036359014613175, 'subsample': 0.1740591167556394, 'colsample_bytree': 0.02938683530313753, 'reg_alpha': 5.781858844212473e-05, 'reg_lambda': 0.0010559965730509578}. Best is trial 1 with value: 0.629016553067186.\u001b[0m\n",
      "C:\\Users\\HP\\AppData\\Local\\Temp\\ipykernel_10276\\2939489719.py:6: FutureWarning: suggest_loguniform has been deprecated in v3.0.0. This feature will be removed in v6.0.0. See https://github.com/optuna/optuna/releases/tag/v3.0.0. Use :func:`~optuna.trial.Trial.suggest_float` instead.\n",
      "  'learning_rate': trial.suggest_loguniform('learning_rate', 0.01, 1.0),\n",
      "C:\\Users\\HP\\AppData\\Local\\Temp\\ipykernel_10276\\2939489719.py:9: FutureWarning: suggest_loguniform has been deprecated in v3.0.0. This feature will be removed in v6.0.0. See https://github.com/optuna/optuna/releases/tag/v3.0.0. Use :func:`~optuna.trial.Trial.suggest_float` instead.\n",
      "  'gamma': trial.suggest_loguniform('gamma', 1e-8, 1.0),\n",
      "C:\\Users\\HP\\AppData\\Local\\Temp\\ipykernel_10276\\2939489719.py:10: FutureWarning: suggest_loguniform has been deprecated in v3.0.0. This feature will be removed in v6.0.0. See https://github.com/optuna/optuna/releases/tag/v3.0.0. Use :func:`~optuna.trial.Trial.suggest_float` instead.\n",
      "  'subsample': trial.suggest_loguniform('subsample', 0.01, 1.0),\n",
      "C:\\Users\\HP\\AppData\\Local\\Temp\\ipykernel_10276\\2939489719.py:11: FutureWarning: suggest_loguniform has been deprecated in v3.0.0. This feature will be removed in v6.0.0. See https://github.com/optuna/optuna/releases/tag/v3.0.0. Use :func:`~optuna.trial.Trial.suggest_float` instead.\n",
      "  'colsample_bytree': trial.suggest_loguniform('colsample_bytree', 0.01, 1.0),\n",
      "C:\\Users\\HP\\AppData\\Local\\Temp\\ipykernel_10276\\2939489719.py:12: FutureWarning: suggest_loguniform has been deprecated in v3.0.0. This feature will be removed in v6.0.0. See https://github.com/optuna/optuna/releases/tag/v3.0.0. Use :func:`~optuna.trial.Trial.suggest_float` instead.\n",
      "  'reg_alpha': trial.suggest_loguniform('reg_alpha', 1e-8, 1.0),\n",
      "C:\\Users\\HP\\AppData\\Local\\Temp\\ipykernel_10276\\2939489719.py:13: FutureWarning: suggest_loguniform has been deprecated in v3.0.0. This feature will be removed in v6.0.0. See https://github.com/optuna/optuna/releases/tag/v3.0.0. Use :func:`~optuna.trial.Trial.suggest_float` instead.\n",
      "  'reg_lambda': trial.suggest_loguniform('reg_lambda', 1e-8, 1.0),\n",
      "C:\\Users\\HP\\anaconda3\\lib\\site-packages\\xgboost\\sklearn.py:1421: UserWarning: `use_label_encoder` is deprecated in 1.7.0.\n",
      "  warnings.warn(\"`use_label_encoder` is deprecated in 1.7.0.\")\n"
     ]
    },
    {
     "name": "stderr",
     "output_type": "stream",
     "text": [
      "\u001b[32m[I 2023-03-18 18:13:56,328]\u001b[0m Trial 3 finished with value: 0.598886250998326 and parameters: {'max_depth': 2, 'learning_rate': 0.03007682472171972, 'n_estimators': 58, 'min_child_weight': 9, 'gamma': 0.08271469685751609, 'subsample': 0.21586757263100567, 'colsample_bytree': 0.09322928280703836, 'reg_alpha': 7.061035499428315e-05, 'reg_lambda': 0.6145683250486763}. Best is trial 1 with value: 0.629016553067186.\u001b[0m\n",
      "C:\\Users\\HP\\AppData\\Local\\Temp\\ipykernel_10276\\2939489719.py:6: FutureWarning: suggest_loguniform has been deprecated in v3.0.0. This feature will be removed in v6.0.0. See https://github.com/optuna/optuna/releases/tag/v3.0.0. Use :func:`~optuna.trial.Trial.suggest_float` instead.\n",
      "  'learning_rate': trial.suggest_loguniform('learning_rate', 0.01, 1.0),\n",
      "C:\\Users\\HP\\AppData\\Local\\Temp\\ipykernel_10276\\2939489719.py:9: FutureWarning: suggest_loguniform has been deprecated in v3.0.0. This feature will be removed in v6.0.0. See https://github.com/optuna/optuna/releases/tag/v3.0.0. Use :func:`~optuna.trial.Trial.suggest_float` instead.\n",
      "  'gamma': trial.suggest_loguniform('gamma', 1e-8, 1.0),\n",
      "C:\\Users\\HP\\AppData\\Local\\Temp\\ipykernel_10276\\2939489719.py:10: FutureWarning: suggest_loguniform has been deprecated in v3.0.0. This feature will be removed in v6.0.0. See https://github.com/optuna/optuna/releases/tag/v3.0.0. Use :func:`~optuna.trial.Trial.suggest_float` instead.\n",
      "  'subsample': trial.suggest_loguniform('subsample', 0.01, 1.0),\n",
      "C:\\Users\\HP\\AppData\\Local\\Temp\\ipykernel_10276\\2939489719.py:11: FutureWarning: suggest_loguniform has been deprecated in v3.0.0. This feature will be removed in v6.0.0. See https://github.com/optuna/optuna/releases/tag/v3.0.0. Use :func:`~optuna.trial.Trial.suggest_float` instead.\n",
      "  'colsample_bytree': trial.suggest_loguniform('colsample_bytree', 0.01, 1.0),\n",
      "C:\\Users\\HP\\AppData\\Local\\Temp\\ipykernel_10276\\2939489719.py:12: FutureWarning: suggest_loguniform has been deprecated in v3.0.0. This feature will be removed in v6.0.0. See https://github.com/optuna/optuna/releases/tag/v3.0.0. Use :func:`~optuna.trial.Trial.suggest_float` instead.\n",
      "  'reg_alpha': trial.suggest_loguniform('reg_alpha', 1e-8, 1.0),\n",
      "C:\\Users\\HP\\AppData\\Local\\Temp\\ipykernel_10276\\2939489719.py:13: FutureWarning: suggest_loguniform has been deprecated in v3.0.0. This feature will be removed in v6.0.0. See https://github.com/optuna/optuna/releases/tag/v3.0.0. Use :func:`~optuna.trial.Trial.suggest_float` instead.\n",
      "  'reg_lambda': trial.suggest_loguniform('reg_lambda', 1e-8, 1.0),\n",
      "C:\\Users\\HP\\anaconda3\\lib\\site-packages\\xgboost\\sklearn.py:1421: UserWarning: `use_label_encoder` is deprecated in 1.7.0.\n",
      "  warnings.warn(\"`use_label_encoder` is deprecated in 1.7.0.\")\n",
      "\u001b[32m[I 2023-03-18 18:14:20,389]\u001b[0m Trial 4 finished with value: 0.6294541754647003 and parameters: {'max_depth': 4, 'learning_rate': 0.060424452224896126, 'n_estimators': 193, 'min_child_weight': 9, 'gamma': 0.1970591155211585, 'subsample': 0.04570109655545561, 'colsample_bytree': 0.8747757725182184, 'reg_alpha': 1.3968029954771955e-07, 'reg_lambda': 0.034844675577596206}. Best is trial 4 with value: 0.6294541754647003.\u001b[0m\n",
      "C:\\Users\\HP\\AppData\\Local\\Temp\\ipykernel_10276\\2939489719.py:6: FutureWarning: suggest_loguniform has been deprecated in v3.0.0. This feature will be removed in v6.0.0. See https://github.com/optuna/optuna/releases/tag/v3.0.0. Use :func:`~optuna.trial.Trial.suggest_float` instead.\n",
      "  'learning_rate': trial.suggest_loguniform('learning_rate', 0.01, 1.0),\n",
      "C:\\Users\\HP\\AppData\\Local\\Temp\\ipykernel_10276\\2939489719.py:9: FutureWarning: suggest_loguniform has been deprecated in v3.0.0. This feature will be removed in v6.0.0. See https://github.com/optuna/optuna/releases/tag/v3.0.0. Use :func:`~optuna.trial.Trial.suggest_float` instead.\n",
      "  'gamma': trial.suggest_loguniform('gamma', 1e-8, 1.0),\n",
      "C:\\Users\\HP\\AppData\\Local\\Temp\\ipykernel_10276\\2939489719.py:10: FutureWarning: suggest_loguniform has been deprecated in v3.0.0. This feature will be removed in v6.0.0. See https://github.com/optuna/optuna/releases/tag/v3.0.0. Use :func:`~optuna.trial.Trial.suggest_float` instead.\n",
      "  'subsample': trial.suggest_loguniform('subsample', 0.01, 1.0),\n",
      "C:\\Users\\HP\\AppData\\Local\\Temp\\ipykernel_10276\\2939489719.py:11: FutureWarning: suggest_loguniform has been deprecated in v3.0.0. This feature will be removed in v6.0.0. See https://github.com/optuna/optuna/releases/tag/v3.0.0. Use :func:`~optuna.trial.Trial.suggest_float` instead.\n",
      "  'colsample_bytree': trial.suggest_loguniform('colsample_bytree', 0.01, 1.0),\n",
      "C:\\Users\\HP\\AppData\\Local\\Temp\\ipykernel_10276\\2939489719.py:12: FutureWarning: suggest_loguniform has been deprecated in v3.0.0. This feature will be removed in v6.0.0. See https://github.com/optuna/optuna/releases/tag/v3.0.0. Use :func:`~optuna.trial.Trial.suggest_float` instead.\n",
      "  'reg_alpha': trial.suggest_loguniform('reg_alpha', 1e-8, 1.0),\n",
      "C:\\Users\\HP\\AppData\\Local\\Temp\\ipykernel_10276\\2939489719.py:13: FutureWarning: suggest_loguniform has been deprecated in v3.0.0. This feature will be removed in v6.0.0. See https://github.com/optuna/optuna/releases/tag/v3.0.0. Use :func:`~optuna.trial.Trial.suggest_float` instead.\n",
      "  'reg_lambda': trial.suggest_loguniform('reg_lambda', 1e-8, 1.0),\n",
      "C:\\Users\\HP\\anaconda3\\lib\\site-packages\\xgboost\\sklearn.py:1421: UserWarning: `use_label_encoder` is deprecated in 1.7.0.\n",
      "  warnings.warn(\"`use_label_encoder` is deprecated in 1.7.0.\")\n",
      "\u001b[32m[I 2023-03-18 18:15:14,566]\u001b[0m Trial 5 finished with value: 0.6371125674212006 and parameters: {'max_depth': 9, 'learning_rate': 0.3361390920146247, 'n_estimators': 286, 'min_child_weight': 8, 'gamma': 1.3595922672410618e-08, 'subsample': 0.38044567899351744, 'colsample_bytree': 0.2350470014418693, 'reg_alpha': 0.0024125067218613667, 'reg_lambda': 0.19055154795639417}. Best is trial 5 with value: 0.6371125674212006.\u001b[0m\n",
      "C:\\Users\\HP\\AppData\\Local\\Temp\\ipykernel_10276\\2939489719.py:6: FutureWarning: suggest_loguniform has been deprecated in v3.0.0. This feature will be removed in v6.0.0. See https://github.com/optuna/optuna/releases/tag/v3.0.0. Use :func:`~optuna.trial.Trial.suggest_float` instead.\n",
      "  'learning_rate': trial.suggest_loguniform('learning_rate', 0.01, 1.0),\n",
      "C:\\Users\\HP\\AppData\\Local\\Temp\\ipykernel_10276\\2939489719.py:9: FutureWarning: suggest_loguniform has been deprecated in v3.0.0. This feature will be removed in v6.0.0. See https://github.com/optuna/optuna/releases/tag/v3.0.0. Use :func:`~optuna.trial.Trial.suggest_float` instead.\n",
      "  'gamma': trial.suggest_loguniform('gamma', 1e-8, 1.0),\n",
      "C:\\Users\\HP\\AppData\\Local\\Temp\\ipykernel_10276\\2939489719.py:10: FutureWarning: suggest_loguniform has been deprecated in v3.0.0. This feature will be removed in v6.0.0. See https://github.com/optuna/optuna/releases/tag/v3.0.0. Use :func:`~optuna.trial.Trial.suggest_float` instead.\n",
      "  'subsample': trial.suggest_loguniform('subsample', 0.01, 1.0),\n",
      "C:\\Users\\HP\\AppData\\Local\\Temp\\ipykernel_10276\\2939489719.py:11: FutureWarning: suggest_loguniform has been deprecated in v3.0.0. This feature will be removed in v6.0.0. See https://github.com/optuna/optuna/releases/tag/v3.0.0. Use :func:`~optuna.trial.Trial.suggest_float` instead.\n",
      "  'colsample_bytree': trial.suggest_loguniform('colsample_bytree', 0.01, 1.0),\n",
      "C:\\Users\\HP\\AppData\\Local\\Temp\\ipykernel_10276\\2939489719.py:12: FutureWarning: suggest_loguniform has been deprecated in v3.0.0. This feature will be removed in v6.0.0. See https://github.com/optuna/optuna/releases/tag/v3.0.0. Use :func:`~optuna.trial.Trial.suggest_float` instead.\n",
      "  'reg_alpha': trial.suggest_loguniform('reg_alpha', 1e-8, 1.0),\n",
      "C:\\Users\\HP\\AppData\\Local\\Temp\\ipykernel_10276\\2939489719.py:13: FutureWarning: suggest_loguniform has been deprecated in v3.0.0. This feature will be removed in v6.0.0. See https://github.com/optuna/optuna/releases/tag/v3.0.0. Use :func:`~optuna.trial.Trial.suggest_float` instead.\n",
      "  'reg_lambda': trial.suggest_loguniform('reg_lambda', 1e-8, 1.0),\n",
      "C:\\Users\\HP\\anaconda3\\lib\\site-packages\\xgboost\\sklearn.py:1421: UserWarning: `use_label_encoder` is deprecated in 1.7.0.\n",
      "  warnings.warn(\"`use_label_encoder` is deprecated in 1.7.0.\")\n",
      "\u001b[32m[I 2023-03-18 18:15:27,404]\u001b[0m Trial 6 finished with value: 0.5798715578263296 and parameters: {'max_depth': 9, 'learning_rate': 0.5751974311699918, 'n_estimators': 91, 'min_child_weight': 8, 'gamma': 0.0045206695416837705, 'subsample': 0.01674604941187543, 'colsample_bytree': 0.23377903566406244, 'reg_alpha': 4.962220661819441e-07, 'reg_lambda': 0.00023283045369688053}. Best is trial 5 with value: 0.6371125674212006.\u001b[0m\n"
     ]
    },
    {
     "name": "stderr",
     "output_type": "stream",
     "text": [
      "C:\\Users\\HP\\AppData\\Local\\Temp\\ipykernel_10276\\2939489719.py:6: FutureWarning: suggest_loguniform has been deprecated in v3.0.0. This feature will be removed in v6.0.0. See https://github.com/optuna/optuna/releases/tag/v3.0.0. Use :func:`~optuna.trial.Trial.suggest_float` instead.\n",
      "  'learning_rate': trial.suggest_loguniform('learning_rate', 0.01, 1.0),\n",
      "C:\\Users\\HP\\AppData\\Local\\Temp\\ipykernel_10276\\2939489719.py:9: FutureWarning: suggest_loguniform has been deprecated in v3.0.0. This feature will be removed in v6.0.0. See https://github.com/optuna/optuna/releases/tag/v3.0.0. Use :func:`~optuna.trial.Trial.suggest_float` instead.\n",
      "  'gamma': trial.suggest_loguniform('gamma', 1e-8, 1.0),\n",
      "C:\\Users\\HP\\AppData\\Local\\Temp\\ipykernel_10276\\2939489719.py:10: FutureWarning: suggest_loguniform has been deprecated in v3.0.0. This feature will be removed in v6.0.0. See https://github.com/optuna/optuna/releases/tag/v3.0.0. Use :func:`~optuna.trial.Trial.suggest_float` instead.\n",
      "  'subsample': trial.suggest_loguniform('subsample', 0.01, 1.0),\n",
      "C:\\Users\\HP\\AppData\\Local\\Temp\\ipykernel_10276\\2939489719.py:11: FutureWarning: suggest_loguniform has been deprecated in v3.0.0. This feature will be removed in v6.0.0. See https://github.com/optuna/optuna/releases/tag/v3.0.0. Use :func:`~optuna.trial.Trial.suggest_float` instead.\n",
      "  'colsample_bytree': trial.suggest_loguniform('colsample_bytree', 0.01, 1.0),\n",
      "C:\\Users\\HP\\AppData\\Local\\Temp\\ipykernel_10276\\2939489719.py:12: FutureWarning: suggest_loguniform has been deprecated in v3.0.0. This feature will be removed in v6.0.0. See https://github.com/optuna/optuna/releases/tag/v3.0.0. Use :func:`~optuna.trial.Trial.suggest_float` instead.\n",
      "  'reg_alpha': trial.suggest_loguniform('reg_alpha', 1e-8, 1.0),\n",
      "C:\\Users\\HP\\AppData\\Local\\Temp\\ipykernel_10276\\2939489719.py:13: FutureWarning: suggest_loguniform has been deprecated in v3.0.0. This feature will be removed in v6.0.0. See https://github.com/optuna/optuna/releases/tag/v3.0.0. Use :func:`~optuna.trial.Trial.suggest_float` instead.\n",
      "  'reg_lambda': trial.suggest_loguniform('reg_lambda', 1e-8, 1.0),\n",
      "C:\\Users\\HP\\anaconda3\\lib\\site-packages\\xgboost\\sklearn.py:1421: UserWarning: `use_label_encoder` is deprecated in 1.7.0.\n",
      "  warnings.warn(\"`use_label_encoder` is deprecated in 1.7.0.\")\n",
      "\u001b[32m[I 2023-03-18 18:16:26,454]\u001b[0m Trial 7 finished with value: 0.6358106407885956 and parameters: {'max_depth': 5, 'learning_rate': 0.05439210562607727, 'n_estimators': 464, 'min_child_weight': 8, 'gamma': 7.0048094707239956e-06, 'subsample': 0.3151248451229302, 'colsample_bytree': 0.3029197842157469, 'reg_alpha': 2.52591869092491e-05, 'reg_lambda': 7.340109006393944e-07}. Best is trial 5 with value: 0.6371125674212006.\u001b[0m\n",
      "C:\\Users\\HP\\AppData\\Local\\Temp\\ipykernel_10276\\2939489719.py:6: FutureWarning: suggest_loguniform has been deprecated in v3.0.0. This feature will be removed in v6.0.0. See https://github.com/optuna/optuna/releases/tag/v3.0.0. Use :func:`~optuna.trial.Trial.suggest_float` instead.\n",
      "  'learning_rate': trial.suggest_loguniform('learning_rate', 0.01, 1.0),\n",
      "C:\\Users\\HP\\AppData\\Local\\Temp\\ipykernel_10276\\2939489719.py:9: FutureWarning: suggest_loguniform has been deprecated in v3.0.0. This feature will be removed in v6.0.0. See https://github.com/optuna/optuna/releases/tag/v3.0.0. Use :func:`~optuna.trial.Trial.suggest_float` instead.\n",
      "  'gamma': trial.suggest_loguniform('gamma', 1e-8, 1.0),\n",
      "C:\\Users\\HP\\AppData\\Local\\Temp\\ipykernel_10276\\2939489719.py:10: FutureWarning: suggest_loguniform has been deprecated in v3.0.0. This feature will be removed in v6.0.0. See https://github.com/optuna/optuna/releases/tag/v3.0.0. Use :func:`~optuna.trial.Trial.suggest_float` instead.\n",
      "  'subsample': trial.suggest_loguniform('subsample', 0.01, 1.0),\n",
      "C:\\Users\\HP\\AppData\\Local\\Temp\\ipykernel_10276\\2939489719.py:11: FutureWarning: suggest_loguniform has been deprecated in v3.0.0. This feature will be removed in v6.0.0. See https://github.com/optuna/optuna/releases/tag/v3.0.0. Use :func:`~optuna.trial.Trial.suggest_float` instead.\n",
      "  'colsample_bytree': trial.suggest_loguniform('colsample_bytree', 0.01, 1.0),\n",
      "C:\\Users\\HP\\AppData\\Local\\Temp\\ipykernel_10276\\2939489719.py:12: FutureWarning: suggest_loguniform has been deprecated in v3.0.0. This feature will be removed in v6.0.0. See https://github.com/optuna/optuna/releases/tag/v3.0.0. Use :func:`~optuna.trial.Trial.suggest_float` instead.\n",
      "  'reg_alpha': trial.suggest_loguniform('reg_alpha', 1e-8, 1.0),\n",
      "C:\\Users\\HP\\AppData\\Local\\Temp\\ipykernel_10276\\2939489719.py:13: FutureWarning: suggest_loguniform has been deprecated in v3.0.0. This feature will be removed in v6.0.0. See https://github.com/optuna/optuna/releases/tag/v3.0.0. Use :func:`~optuna.trial.Trial.suggest_float` instead.\n",
      "  'reg_lambda': trial.suggest_loguniform('reg_lambda', 1e-8, 1.0),\n",
      "C:\\Users\\HP\\anaconda3\\lib\\site-packages\\xgboost\\sklearn.py:1421: UserWarning: `use_label_encoder` is deprecated in 1.7.0.\n",
      "  warnings.warn(\"`use_label_encoder` is deprecated in 1.7.0.\")\n",
      "\u001b[32m[I 2023-03-18 18:16:48,531]\u001b[0m Trial 8 finished with value: 0.6180322308895769 and parameters: {'max_depth': 9, 'learning_rate': 0.10678589666505722, 'n_estimators': 293, 'min_child_weight': 7, 'gamma': 4.259592459453035e-06, 'subsample': 0.05692789839895096, 'colsample_bytree': 0.03257809696926179, 'reg_alpha': 0.00891487560376875, 'reg_lambda': 2.913195004603857e-07}. Best is trial 5 with value: 0.6371125674212006.\u001b[0m\n",
      "C:\\Users\\HP\\AppData\\Local\\Temp\\ipykernel_10276\\2939489719.py:6: FutureWarning: suggest_loguniform has been deprecated in v3.0.0. This feature will be removed in v6.0.0. See https://github.com/optuna/optuna/releases/tag/v3.0.0. Use :func:`~optuna.trial.Trial.suggest_float` instead.\n",
      "  'learning_rate': trial.suggest_loguniform('learning_rate', 0.01, 1.0),\n",
      "C:\\Users\\HP\\AppData\\Local\\Temp\\ipykernel_10276\\2939489719.py:9: FutureWarning: suggest_loguniform has been deprecated in v3.0.0. This feature will be removed in v6.0.0. See https://github.com/optuna/optuna/releases/tag/v3.0.0. Use :func:`~optuna.trial.Trial.suggest_float` instead.\n",
      "  'gamma': trial.suggest_loguniform('gamma', 1e-8, 1.0),\n",
      "C:\\Users\\HP\\AppData\\Local\\Temp\\ipykernel_10276\\2939489719.py:10: FutureWarning: suggest_loguniform has been deprecated in v3.0.0. This feature will be removed in v6.0.0. See https://github.com/optuna/optuna/releases/tag/v3.0.0. Use :func:`~optuna.trial.Trial.suggest_float` instead.\n",
      "  'subsample': trial.suggest_loguniform('subsample', 0.01, 1.0),\n",
      "C:\\Users\\HP\\AppData\\Local\\Temp\\ipykernel_10276\\2939489719.py:11: FutureWarning: suggest_loguniform has been deprecated in v3.0.0. This feature will be removed in v6.0.0. See https://github.com/optuna/optuna/releases/tag/v3.0.0. Use :func:`~optuna.trial.Trial.suggest_float` instead.\n",
      "  'colsample_bytree': trial.suggest_loguniform('colsample_bytree', 0.01, 1.0),\n",
      "C:\\Users\\HP\\AppData\\Local\\Temp\\ipykernel_10276\\2939489719.py:12: FutureWarning: suggest_loguniform has been deprecated in v3.0.0. This feature will be removed in v6.0.0. See https://github.com/optuna/optuna/releases/tag/v3.0.0. Use :func:`~optuna.trial.Trial.suggest_float` instead.\n",
      "  'reg_alpha': trial.suggest_loguniform('reg_alpha', 1e-8, 1.0),\n",
      "C:\\Users\\HP\\AppData\\Local\\Temp\\ipykernel_10276\\2939489719.py:13: FutureWarning: suggest_loguniform has been deprecated in v3.0.0. This feature will be removed in v6.0.0. See https://github.com/optuna/optuna/releases/tag/v3.0.0. Use :func:`~optuna.trial.Trial.suggest_float` instead.\n",
      "  'reg_lambda': trial.suggest_loguniform('reg_lambda', 1e-8, 1.0),\n",
      "C:\\Users\\HP\\anaconda3\\lib\\site-packages\\xgboost\\sklearn.py:1421: UserWarning: `use_label_encoder` is deprecated in 1.7.0.\n",
      "  warnings.warn(\"`use_label_encoder` is deprecated in 1.7.0.\")\n",
      "\u001b[32m[I 2023-03-18 18:16:54,684]\u001b[0m Trial 9 finished with value: 0.6191372274433006 and parameters: {'max_depth': 5, 'learning_rate': 0.4478209533639138, 'n_estimators': 80, 'min_child_weight': 8, 'gamma': 0.09487842761566825, 'subsample': 0.12150051087394897, 'colsample_bytree': 0.013216281774576885, 'reg_alpha': 0.0003515166785898071, 'reg_lambda': 0.0006511147356886919}. Best is trial 5 with value: 0.6371125674212006.\u001b[0m\n",
      "C:\\Users\\HP\\AppData\\Local\\Temp\\ipykernel_10276\\2939489719.py:6: FutureWarning: suggest_loguniform has been deprecated in v3.0.0. This feature will be removed in v6.0.0. See https://github.com/optuna/optuna/releases/tag/v3.0.0. Use :func:`~optuna.trial.Trial.suggest_float` instead.\n",
      "  'learning_rate': trial.suggest_loguniform('learning_rate', 0.01, 1.0),\n",
      "C:\\Users\\HP\\AppData\\Local\\Temp\\ipykernel_10276\\2939489719.py:9: FutureWarning: suggest_loguniform has been deprecated in v3.0.0. This feature will be removed in v6.0.0. See https://github.com/optuna/optuna/releases/tag/v3.0.0. Use :func:`~optuna.trial.Trial.suggest_float` instead.\n",
      "  'gamma': trial.suggest_loguniform('gamma', 1e-8, 1.0),\n",
      "C:\\Users\\HP\\AppData\\Local\\Temp\\ipykernel_10276\\2939489719.py:10: FutureWarning: suggest_loguniform has been deprecated in v3.0.0. This feature will be removed in v6.0.0. See https://github.com/optuna/optuna/releases/tag/v3.0.0. Use :func:`~optuna.trial.Trial.suggest_float` instead.\n",
      "  'subsample': trial.suggest_loguniform('subsample', 0.01, 1.0),\n",
      "C:\\Users\\HP\\AppData\\Local\\Temp\\ipykernel_10276\\2939489719.py:11: FutureWarning: suggest_loguniform has been deprecated in v3.0.0. This feature will be removed in v6.0.0. See https://github.com/optuna/optuna/releases/tag/v3.0.0. Use :func:`~optuna.trial.Trial.suggest_float` instead.\n",
      "  'colsample_bytree': trial.suggest_loguniform('colsample_bytree', 0.01, 1.0),\n",
      "C:\\Users\\HP\\AppData\\Local\\Temp\\ipykernel_10276\\2939489719.py:12: FutureWarning: suggest_loguniform has been deprecated in v3.0.0. This feature will be removed in v6.0.0. See https://github.com/optuna/optuna/releases/tag/v3.0.0. Use :func:`~optuna.trial.Trial.suggest_float` instead.\n",
      "  'reg_alpha': trial.suggest_loguniform('reg_alpha', 1e-8, 1.0),\n",
      "C:\\Users\\HP\\AppData\\Local\\Temp\\ipykernel_10276\\2939489719.py:13: FutureWarning: suggest_loguniform has been deprecated in v3.0.0. This feature will be removed in v6.0.0. See https://github.com/optuna/optuna/releases/tag/v3.0.0. Use :func:`~optuna.trial.Trial.suggest_float` instead.\n",
      "  'reg_lambda': trial.suggest_loguniform('reg_lambda', 1e-8, 1.0),\n",
      "C:\\Users\\HP\\anaconda3\\lib\\site-packages\\xgboost\\sklearn.py:1421: UserWarning: `use_label_encoder` is deprecated in 1.7.0.\n",
      "  warnings.warn(\"`use_label_encoder` is deprecated in 1.7.0.\")\n"
     ]
    },
    {
     "name": "stderr",
     "output_type": "stream",
     "text": [
      "\u001b[32m[I 2023-03-18 18:17:39,851]\u001b[0m Trial 10 finished with value: 0.6076934017483014 and parameters: {'max_depth': 7, 'learning_rate': 0.010950454863328206, 'n_estimators': 402, 'min_child_weight': 4, 'gamma': 1.99845978992944e-08, 'subsample': 0.988372264181993, 'colsample_bytree': 0.1160617688261729, 'reg_alpha': 0.2908205602081503, 'reg_lambda': 0.9734343857863496}. Best is trial 5 with value: 0.6371125674212006.\u001b[0m\n",
      "C:\\Users\\HP\\AppData\\Local\\Temp\\ipykernel_10276\\2939489719.py:6: FutureWarning: suggest_loguniform has been deprecated in v3.0.0. This feature will be removed in v6.0.0. See https://github.com/optuna/optuna/releases/tag/v3.0.0. Use :func:`~optuna.trial.Trial.suggest_float` instead.\n",
      "  'learning_rate': trial.suggest_loguniform('learning_rate', 0.01, 1.0),\n",
      "C:\\Users\\HP\\AppData\\Local\\Temp\\ipykernel_10276\\2939489719.py:9: FutureWarning: suggest_loguniform has been deprecated in v3.0.0. This feature will be removed in v6.0.0. See https://github.com/optuna/optuna/releases/tag/v3.0.0. Use :func:`~optuna.trial.Trial.suggest_float` instead.\n",
      "  'gamma': trial.suggest_loguniform('gamma', 1e-8, 1.0),\n",
      "C:\\Users\\HP\\AppData\\Local\\Temp\\ipykernel_10276\\2939489719.py:10: FutureWarning: suggest_loguniform has been deprecated in v3.0.0. This feature will be removed in v6.0.0. See https://github.com/optuna/optuna/releases/tag/v3.0.0. Use :func:`~optuna.trial.Trial.suggest_float` instead.\n",
      "  'subsample': trial.suggest_loguniform('subsample', 0.01, 1.0),\n",
      "C:\\Users\\HP\\AppData\\Local\\Temp\\ipykernel_10276\\2939489719.py:11: FutureWarning: suggest_loguniform has been deprecated in v3.0.0. This feature will be removed in v6.0.0. See https://github.com/optuna/optuna/releases/tag/v3.0.0. Use :func:`~optuna.trial.Trial.suggest_float` instead.\n",
      "  'colsample_bytree': trial.suggest_loguniform('colsample_bytree', 0.01, 1.0),\n",
      "C:\\Users\\HP\\AppData\\Local\\Temp\\ipykernel_10276\\2939489719.py:12: FutureWarning: suggest_loguniform has been deprecated in v3.0.0. This feature will be removed in v6.0.0. See https://github.com/optuna/optuna/releases/tag/v3.0.0. Use :func:`~optuna.trial.Trial.suggest_float` instead.\n",
      "  'reg_alpha': trial.suggest_loguniform('reg_alpha', 1e-8, 1.0),\n",
      "C:\\Users\\HP\\AppData\\Local\\Temp\\ipykernel_10276\\2939489719.py:13: FutureWarning: suggest_loguniform has been deprecated in v3.0.0. This feature will be removed in v6.0.0. See https://github.com/optuna/optuna/releases/tag/v3.0.0. Use :func:`~optuna.trial.Trial.suggest_float` instead.\n",
      "  'reg_lambda': trial.suggest_loguniform('reg_lambda', 1e-8, 1.0),\n",
      "C:\\Users\\HP\\anaconda3\\lib\\site-packages\\xgboost\\sklearn.py:1421: UserWarning: `use_label_encoder` is deprecated in 1.7.0.\n",
      "  warnings.warn(\"`use_label_encoder` is deprecated in 1.7.0.\")\n",
      "\u001b[32m[I 2023-03-18 18:18:59,571]\u001b[0m Trial 11 finished with value: 0.6403619137227443 and parameters: {'max_depth': 7, 'learning_rate': 0.17939722603572958, 'n_estimators': 500, 'min_child_weight': 6, 'gamma': 1.0389099314653888e-08, 'subsample': 0.3601264181782527, 'colsample_bytree': 0.2759577042646542, 'reg_alpha': 4.395901192795755e-06, 'reg_lambda': 1.2611365155318384e-08}. Best is trial 11 with value: 0.6403619137227443.\u001b[0m\n",
      "C:\\Users\\HP\\AppData\\Local\\Temp\\ipykernel_10276\\2939489719.py:6: FutureWarning: suggest_loguniform has been deprecated in v3.0.0. This feature will be removed in v6.0.0. See https://github.com/optuna/optuna/releases/tag/v3.0.0. Use :func:`~optuna.trial.Trial.suggest_float` instead.\n",
      "  'learning_rate': trial.suggest_loguniform('learning_rate', 0.01, 1.0),\n",
      "C:\\Users\\HP\\AppData\\Local\\Temp\\ipykernel_10276\\2939489719.py:9: FutureWarning: suggest_loguniform has been deprecated in v3.0.0. This feature will be removed in v6.0.0. See https://github.com/optuna/optuna/releases/tag/v3.0.0. Use :func:`~optuna.trial.Trial.suggest_float` instead.\n",
      "  'gamma': trial.suggest_loguniform('gamma', 1e-8, 1.0),\n",
      "C:\\Users\\HP\\AppData\\Local\\Temp\\ipykernel_10276\\2939489719.py:10: FutureWarning: suggest_loguniform has been deprecated in v3.0.0. This feature will be removed in v6.0.0. See https://github.com/optuna/optuna/releases/tag/v3.0.0. Use :func:`~optuna.trial.Trial.suggest_float` instead.\n",
      "  'subsample': trial.suggest_loguniform('subsample', 0.01, 1.0),\n",
      "C:\\Users\\HP\\AppData\\Local\\Temp\\ipykernel_10276\\2939489719.py:11: FutureWarning: suggest_loguniform has been deprecated in v3.0.0. This feature will be removed in v6.0.0. See https://github.com/optuna/optuna/releases/tag/v3.0.0. Use :func:`~optuna.trial.Trial.suggest_float` instead.\n",
      "  'colsample_bytree': trial.suggest_loguniform('colsample_bytree', 0.01, 1.0),\n",
      "C:\\Users\\HP\\AppData\\Local\\Temp\\ipykernel_10276\\2939489719.py:12: FutureWarning: suggest_loguniform has been deprecated in v3.0.0. This feature will be removed in v6.0.0. See https://github.com/optuna/optuna/releases/tag/v3.0.0. Use :func:`~optuna.trial.Trial.suggest_float` instead.\n",
      "  'reg_alpha': trial.suggest_loguniform('reg_alpha', 1e-8, 1.0),\n",
      "C:\\Users\\HP\\AppData\\Local\\Temp\\ipykernel_10276\\2939489719.py:13: FutureWarning: suggest_loguniform has been deprecated in v3.0.0. This feature will be removed in v6.0.0. See https://github.com/optuna/optuna/releases/tag/v3.0.0. Use :func:`~optuna.trial.Trial.suggest_float` instead.\n",
      "  'reg_lambda': trial.suggest_loguniform('reg_lambda', 1e-8, 1.0),\n",
      "C:\\Users\\HP\\anaconda3\\lib\\site-packages\\xgboost\\sklearn.py:1421: UserWarning: `use_label_encoder` is deprecated in 1.7.0.\n",
      "  warnings.warn(\"`use_label_encoder` is deprecated in 1.7.0.\")\n",
      "\u001b[32m[I 2023-03-18 18:20:06,300]\u001b[0m Trial 12 finished with value: 0.6405041410019365 and parameters: {'max_depth': 7, 'learning_rate': 0.2002216957120348, 'n_estimators': 371, 'min_child_weight': 5, 'gamma': 1.0708007074320196e-08, 'subsample': 0.47563574923344454, 'colsample_bytree': 0.26185260547249817, 'reg_alpha': 2.035204315787705e-06, 'reg_lambda': 1.4294019475294033e-08}. Best is trial 12 with value: 0.6405041410019365.\u001b[0m\n",
      "C:\\Users\\HP\\AppData\\Local\\Temp\\ipykernel_10276\\2939489719.py:6: FutureWarning: suggest_loguniform has been deprecated in v3.0.0. This feature will be removed in v6.0.0. See https://github.com/optuna/optuna/releases/tag/v3.0.0. Use :func:`~optuna.trial.Trial.suggest_float` instead.\n",
      "  'learning_rate': trial.suggest_loguniform('learning_rate', 0.01, 1.0),\n",
      "C:\\Users\\HP\\AppData\\Local\\Temp\\ipykernel_10276\\2939489719.py:9: FutureWarning: suggest_loguniform has been deprecated in v3.0.0. This feature will be removed in v6.0.0. See https://github.com/optuna/optuna/releases/tag/v3.0.0. Use :func:`~optuna.trial.Trial.suggest_float` instead.\n",
      "  'gamma': trial.suggest_loguniform('gamma', 1e-8, 1.0),\n",
      "C:\\Users\\HP\\AppData\\Local\\Temp\\ipykernel_10276\\2939489719.py:10: FutureWarning: suggest_loguniform has been deprecated in v3.0.0. This feature will be removed in v6.0.0. See https://github.com/optuna/optuna/releases/tag/v3.0.0. Use :func:`~optuna.trial.Trial.suggest_float` instead.\n",
      "  'subsample': trial.suggest_loguniform('subsample', 0.01, 1.0),\n",
      "C:\\Users\\HP\\AppData\\Local\\Temp\\ipykernel_10276\\2939489719.py:11: FutureWarning: suggest_loguniform has been deprecated in v3.0.0. This feature will be removed in v6.0.0. See https://github.com/optuna/optuna/releases/tag/v3.0.0. Use :func:`~optuna.trial.Trial.suggest_float` instead.\n",
      "  'colsample_bytree': trial.suggest_loguniform('colsample_bytree', 0.01, 1.0),\n",
      "C:\\Users\\HP\\AppData\\Local\\Temp\\ipykernel_10276\\2939489719.py:12: FutureWarning: suggest_loguniform has been deprecated in v3.0.0. This feature will be removed in v6.0.0. See https://github.com/optuna/optuna/releases/tag/v3.0.0. Use :func:`~optuna.trial.Trial.suggest_float` instead.\n",
      "  'reg_alpha': trial.suggest_loguniform('reg_alpha', 1e-8, 1.0),\n",
      "C:\\Users\\HP\\AppData\\Local\\Temp\\ipykernel_10276\\2939489719.py:13: FutureWarning: suggest_loguniform has been deprecated in v3.0.0. This feature will be removed in v6.0.0. See https://github.com/optuna/optuna/releases/tag/v3.0.0. Use :func:`~optuna.trial.Trial.suggest_float` instead.\n",
      "  'reg_lambda': trial.suggest_loguniform('reg_lambda', 1e-8, 1.0),\n",
      "C:\\Users\\HP\\anaconda3\\lib\\site-packages\\xgboost\\sklearn.py:1421: UserWarning: `use_label_encoder` is deprecated in 1.7.0.\n",
      "  warnings.warn(\"`use_label_encoder` is deprecated in 1.7.0.\")\n",
      "\u001b[32m[I 2023-03-18 18:21:49,000]\u001b[0m Trial 13 finished with value: 0.6434909138649716 and parameters: {'max_depth': 7, 'learning_rate': 0.19529230278971432, 'n_estimators': 499, 'min_child_weight': 5, 'gamma': 1.4446357185571368e-07, 'subsample': 0.6178624878355564, 'colsample_bytree': 0.3285171126940691, 'reg_alpha': 1.1305366119787223e-08, 'reg_lambda': 1.8705403382920865e-08}. Best is trial 13 with value: 0.6434909138649716.\u001b[0m\n"
     ]
    },
    {
     "name": "stderr",
     "output_type": "stream",
     "text": [
      "C:\\Users\\HP\\AppData\\Local\\Temp\\ipykernel_10276\\2939489719.py:6: FutureWarning: suggest_loguniform has been deprecated in v3.0.0. This feature will be removed in v6.0.0. See https://github.com/optuna/optuna/releases/tag/v3.0.0. Use :func:`~optuna.trial.Trial.suggest_float` instead.\n",
      "  'learning_rate': trial.suggest_loguniform('learning_rate', 0.01, 1.0),\n",
      "C:\\Users\\HP\\AppData\\Local\\Temp\\ipykernel_10276\\2939489719.py:9: FutureWarning: suggest_loguniform has been deprecated in v3.0.0. This feature will be removed in v6.0.0. See https://github.com/optuna/optuna/releases/tag/v3.0.0. Use :func:`~optuna.trial.Trial.suggest_float` instead.\n",
      "  'gamma': trial.suggest_loguniform('gamma', 1e-8, 1.0),\n",
      "C:\\Users\\HP\\AppData\\Local\\Temp\\ipykernel_10276\\2939489719.py:10: FutureWarning: suggest_loguniform has been deprecated in v3.0.0. This feature will be removed in v6.0.0. See https://github.com/optuna/optuna/releases/tag/v3.0.0. Use :func:`~optuna.trial.Trial.suggest_float` instead.\n",
      "  'subsample': trial.suggest_loguniform('subsample', 0.01, 1.0),\n",
      "C:\\Users\\HP\\AppData\\Local\\Temp\\ipykernel_10276\\2939489719.py:11: FutureWarning: suggest_loguniform has been deprecated in v3.0.0. This feature will be removed in v6.0.0. See https://github.com/optuna/optuna/releases/tag/v3.0.0. Use :func:`~optuna.trial.Trial.suggest_float` instead.\n",
      "  'colsample_bytree': trial.suggest_loguniform('colsample_bytree', 0.01, 1.0),\n",
      "C:\\Users\\HP\\AppData\\Local\\Temp\\ipykernel_10276\\2939489719.py:12: FutureWarning: suggest_loguniform has been deprecated in v3.0.0. This feature will be removed in v6.0.0. See https://github.com/optuna/optuna/releases/tag/v3.0.0. Use :func:`~optuna.trial.Trial.suggest_float` instead.\n",
      "  'reg_alpha': trial.suggest_loguniform('reg_alpha', 1e-8, 1.0),\n",
      "C:\\Users\\HP\\AppData\\Local\\Temp\\ipykernel_10276\\2939489719.py:13: FutureWarning: suggest_loguniform has been deprecated in v3.0.0. This feature will be removed in v6.0.0. See https://github.com/optuna/optuna/releases/tag/v3.0.0. Use :func:`~optuna.trial.Trial.suggest_float` instead.\n",
      "  'reg_lambda': trial.suggest_loguniform('reg_lambda', 1e-8, 1.0),\n",
      "C:\\Users\\HP\\anaconda3\\lib\\site-packages\\xgboost\\sklearn.py:1421: UserWarning: `use_label_encoder` is deprecated in 1.7.0.\n",
      "  warnings.warn(\"`use_label_encoder` is deprecated in 1.7.0.\")\n",
      "\u001b[32m[I 2023-03-18 18:23:06,978]\u001b[0m Trial 14 finished with value: 0.6462041727295603 and parameters: {'max_depth': 7, 'learning_rate': 0.20880280250293315, 'n_estimators': 387, 'min_child_weight': 4, 'gamma': 2.2417396282068421e-07, 'subsample': 0.78427790463712, 'colsample_bytree': 0.4339189256792315, 'reg_alpha': 1.3287402124518579e-08, 'reg_lambda': 1.002990559729209e-08}. Best is trial 14 with value: 0.6462041727295603.\u001b[0m\n",
      "C:\\Users\\HP\\AppData\\Local\\Temp\\ipykernel_10276\\2939489719.py:6: FutureWarning: suggest_loguniform has been deprecated in v3.0.0. This feature will be removed in v6.0.0. See https://github.com/optuna/optuna/releases/tag/v3.0.0. Use :func:`~optuna.trial.Trial.suggest_float` instead.\n",
      "  'learning_rate': trial.suggest_loguniform('learning_rate', 0.01, 1.0),\n",
      "C:\\Users\\HP\\AppData\\Local\\Temp\\ipykernel_10276\\2939489719.py:9: FutureWarning: suggest_loguniform has been deprecated in v3.0.0. This feature will be removed in v6.0.0. See https://github.com/optuna/optuna/releases/tag/v3.0.0. Use :func:`~optuna.trial.Trial.suggest_float` instead.\n",
      "  'gamma': trial.suggest_loguniform('gamma', 1e-8, 1.0),\n",
      "C:\\Users\\HP\\AppData\\Local\\Temp\\ipykernel_10276\\2939489719.py:10: FutureWarning: suggest_loguniform has been deprecated in v3.0.0. This feature will be removed in v6.0.0. See https://github.com/optuna/optuna/releases/tag/v3.0.0. Use :func:`~optuna.trial.Trial.suggest_float` instead.\n",
      "  'subsample': trial.suggest_loguniform('subsample', 0.01, 1.0),\n",
      "C:\\Users\\HP\\AppData\\Local\\Temp\\ipykernel_10276\\2939489719.py:11: FutureWarning: suggest_loguniform has been deprecated in v3.0.0. This feature will be removed in v6.0.0. See https://github.com/optuna/optuna/releases/tag/v3.0.0. Use :func:`~optuna.trial.Trial.suggest_float` instead.\n",
      "  'colsample_bytree': trial.suggest_loguniform('colsample_bytree', 0.01, 1.0),\n",
      "C:\\Users\\HP\\AppData\\Local\\Temp\\ipykernel_10276\\2939489719.py:12: FutureWarning: suggest_loguniform has been deprecated in v3.0.0. This feature will be removed in v6.0.0. See https://github.com/optuna/optuna/releases/tag/v3.0.0. Use :func:`~optuna.trial.Trial.suggest_float` instead.\n",
      "  'reg_alpha': trial.suggest_loguniform('reg_alpha', 1e-8, 1.0),\n",
      "C:\\Users\\HP\\AppData\\Local\\Temp\\ipykernel_10276\\2939489719.py:13: FutureWarning: suggest_loguniform has been deprecated in v3.0.0. This feature will be removed in v6.0.0. See https://github.com/optuna/optuna/releases/tag/v3.0.0. Use :func:`~optuna.trial.Trial.suggest_float` instead.\n",
      "  'reg_lambda': trial.suggest_loguniform('reg_lambda', 1e-8, 1.0),\n",
      "C:\\Users\\HP\\anaconda3\\lib\\site-packages\\xgboost\\sklearn.py:1421: UserWarning: `use_label_encoder` is deprecated in 1.7.0.\n",
      "  warnings.warn(\"`use_label_encoder` is deprecated in 1.7.0.\")\n",
      "\u001b[32m[I 2023-03-18 18:24:23,615]\u001b[0m Trial 15 finished with value: 0.6444536831395031 and parameters: {'max_depth': 6, 'learning_rate': 0.25999351599511106, 'n_estimators': 414, 'min_child_weight': 3, 'gamma': 2.499232220443265e-07, 'subsample': 0.7659748612494813, 'colsample_bytree': 0.5129329084552384, 'reg_alpha': 1.0988334124545151e-08, 'reg_lambda': 5.133425996494718e-06}. Best is trial 14 with value: 0.6462041727295603.\u001b[0m\n",
      "C:\\Users\\HP\\AppData\\Local\\Temp\\ipykernel_10276\\2939489719.py:6: FutureWarning: suggest_loguniform has been deprecated in v3.0.0. This feature will be removed in v6.0.0. See https://github.com/optuna/optuna/releases/tag/v3.0.0. Use :func:`~optuna.trial.Trial.suggest_float` instead.\n",
      "  'learning_rate': trial.suggest_loguniform('learning_rate', 0.01, 1.0),\n",
      "C:\\Users\\HP\\AppData\\Local\\Temp\\ipykernel_10276\\2939489719.py:9: FutureWarning: suggest_loguniform has been deprecated in v3.0.0. This feature will be removed in v6.0.0. See https://github.com/optuna/optuna/releases/tag/v3.0.0. Use :func:`~optuna.trial.Trial.suggest_float` instead.\n",
      "  'gamma': trial.suggest_loguniform('gamma', 1e-8, 1.0),\n",
      "C:\\Users\\HP\\AppData\\Local\\Temp\\ipykernel_10276\\2939489719.py:10: FutureWarning: suggest_loguniform has been deprecated in v3.0.0. This feature will be removed in v6.0.0. See https://github.com/optuna/optuna/releases/tag/v3.0.0. Use :func:`~optuna.trial.Trial.suggest_float` instead.\n",
      "  'subsample': trial.suggest_loguniform('subsample', 0.01, 1.0),\n",
      "C:\\Users\\HP\\AppData\\Local\\Temp\\ipykernel_10276\\2939489719.py:11: FutureWarning: suggest_loguniform has been deprecated in v3.0.0. This feature will be removed in v6.0.0. See https://github.com/optuna/optuna/releases/tag/v3.0.0. Use :func:`~optuna.trial.Trial.suggest_float` instead.\n",
      "  'colsample_bytree': trial.suggest_loguniform('colsample_bytree', 0.01, 1.0),\n",
      "C:\\Users\\HP\\AppData\\Local\\Temp\\ipykernel_10276\\2939489719.py:12: FutureWarning: suggest_loguniform has been deprecated in v3.0.0. This feature will be removed in v6.0.0. See https://github.com/optuna/optuna/releases/tag/v3.0.0. Use :func:`~optuna.trial.Trial.suggest_float` instead.\n",
      "  'reg_alpha': trial.suggest_loguniform('reg_alpha', 1e-8, 1.0),\n",
      "C:\\Users\\HP\\AppData\\Local\\Temp\\ipykernel_10276\\2939489719.py:13: FutureWarning: suggest_loguniform has been deprecated in v3.0.0. This feature will be removed in v6.0.0. See https://github.com/optuna/optuna/releases/tag/v3.0.0. Use :func:`~optuna.trial.Trial.suggest_float` instead.\n",
      "  'reg_lambda': trial.suggest_loguniform('reg_lambda', 1e-8, 1.0),\n",
      "C:\\Users\\HP\\anaconda3\\lib\\site-packages\\xgboost\\sklearn.py:1421: UserWarning: `use_label_encoder` is deprecated in 1.7.0.\n",
      "  warnings.warn(\"`use_label_encoder` is deprecated in 1.7.0.\")\n",
      "\u001b[32m[I 2023-03-18 18:25:31,416]\u001b[0m Trial 16 finished with value: 0.6445849698587574 and parameters: {'max_depth': 6, 'learning_rate': 0.2877555579629497, 'n_estimators': 381, 'min_child_weight': 3, 'gamma': 3.5996067047156584e-07, 'subsample': 0.9572159228844893, 'colsample_bytree': 0.5585696574697089, 'reg_alpha': 3.835882539663915e-08, 'reg_lambda': 1.8788683527506565e-05}. Best is trial 14 with value: 0.6462041727295603.\u001b[0m\n",
      "C:\\Users\\HP\\AppData\\Local\\Temp\\ipykernel_10276\\2939489719.py:6: FutureWarning: suggest_loguniform has been deprecated in v3.0.0. This feature will be removed in v6.0.0. See https://github.com/optuna/optuna/releases/tag/v3.0.0. Use :func:`~optuna.trial.Trial.suggest_float` instead.\n",
      "  'learning_rate': trial.suggest_loguniform('learning_rate', 0.01, 1.0),\n",
      "C:\\Users\\HP\\AppData\\Local\\Temp\\ipykernel_10276\\2939489719.py:9: FutureWarning: suggest_loguniform has been deprecated in v3.0.0. This feature will be removed in v6.0.0. See https://github.com/optuna/optuna/releases/tag/v3.0.0. Use :func:`~optuna.trial.Trial.suggest_float` instead.\n",
      "  'gamma': trial.suggest_loguniform('gamma', 1e-8, 1.0),\n",
      "C:\\Users\\HP\\AppData\\Local\\Temp\\ipykernel_10276\\2939489719.py:10: FutureWarning: suggest_loguniform has been deprecated in v3.0.0. This feature will be removed in v6.0.0. See https://github.com/optuna/optuna/releases/tag/v3.0.0. Use :func:`~optuna.trial.Trial.suggest_float` instead.\n",
      "  'subsample': trial.suggest_loguniform('subsample', 0.01, 1.0),\n",
      "C:\\Users\\HP\\AppData\\Local\\Temp\\ipykernel_10276\\2939489719.py:11: FutureWarning: suggest_loguniform has been deprecated in v3.0.0. This feature will be removed in v6.0.0. See https://github.com/optuna/optuna/releases/tag/v3.0.0. Use :func:`~optuna.trial.Trial.suggest_float` instead.\n",
      "  'colsample_bytree': trial.suggest_loguniform('colsample_bytree', 0.01, 1.0),\n",
      "C:\\Users\\HP\\AppData\\Local\\Temp\\ipykernel_10276\\2939489719.py:12: FutureWarning: suggest_loguniform has been deprecated in v3.0.0. This feature will be removed in v6.0.0. See https://github.com/optuna/optuna/releases/tag/v3.0.0. Use :func:`~optuna.trial.Trial.suggest_float` instead.\n",
      "  'reg_alpha': trial.suggest_loguniform('reg_alpha', 1e-8, 1.0),\n",
      "C:\\Users\\HP\\AppData\\Local\\Temp\\ipykernel_10276\\2939489719.py:13: FutureWarning: suggest_loguniform has been deprecated in v3.0.0. This feature will be removed in v6.0.0. See https://github.com/optuna/optuna/releases/tag/v3.0.0. Use :func:`~optuna.trial.Trial.suggest_float` instead.\n",
      "  'reg_lambda': trial.suggest_loguniform('reg_lambda', 1e-8, 1.0),\n",
      "C:\\Users\\HP\\anaconda3\\lib\\site-packages\\xgboost\\sklearn.py:1421: UserWarning: `use_label_encoder` is deprecated in 1.7.0.\n",
      "  warnings.warn(\"`use_label_encoder` is deprecated in 1.7.0.\")\n"
     ]
    },
    {
     "name": "stderr",
     "output_type": "stream",
     "text": [
      "\u001b[32m[I 2023-03-18 18:27:08,964]\u001b[0m Trial 17 finished with value: 0.6425937879500673 and parameters: {'max_depth': 6, 'learning_rate': 0.11168434618981088, 'n_estimators': 351, 'min_child_weight': 3, 'gamma': 7.681262694488627e-07, 'subsample': 0.6859157130478291, 'colsample_bytree': 0.8591418945402359, 'reg_alpha': 1.2860027907663277e-07, 'reg_lambda': 1.635040278931517e-05}. Best is trial 14 with value: 0.6462041727295603.\u001b[0m\n",
      "C:\\Users\\HP\\AppData\\Local\\Temp\\ipykernel_10276\\2939489719.py:6: FutureWarning: suggest_loguniform has been deprecated in v3.0.0. This feature will be removed in v6.0.0. See https://github.com/optuna/optuna/releases/tag/v3.0.0. Use :func:`~optuna.trial.Trial.suggest_float` instead.\n",
      "  'learning_rate': trial.suggest_loguniform('learning_rate', 0.01, 1.0),\n",
      "C:\\Users\\HP\\AppData\\Local\\Temp\\ipykernel_10276\\2939489719.py:9: FutureWarning: suggest_loguniform has been deprecated in v3.0.0. This feature will be removed in v6.0.0. See https://github.com/optuna/optuna/releases/tag/v3.0.0. Use :func:`~optuna.trial.Trial.suggest_float` instead.\n",
      "  'gamma': trial.suggest_loguniform('gamma', 1e-8, 1.0),\n",
      "C:\\Users\\HP\\AppData\\Local\\Temp\\ipykernel_10276\\2939489719.py:10: FutureWarning: suggest_loguniform has been deprecated in v3.0.0. This feature will be removed in v6.0.0. See https://github.com/optuna/optuna/releases/tag/v3.0.0. Use :func:`~optuna.trial.Trial.suggest_float` instead.\n",
      "  'subsample': trial.suggest_loguniform('subsample', 0.01, 1.0),\n",
      "C:\\Users\\HP\\AppData\\Local\\Temp\\ipykernel_10276\\2939489719.py:11: FutureWarning: suggest_loguniform has been deprecated in v3.0.0. This feature will be removed in v6.0.0. See https://github.com/optuna/optuna/releases/tag/v3.0.0. Use :func:`~optuna.trial.Trial.suggest_float` instead.\n",
      "  'colsample_bytree': trial.suggest_loguniform('colsample_bytree', 0.01, 1.0),\n",
      "C:\\Users\\HP\\AppData\\Local\\Temp\\ipykernel_10276\\2939489719.py:12: FutureWarning: suggest_loguniform has been deprecated in v3.0.0. This feature will be removed in v6.0.0. See https://github.com/optuna/optuna/releases/tag/v3.0.0. Use :func:`~optuna.trial.Trial.suggest_float` instead.\n",
      "  'reg_alpha': trial.suggest_loguniform('reg_alpha', 1e-8, 1.0),\n",
      "C:\\Users\\HP\\AppData\\Local\\Temp\\ipykernel_10276\\2939489719.py:13: FutureWarning: suggest_loguniform has been deprecated in v3.0.0. This feature will be removed in v6.0.0. See https://github.com/optuna/optuna/releases/tag/v3.0.0. Use :func:`~optuna.trial.Trial.suggest_float` instead.\n",
      "  'reg_lambda': trial.suggest_loguniform('reg_lambda', 1e-8, 1.0),\n",
      "C:\\Users\\HP\\anaconda3\\lib\\site-packages\\xgboost\\sklearn.py:1421: UserWarning: `use_label_encoder` is deprecated in 1.7.0.\n",
      "  warnings.warn(\"`use_label_encoder` is deprecated in 1.7.0.\")\n",
      "\u001b[32m[I 2023-03-18 18:27:24,971]\u001b[0m Trial 18 finished with value: 0.6214347450302506 and parameters: {'max_depth': 1, 'learning_rate': 0.5181436835805927, 'n_estimators': 190, 'min_child_weight': 1, 'gamma': 2.188493442591006e-05, 'subsample': 0.9244981364807596, 'colsample_bytree': 0.5108635026807817, 'reg_alpha': 1.0923471855805651e-07, 'reg_lambda': 6.422376487932695e-05}. Best is trial 14 with value: 0.6462041727295603.\u001b[0m\n",
      "C:\\Users\\HP\\AppData\\Local\\Temp\\ipykernel_10276\\2939489719.py:6: FutureWarning: suggest_loguniform has been deprecated in v3.0.0. This feature will be removed in v6.0.0. See https://github.com/optuna/optuna/releases/tag/v3.0.0. Use :func:`~optuna.trial.Trial.suggest_float` instead.\n",
      "  'learning_rate': trial.suggest_loguniform('learning_rate', 0.01, 1.0),\n",
      "C:\\Users\\HP\\AppData\\Local\\Temp\\ipykernel_10276\\2939489719.py:9: FutureWarning: suggest_loguniform has been deprecated in v3.0.0. This feature will be removed in v6.0.0. See https://github.com/optuna/optuna/releases/tag/v3.0.0. Use :func:`~optuna.trial.Trial.suggest_float` instead.\n",
      "  'gamma': trial.suggest_loguniform('gamma', 1e-8, 1.0),\n",
      "C:\\Users\\HP\\AppData\\Local\\Temp\\ipykernel_10276\\2939489719.py:10: FutureWarning: suggest_loguniform has been deprecated in v3.0.0. This feature will be removed in v6.0.0. See https://github.com/optuna/optuna/releases/tag/v3.0.0. Use :func:`~optuna.trial.Trial.suggest_float` instead.\n",
      "  'subsample': trial.suggest_loguniform('subsample', 0.01, 1.0),\n",
      "C:\\Users\\HP\\AppData\\Local\\Temp\\ipykernel_10276\\2939489719.py:11: FutureWarning: suggest_loguniform has been deprecated in v3.0.0. This feature will be removed in v6.0.0. See https://github.com/optuna/optuna/releases/tag/v3.0.0. Use :func:`~optuna.trial.Trial.suggest_float` instead.\n",
      "  'colsample_bytree': trial.suggest_loguniform('colsample_bytree', 0.01, 1.0),\n",
      "C:\\Users\\HP\\AppData\\Local\\Temp\\ipykernel_10276\\2939489719.py:12: FutureWarning: suggest_loguniform has been deprecated in v3.0.0. This feature will be removed in v6.0.0. See https://github.com/optuna/optuna/releases/tag/v3.0.0. Use :func:`~optuna.trial.Trial.suggest_float` instead.\n",
      "  'reg_alpha': trial.suggest_loguniform('reg_alpha', 1e-8, 1.0),\n",
      "C:\\Users\\HP\\AppData\\Local\\Temp\\ipykernel_10276\\2939489719.py:13: FutureWarning: suggest_loguniform has been deprecated in v3.0.0. This feature will be removed in v6.0.0. See https://github.com/optuna/optuna/releases/tag/v3.0.0. Use :func:`~optuna.trial.Trial.suggest_float` instead.\n",
      "  'reg_lambda': trial.suggest_loguniform('reg_lambda', 1e-8, 1.0),\n",
      "C:\\Users\\HP\\anaconda3\\lib\\site-packages\\xgboost\\sklearn.py:1421: UserWarning: `use_label_encoder` is deprecated in 1.7.0.\n",
      "  warnings.warn(\"`use_label_encoder` is deprecated in 1.7.0.\")\n",
      "\u001b[32m[I 2023-03-18 18:28:06,148]\u001b[0m Trial 19 finished with value: 0.6382066234149864 and parameters: {'max_depth': 8, 'learning_rate': 0.3394103837949269, 'n_estimators': 224, 'min_child_weight': 4, 'gamma': 1.6170809686215199e-06, 'subsample': 0.5663776396561221, 'colsample_bytree': 0.149718619302583, 'reg_alpha': 1.1718467965631855e-08, 'reg_lambda': 1.0117498523052374e-06}. Best is trial 14 with value: 0.6462041727295603.\u001b[0m\n",
      "C:\\Users\\HP\\AppData\\Local\\Temp\\ipykernel_10276\\2939489719.py:6: FutureWarning: suggest_loguniform has been deprecated in v3.0.0. This feature will be removed in v6.0.0. See https://github.com/optuna/optuna/releases/tag/v3.0.0. Use :func:`~optuna.trial.Trial.suggest_float` instead.\n",
      "  'learning_rate': trial.suggest_loguniform('learning_rate', 0.01, 1.0),\n",
      "C:\\Users\\HP\\AppData\\Local\\Temp\\ipykernel_10276\\2939489719.py:9: FutureWarning: suggest_loguniform has been deprecated in v3.0.0. This feature will be removed in v6.0.0. See https://github.com/optuna/optuna/releases/tag/v3.0.0. Use :func:`~optuna.trial.Trial.suggest_float` instead.\n",
      "  'gamma': trial.suggest_loguniform('gamma', 1e-8, 1.0),\n",
      "C:\\Users\\HP\\AppData\\Local\\Temp\\ipykernel_10276\\2939489719.py:10: FutureWarning: suggest_loguniform has been deprecated in v3.0.0. This feature will be removed in v6.0.0. See https://github.com/optuna/optuna/releases/tag/v3.0.0. Use :func:`~optuna.trial.Trial.suggest_float` instead.\n",
      "  'subsample': trial.suggest_loguniform('subsample', 0.01, 1.0),\n",
      "C:\\Users\\HP\\AppData\\Local\\Temp\\ipykernel_10276\\2939489719.py:11: FutureWarning: suggest_loguniform has been deprecated in v3.0.0. This feature will be removed in v6.0.0. See https://github.com/optuna/optuna/releases/tag/v3.0.0. Use :func:`~optuna.trial.Trial.suggest_float` instead.\n",
      "  'colsample_bytree': trial.suggest_loguniform('colsample_bytree', 0.01, 1.0),\n",
      "C:\\Users\\HP\\AppData\\Local\\Temp\\ipykernel_10276\\2939489719.py:12: FutureWarning: suggest_loguniform has been deprecated in v3.0.0. This feature will be removed in v6.0.0. See https://github.com/optuna/optuna/releases/tag/v3.0.0. Use :func:`~optuna.trial.Trial.suggest_float` instead.\n",
      "  'reg_alpha': trial.suggest_loguniform('reg_alpha', 1e-8, 1.0),\n",
      "C:\\Users\\HP\\AppData\\Local\\Temp\\ipykernel_10276\\2939489719.py:13: FutureWarning: suggest_loguniform has been deprecated in v3.0.0. This feature will be removed in v6.0.0. See https://github.com/optuna/optuna/releases/tag/v3.0.0. Use :func:`~optuna.trial.Trial.suggest_float` instead.\n",
      "  'reg_lambda': trial.suggest_loguniform('reg_lambda', 1e-8, 1.0),\n",
      "C:\\Users\\HP\\anaconda3\\lib\\site-packages\\xgboost\\sklearn.py:1421: UserWarning: `use_label_encoder` is deprecated in 1.7.0.\n",
      "  warnings.warn(\"`use_label_encoder` is deprecated in 1.7.0.\")\n",
      "\u001b[32m[I 2023-03-18 18:29:26,707]\u001b[0m Trial 20 finished with value: 0.6125619509206481 and parameters: {'max_depth': 6, 'learning_rate': 0.8878853999714488, 'n_estimators': 438, 'min_child_weight': 3, 'gamma': 1.2326390819794516e-07, 'subsample': 0.2380253406339897, 'colsample_bytree': 0.4944027312979558, 'reg_alpha': 5.881548323403999e-06, 'reg_lambda': 8.788729762464955e-08}. Best is trial 14 with value: 0.6462041727295603.\u001b[0m\n"
     ]
    },
    {
     "name": "stderr",
     "output_type": "stream",
     "text": [
      "C:\\Users\\HP\\AppData\\Local\\Temp\\ipykernel_10276\\2939489719.py:6: FutureWarning: suggest_loguniform has been deprecated in v3.0.0. This feature will be removed in v6.0.0. See https://github.com/optuna/optuna/releases/tag/v3.0.0. Use :func:`~optuna.trial.Trial.suggest_float` instead.\n",
      "  'learning_rate': trial.suggest_loguniform('learning_rate', 0.01, 1.0),\n",
      "C:\\Users\\HP\\AppData\\Local\\Temp\\ipykernel_10276\\2939489719.py:9: FutureWarning: suggest_loguniform has been deprecated in v3.0.0. This feature will be removed in v6.0.0. See https://github.com/optuna/optuna/releases/tag/v3.0.0. Use :func:`~optuna.trial.Trial.suggest_float` instead.\n",
      "  'gamma': trial.suggest_loguniform('gamma', 1e-8, 1.0),\n",
      "C:\\Users\\HP\\AppData\\Local\\Temp\\ipykernel_10276\\2939489719.py:10: FutureWarning: suggest_loguniform has been deprecated in v3.0.0. This feature will be removed in v6.0.0. See https://github.com/optuna/optuna/releases/tag/v3.0.0. Use :func:`~optuna.trial.Trial.suggest_float` instead.\n",
      "  'subsample': trial.suggest_loguniform('subsample', 0.01, 1.0),\n",
      "C:\\Users\\HP\\AppData\\Local\\Temp\\ipykernel_10276\\2939489719.py:11: FutureWarning: suggest_loguniform has been deprecated in v3.0.0. This feature will be removed in v6.0.0. See https://github.com/optuna/optuna/releases/tag/v3.0.0. Use :func:`~optuna.trial.Trial.suggest_float` instead.\n",
      "  'colsample_bytree': trial.suggest_loguniform('colsample_bytree', 0.01, 1.0),\n",
      "C:\\Users\\HP\\AppData\\Local\\Temp\\ipykernel_10276\\2939489719.py:12: FutureWarning: suggest_loguniform has been deprecated in v3.0.0. This feature will be removed in v6.0.0. See https://github.com/optuna/optuna/releases/tag/v3.0.0. Use :func:`~optuna.trial.Trial.suggest_float` instead.\n",
      "  'reg_alpha': trial.suggest_loguniform('reg_alpha', 1e-8, 1.0),\n",
      "C:\\Users\\HP\\AppData\\Local\\Temp\\ipykernel_10276\\2939489719.py:13: FutureWarning: suggest_loguniform has been deprecated in v3.0.0. This feature will be removed in v6.0.0. See https://github.com/optuna/optuna/releases/tag/v3.0.0. Use :func:`~optuna.trial.Trial.suggest_float` instead.\n",
      "  'reg_lambda': trial.suggest_loguniform('reg_lambda', 1e-8, 1.0),\n",
      "C:\\Users\\HP\\anaconda3\\lib\\site-packages\\xgboost\\sklearn.py:1421: UserWarning: `use_label_encoder` is deprecated in 1.7.0.\n",
      "  warnings.warn(\"`use_label_encoder` is deprecated in 1.7.0.\")\n",
      "\u001b[32m[I 2023-03-18 18:30:45,337]\u001b[0m Trial 21 finished with value: 0.6460947671301818 and parameters: {'max_depth': 6, 'learning_rate': 0.28426525699314836, 'n_estimators': 411, 'min_child_weight': 3, 'gamma': 6.982582538001725e-07, 'subsample': 0.989639311614167, 'colsample_bytree': 0.46404539574109915, 'reg_alpha': 1.617199133279276e-08, 'reg_lambda': 3.785295303279185e-06}. Best is trial 14 with value: 0.6462041727295603.\u001b[0m\n",
      "C:\\Users\\HP\\AppData\\Local\\Temp\\ipykernel_10276\\2939489719.py:6: FutureWarning: suggest_loguniform has been deprecated in v3.0.0. This feature will be removed in v6.0.0. See https://github.com/optuna/optuna/releases/tag/v3.0.0. Use :func:`~optuna.trial.Trial.suggest_float` instead.\n",
      "  'learning_rate': trial.suggest_loguniform('learning_rate', 0.01, 1.0),\n",
      "C:\\Users\\HP\\AppData\\Local\\Temp\\ipykernel_10276\\2939489719.py:9: FutureWarning: suggest_loguniform has been deprecated in v3.0.0. This feature will be removed in v6.0.0. See https://github.com/optuna/optuna/releases/tag/v3.0.0. Use :func:`~optuna.trial.Trial.suggest_float` instead.\n",
      "  'gamma': trial.suggest_loguniform('gamma', 1e-8, 1.0),\n",
      "C:\\Users\\HP\\AppData\\Local\\Temp\\ipykernel_10276\\2939489719.py:10: FutureWarning: suggest_loguniform has been deprecated in v3.0.0. This feature will be removed in v6.0.0. See https://github.com/optuna/optuna/releases/tag/v3.0.0. Use :func:`~optuna.trial.Trial.suggest_float` instead.\n",
      "  'subsample': trial.suggest_loguniform('subsample', 0.01, 1.0),\n",
      "C:\\Users\\HP\\AppData\\Local\\Temp\\ipykernel_10276\\2939489719.py:11: FutureWarning: suggest_loguniform has been deprecated in v3.0.0. This feature will be removed in v6.0.0. See https://github.com/optuna/optuna/releases/tag/v3.0.0. Use :func:`~optuna.trial.Trial.suggest_float` instead.\n",
      "  'colsample_bytree': trial.suggest_loguniform('colsample_bytree', 0.01, 1.0),\n",
      "C:\\Users\\HP\\AppData\\Local\\Temp\\ipykernel_10276\\2939489719.py:12: FutureWarning: suggest_loguniform has been deprecated in v3.0.0. This feature will be removed in v6.0.0. See https://github.com/optuna/optuna/releases/tag/v3.0.0. Use :func:`~optuna.trial.Trial.suggest_float` instead.\n",
      "  'reg_alpha': trial.suggest_loguniform('reg_alpha', 1e-8, 1.0),\n",
      "C:\\Users\\HP\\AppData\\Local\\Temp\\ipykernel_10276\\2939489719.py:13: FutureWarning: suggest_loguniform has been deprecated in v3.0.0. This feature will be removed in v6.0.0. See https://github.com/optuna/optuna/releases/tag/v3.0.0. Use :func:`~optuna.trial.Trial.suggest_float` instead.\n",
      "  'reg_lambda': trial.suggest_loguniform('reg_lambda', 1e-8, 1.0),\n",
      "C:\\Users\\HP\\anaconda3\\lib\\site-packages\\xgboost\\sklearn.py:1421: UserWarning: `use_label_encoder` is deprecated in 1.7.0.\n",
      "  warnings.warn(\"`use_label_encoder` is deprecated in 1.7.0.\")\n",
      "\u001b[32m[I 2023-03-18 18:31:32,347]\u001b[0m Trial 22 finished with value: 0.638928700370885 and parameters: {'max_depth': 4, 'learning_rate': 0.33189731950911194, 'n_estimators': 346, 'min_child_weight': 2, 'gamma': 8.96105964111797e-07, 'subsample': 0.9605018923351992, 'colsample_bytree': 0.41320682480474696, 'reg_alpha': 3.678502267421496e-08, 'reg_lambda': 4.602717061408037e-06}. Best is trial 14 with value: 0.6462041727295603.\u001b[0m\n",
      "C:\\Users\\HP\\AppData\\Local\\Temp\\ipykernel_10276\\2939489719.py:6: FutureWarning: suggest_loguniform has been deprecated in v3.0.0. This feature will be removed in v6.0.0. See https://github.com/optuna/optuna/releases/tag/v3.0.0. Use :func:`~optuna.trial.Trial.suggest_float` instead.\n",
      "  'learning_rate': trial.suggest_loguniform('learning_rate', 0.01, 1.0),\n",
      "C:\\Users\\HP\\AppData\\Local\\Temp\\ipykernel_10276\\2939489719.py:9: FutureWarning: suggest_loguniform has been deprecated in v3.0.0. This feature will be removed in v6.0.0. See https://github.com/optuna/optuna/releases/tag/v3.0.0. Use :func:`~optuna.trial.Trial.suggest_float` instead.\n",
      "  'gamma': trial.suggest_loguniform('gamma', 1e-8, 1.0),\n",
      "C:\\Users\\HP\\AppData\\Local\\Temp\\ipykernel_10276\\2939489719.py:10: FutureWarning: suggest_loguniform has been deprecated in v3.0.0. This feature will be removed in v6.0.0. See https://github.com/optuna/optuna/releases/tag/v3.0.0. Use :func:`~optuna.trial.Trial.suggest_float` instead.\n",
      "  'subsample': trial.suggest_loguniform('subsample', 0.01, 1.0),\n",
      "C:\\Users\\HP\\AppData\\Local\\Temp\\ipykernel_10276\\2939489719.py:11: FutureWarning: suggest_loguniform has been deprecated in v3.0.0. This feature will be removed in v6.0.0. See https://github.com/optuna/optuna/releases/tag/v3.0.0. Use :func:`~optuna.trial.Trial.suggest_float` instead.\n",
      "  'colsample_bytree': trial.suggest_loguniform('colsample_bytree', 0.01, 1.0),\n",
      "C:\\Users\\HP\\AppData\\Local\\Temp\\ipykernel_10276\\2939489719.py:12: FutureWarning: suggest_loguniform has been deprecated in v3.0.0. This feature will be removed in v6.0.0. See https://github.com/optuna/optuna/releases/tag/v3.0.0. Use :func:`~optuna.trial.Trial.suggest_float` instead.\n",
      "  'reg_alpha': trial.suggest_loguniform('reg_alpha', 1e-8, 1.0),\n",
      "C:\\Users\\HP\\AppData\\Local\\Temp\\ipykernel_10276\\2939489719.py:13: FutureWarning: suggest_loguniform has been deprecated in v3.0.0. This feature will be removed in v6.0.0. See https://github.com/optuna/optuna/releases/tag/v3.0.0. Use :func:`~optuna.trial.Trial.suggest_float` instead.\n",
      "  'reg_lambda': trial.suggest_loguniform('reg_lambda', 1e-8, 1.0),\n",
      "C:\\Users\\HP\\anaconda3\\lib\\site-packages\\xgboost\\sklearn.py:1421: UserWarning: `use_label_encoder` is deprecated in 1.7.0.\n",
      "  warnings.warn(\"`use_label_encoder` is deprecated in 1.7.0.\")\n",
      "\u001b[32m[I 2023-03-18 18:33:11,168]\u001b[0m Trial 23 finished with value: 0.6401431025239872 and parameters: {'max_depth': 5, 'learning_rate': 0.1366058252196942, 'n_estimators': 382, 'min_child_weight': 4, 'gamma': 1.0288515796508348e-07, 'subsample': 0.5040549824519744, 'colsample_bytree': 0.9903594762372999, 'reg_alpha': 5.46845713288825e-07, 'reg_lambda': 1.839402569553599e-06}. Best is trial 14 with value: 0.6462041727295603.\u001b[0m\n",
      "C:\\Users\\HP\\AppData\\Local\\Temp\\ipykernel_10276\\2939489719.py:6: FutureWarning: suggest_loguniform has been deprecated in v3.0.0. This feature will be removed in v6.0.0. See https://github.com/optuna/optuna/releases/tag/v3.0.0. Use :func:`~optuna.trial.Trial.suggest_float` instead.\n",
      "  'learning_rate': trial.suggest_loguniform('learning_rate', 0.01, 1.0),\n",
      "C:\\Users\\HP\\AppData\\Local\\Temp\\ipykernel_10276\\2939489719.py:9: FutureWarning: suggest_loguniform has been deprecated in v3.0.0. This feature will be removed in v6.0.0. See https://github.com/optuna/optuna/releases/tag/v3.0.0. Use :func:`~optuna.trial.Trial.suggest_float` instead.\n",
      "  'gamma': trial.suggest_loguniform('gamma', 1e-8, 1.0),\n",
      "C:\\Users\\HP\\AppData\\Local\\Temp\\ipykernel_10276\\2939489719.py:10: FutureWarning: suggest_loguniform has been deprecated in v3.0.0. This feature will be removed in v6.0.0. See https://github.com/optuna/optuna/releases/tag/v3.0.0. Use :func:`~optuna.trial.Trial.suggest_float` instead.\n",
      "  'subsample': trial.suggest_loguniform('subsample', 0.01, 1.0),\n",
      "C:\\Users\\HP\\AppData\\Local\\Temp\\ipykernel_10276\\2939489719.py:11: FutureWarning: suggest_loguniform has been deprecated in v3.0.0. This feature will be removed in v6.0.0. See https://github.com/optuna/optuna/releases/tag/v3.0.0. Use :func:`~optuna.trial.Trial.suggest_float` instead.\n",
      "  'colsample_bytree': trial.suggest_loguniform('colsample_bytree', 0.01, 1.0),\n",
      "C:\\Users\\HP\\AppData\\Local\\Temp\\ipykernel_10276\\2939489719.py:12: FutureWarning: suggest_loguniform has been deprecated in v3.0.0. This feature will be removed in v6.0.0. See https://github.com/optuna/optuna/releases/tag/v3.0.0. Use :func:`~optuna.trial.Trial.suggest_float` instead.\n",
      "  'reg_alpha': trial.suggest_loguniform('reg_alpha', 1e-8, 1.0),\n",
      "C:\\Users\\HP\\AppData\\Local\\Temp\\ipykernel_10276\\2939489719.py:13: FutureWarning: suggest_loguniform has been deprecated in v3.0.0. This feature will be removed in v6.0.0. See https://github.com/optuna/optuna/releases/tag/v3.0.0. Use :func:`~optuna.trial.Trial.suggest_float` instead.\n",
      "  'reg_lambda': trial.suggest_loguniform('reg_lambda', 1e-8, 1.0),\n",
      "C:\\Users\\HP\\anaconda3\\lib\\site-packages\\xgboost\\sklearn.py:1421: UserWarning: `use_label_encoder` is deprecated in 1.7.0.\n",
      "  warnings.warn(\"`use_label_encoder` is deprecated in 1.7.0.\")\n"
     ]
    },
    {
     "name": "stderr",
     "output_type": "stream",
     "text": [
      "\u001b[32m[I 2023-03-18 18:35:27,390]\u001b[0m Trial 24 finished with value: 0.6404494382022472 and parameters: {'max_depth': 8, 'learning_rate': 0.2761417162194561, 'n_estimators': 448, 'min_child_weight': 2, 'gamma': 1.2024056048472072e-05, 'subsample': 0.6401101954825116, 'colsample_bytree': 0.5739972532986531, 'reg_alpha': 5.461483196076428e-08, 'reg_lambda': 1.050109753634021e-07}. Best is trial 14 with value: 0.6462041727295603.\u001b[0m\n",
      "C:\\Users\\HP\\AppData\\Local\\Temp\\ipykernel_10276\\2939489719.py:6: FutureWarning: suggest_loguniform has been deprecated in v3.0.0. This feature will be removed in v6.0.0. See https://github.com/optuna/optuna/releases/tag/v3.0.0. Use :func:`~optuna.trial.Trial.suggest_float` instead.\n",
      "  'learning_rate': trial.suggest_loguniform('learning_rate', 0.01, 1.0),\n",
      "C:\\Users\\HP\\AppData\\Local\\Temp\\ipykernel_10276\\2939489719.py:9: FutureWarning: suggest_loguniform has been deprecated in v3.0.0. This feature will be removed in v6.0.0. See https://github.com/optuna/optuna/releases/tag/v3.0.0. Use :func:`~optuna.trial.Trial.suggest_float` instead.\n",
      "  'gamma': trial.suggest_loguniform('gamma', 1e-8, 1.0),\n",
      "C:\\Users\\HP\\AppData\\Local\\Temp\\ipykernel_10276\\2939489719.py:10: FutureWarning: suggest_loguniform has been deprecated in v3.0.0. This feature will be removed in v6.0.0. See https://github.com/optuna/optuna/releases/tag/v3.0.0. Use :func:`~optuna.trial.Trial.suggest_float` instead.\n",
      "  'subsample': trial.suggest_loguniform('subsample', 0.01, 1.0),\n",
      "C:\\Users\\HP\\AppData\\Local\\Temp\\ipykernel_10276\\2939489719.py:11: FutureWarning: suggest_loguniform has been deprecated in v3.0.0. This feature will be removed in v6.0.0. See https://github.com/optuna/optuna/releases/tag/v3.0.0. Use :func:`~optuna.trial.Trial.suggest_float` instead.\n",
      "  'colsample_bytree': trial.suggest_loguniform('colsample_bytree', 0.01, 1.0),\n",
      "C:\\Users\\HP\\AppData\\Local\\Temp\\ipykernel_10276\\2939489719.py:12: FutureWarning: suggest_loguniform has been deprecated in v3.0.0. This feature will be removed in v6.0.0. See https://github.com/optuna/optuna/releases/tag/v3.0.0. Use :func:`~optuna.trial.Trial.suggest_float` instead.\n",
      "  'reg_alpha': trial.suggest_loguniform('reg_alpha', 1e-8, 1.0),\n",
      "C:\\Users\\HP\\AppData\\Local\\Temp\\ipykernel_10276\\2939489719.py:13: FutureWarning: suggest_loguniform has been deprecated in v3.0.0. This feature will be removed in v6.0.0. See https://github.com/optuna/optuna/releases/tag/v3.0.0. Use :func:`~optuna.trial.Trial.suggest_float` instead.\n",
      "  'reg_lambda': trial.suggest_loguniform('reg_lambda', 1e-8, 1.0),\n",
      "C:\\Users\\HP\\anaconda3\\lib\\site-packages\\xgboost\\sklearn.py:1421: UserWarning: `use_label_encoder` is deprecated in 1.7.0.\n",
      "  warnings.warn(\"`use_label_encoder` is deprecated in 1.7.0.\")\n",
      "\u001b[32m[I 2023-03-18 18:36:18,218]\u001b[0m Trial 25 finished with value: 0.6339288644792841 and parameters: {'max_depth': 6, 'learning_rate': 0.6091946479667958, 'n_estimators': 329, 'min_child_weight': 6, 'gamma': 1.668403442056482e-06, 'subsample': 0.4454870050771983, 'colsample_bytree': 0.1732311809618371, 'reg_alpha': 4.906388260343402e-07, 'reg_lambda': 4.425885943637811e-05}. Best is trial 14 with value: 0.6462041727295603.\u001b[0m\n",
      "C:\\Users\\HP\\AppData\\Local\\Temp\\ipykernel_10276\\2939489719.py:6: FutureWarning: suggest_loguniform has been deprecated in v3.0.0. This feature will be removed in v6.0.0. See https://github.com/optuna/optuna/releases/tag/v3.0.0. Use :func:`~optuna.trial.Trial.suggest_float` instead.\n",
      "  'learning_rate': trial.suggest_loguniform('learning_rate', 0.01, 1.0),\n",
      "C:\\Users\\HP\\AppData\\Local\\Temp\\ipykernel_10276\\2939489719.py:9: FutureWarning: suggest_loguniform has been deprecated in v3.0.0. This feature will be removed in v6.0.0. See https://github.com/optuna/optuna/releases/tag/v3.0.0. Use :func:`~optuna.trial.Trial.suggest_float` instead.\n",
      "  'gamma': trial.suggest_loguniform('gamma', 1e-8, 1.0),\n",
      "C:\\Users\\HP\\AppData\\Local\\Temp\\ipykernel_10276\\2939489719.py:10: FutureWarning: suggest_loguniform has been deprecated in v3.0.0. This feature will be removed in v6.0.0. See https://github.com/optuna/optuna/releases/tag/v3.0.0. Use :func:`~optuna.trial.Trial.suggest_float` instead.\n",
      "  'subsample': trial.suggest_loguniform('subsample', 0.01, 1.0),\n",
      "C:\\Users\\HP\\AppData\\Local\\Temp\\ipykernel_10276\\2939489719.py:11: FutureWarning: suggest_loguniform has been deprecated in v3.0.0. This feature will be removed in v6.0.0. See https://github.com/optuna/optuna/releases/tag/v3.0.0. Use :func:`~optuna.trial.Trial.suggest_float` instead.\n",
      "  'colsample_bytree': trial.suggest_loguniform('colsample_bytree', 0.01, 1.0),\n",
      "C:\\Users\\HP\\AppData\\Local\\Temp\\ipykernel_10276\\2939489719.py:12: FutureWarning: suggest_loguniform has been deprecated in v3.0.0. This feature will be removed in v6.0.0. See https://github.com/optuna/optuna/releases/tag/v3.0.0. Use :func:`~optuna.trial.Trial.suggest_float` instead.\n",
      "  'reg_alpha': trial.suggest_loguniform('reg_alpha', 1e-8, 1.0),\n",
      "C:\\Users\\HP\\AppData\\Local\\Temp\\ipykernel_10276\\2939489719.py:13: FutureWarning: suggest_loguniform has been deprecated in v3.0.0. This feature will be removed in v6.0.0. See https://github.com/optuna/optuna/releases/tag/v3.0.0. Use :func:`~optuna.trial.Trial.suggest_float` instead.\n",
      "  'reg_lambda': trial.suggest_loguniform('reg_lambda', 1e-8, 1.0),\n",
      "C:\\Users\\HP\\anaconda3\\lib\\site-packages\\xgboost\\sklearn.py:1421: UserWarning: `use_label_encoder` is deprecated in 1.7.0.\n",
      "  warnings.warn(\"`use_label_encoder` is deprecated in 1.7.0.\")\n",
      "\u001b[32m[I 2023-03-18 18:37:40,919]\u001b[0m Trial 26 finished with value: 0.6448913055370173 and parameters: {'max_depth': 8, 'learning_rate': 0.2512836265869966, 'n_estimators': 255, 'min_child_weight': 4, 'gamma': 3.9192605389999937e-07, 'subsample': 0.7227903094354061, 'colsample_bytree': 0.6861797053215813, 'reg_alpha': 3.100301038787441e-08, 'reg_lambda': 5.36038557771479e-08}. Best is trial 14 with value: 0.6462041727295603.\u001b[0m\n",
      "C:\\Users\\HP\\AppData\\Local\\Temp\\ipykernel_10276\\2939489719.py:6: FutureWarning: suggest_loguniform has been deprecated in v3.0.0. This feature will be removed in v6.0.0. See https://github.com/optuna/optuna/releases/tag/v3.0.0. Use :func:`~optuna.trial.Trial.suggest_float` instead.\n",
      "  'learning_rate': trial.suggest_loguniform('learning_rate', 0.01, 1.0),\n",
      "C:\\Users\\HP\\AppData\\Local\\Temp\\ipykernel_10276\\2939489719.py:9: FutureWarning: suggest_loguniform has been deprecated in v3.0.0. This feature will be removed in v6.0.0. See https://github.com/optuna/optuna/releases/tag/v3.0.0. Use :func:`~optuna.trial.Trial.suggest_float` instead.\n",
      "  'gamma': trial.suggest_loguniform('gamma', 1e-8, 1.0),\n",
      "C:\\Users\\HP\\AppData\\Local\\Temp\\ipykernel_10276\\2939489719.py:10: FutureWarning: suggest_loguniform has been deprecated in v3.0.0. This feature will be removed in v6.0.0. See https://github.com/optuna/optuna/releases/tag/v3.0.0. Use :func:`~optuna.trial.Trial.suggest_float` instead.\n",
      "  'subsample': trial.suggest_loguniform('subsample', 0.01, 1.0),\n",
      "C:\\Users\\HP\\AppData\\Local\\Temp\\ipykernel_10276\\2939489719.py:11: FutureWarning: suggest_loguniform has been deprecated in v3.0.0. This feature will be removed in v6.0.0. See https://github.com/optuna/optuna/releases/tag/v3.0.0. Use :func:`~optuna.trial.Trial.suggest_float` instead.\n",
      "  'colsample_bytree': trial.suggest_loguniform('colsample_bytree', 0.01, 1.0),\n",
      "C:\\Users\\HP\\AppData\\Local\\Temp\\ipykernel_10276\\2939489719.py:12: FutureWarning: suggest_loguniform has been deprecated in v3.0.0. This feature will be removed in v6.0.0. See https://github.com/optuna/optuna/releases/tag/v3.0.0. Use :func:`~optuna.trial.Trial.suggest_float` instead.\n",
      "  'reg_alpha': trial.suggest_loguniform('reg_alpha', 1e-8, 1.0),\n",
      "C:\\Users\\HP\\AppData\\Local\\Temp\\ipykernel_10276\\2939489719.py:13: FutureWarning: suggest_loguniform has been deprecated in v3.0.0. This feature will be removed in v6.0.0. See https://github.com/optuna/optuna/releases/tag/v3.0.0. Use :func:`~optuna.trial.Trial.suggest_float` instead.\n",
      "  'reg_lambda': trial.suggest_loguniform('reg_lambda', 1e-8, 1.0),\n",
      "C:\\Users\\HP\\anaconda3\\lib\\site-packages\\xgboost\\sklearn.py:1421: UserWarning: `use_label_encoder` is deprecated in 1.7.0.\n",
      "  warnings.warn(\"`use_label_encoder` is deprecated in 1.7.0.\")\n",
      "\u001b[32m[I 2023-03-18 18:39:00,285]\u001b[0m Trial 27 finished with value: 0.6408870605997615 and parameters: {'max_depth': 8, 'learning_rate': 0.12695646022355353, 'n_estimators': 253, 'min_child_weight': 5, 'gamma': 5.5688415049272746e-08, 'subsample': 0.30305296127643144, 'colsample_bytree': 0.7151130499923783, 'reg_alpha': 3.13416678437253e-07, 'reg_lambda': 3.687534044120379e-08}. Best is trial 14 with value: 0.6462041727295603.\u001b[0m\n"
     ]
    },
    {
     "name": "stderr",
     "output_type": "stream",
     "text": [
      "C:\\Users\\HP\\AppData\\Local\\Temp\\ipykernel_10276\\2939489719.py:6: FutureWarning: suggest_loguniform has been deprecated in v3.0.0. This feature will be removed in v6.0.0. See https://github.com/optuna/optuna/releases/tag/v3.0.0. Use :func:`~optuna.trial.Trial.suggest_float` instead.\n",
      "  'learning_rate': trial.suggest_loguniform('learning_rate', 0.01, 1.0),\n",
      "C:\\Users\\HP\\AppData\\Local\\Temp\\ipykernel_10276\\2939489719.py:9: FutureWarning: suggest_loguniform has been deprecated in v3.0.0. This feature will be removed in v6.0.0. See https://github.com/optuna/optuna/releases/tag/v3.0.0. Use :func:`~optuna.trial.Trial.suggest_float` instead.\n",
      "  'gamma': trial.suggest_loguniform('gamma', 1e-8, 1.0),\n",
      "C:\\Users\\HP\\AppData\\Local\\Temp\\ipykernel_10276\\2939489719.py:10: FutureWarning: suggest_loguniform has been deprecated in v3.0.0. This feature will be removed in v6.0.0. See https://github.com/optuna/optuna/releases/tag/v3.0.0. Use :func:`~optuna.trial.Trial.suggest_float` instead.\n",
      "  'subsample': trial.suggest_loguniform('subsample', 0.01, 1.0),\n",
      "C:\\Users\\HP\\AppData\\Local\\Temp\\ipykernel_10276\\2939489719.py:11: FutureWarning: suggest_loguniform has been deprecated in v3.0.0. This feature will be removed in v6.0.0. See https://github.com/optuna/optuna/releases/tag/v3.0.0. Use :func:`~optuna.trial.Trial.suggest_float` instead.\n",
      "  'colsample_bytree': trial.suggest_loguniform('colsample_bytree', 0.01, 1.0),\n",
      "C:\\Users\\HP\\AppData\\Local\\Temp\\ipykernel_10276\\2939489719.py:12: FutureWarning: suggest_loguniform has been deprecated in v3.0.0. This feature will be removed in v6.0.0. See https://github.com/optuna/optuna/releases/tag/v3.0.0. Use :func:`~optuna.trial.Trial.suggest_float` instead.\n",
      "  'reg_alpha': trial.suggest_loguniform('reg_alpha', 1e-8, 1.0),\n",
      "C:\\Users\\HP\\AppData\\Local\\Temp\\ipykernel_10276\\2939489719.py:13: FutureWarning: suggest_loguniform has been deprecated in v3.0.0. This feature will be removed in v6.0.0. See https://github.com/optuna/optuna/releases/tag/v3.0.0. Use :func:`~optuna.trial.Trial.suggest_float` instead.\n",
      "  'reg_lambda': trial.suggest_loguniform('reg_lambda', 1e-8, 1.0),\n",
      "C:\\Users\\HP\\anaconda3\\lib\\site-packages\\xgboost\\sklearn.py:1421: UserWarning: `use_label_encoder` is deprecated in 1.7.0.\n",
      "  warnings.warn(\"`use_label_encoder` is deprecated in 1.7.0.\")\n",
      "\u001b[32m[I 2023-03-18 18:40:03,677]\u001b[0m Trial 28 finished with value: 0.63992429132523 and parameters: {'max_depth': 8, 'learning_rate': 0.4087900873395601, 'n_estimators': 239, 'min_child_weight': 4, 'gamma': 4.956577735797076e-07, 'subsample': 0.6015740226937617, 'colsample_bytree': 0.3890401094887175, 'reg_alpha': 3.830264353907362e-08, 'reg_lambda': 6.972035381866984e-08}. Best is trial 14 with value: 0.6462041727295603.\u001b[0m\n",
      "C:\\Users\\HP\\AppData\\Local\\Temp\\ipykernel_10276\\2939489719.py:6: FutureWarning: suggest_loguniform has been deprecated in v3.0.0. This feature will be removed in v6.0.0. See https://github.com/optuna/optuna/releases/tag/v3.0.0. Use :func:`~optuna.trial.Trial.suggest_float` instead.\n",
      "  'learning_rate': trial.suggest_loguniform('learning_rate', 0.01, 1.0),\n",
      "C:\\Users\\HP\\AppData\\Local\\Temp\\ipykernel_10276\\2939489719.py:9: FutureWarning: suggest_loguniform has been deprecated in v3.0.0. This feature will be removed in v6.0.0. See https://github.com/optuna/optuna/releases/tag/v3.0.0. Use :func:`~optuna.trial.Trial.suggest_float` instead.\n",
      "  'gamma': trial.suggest_loguniform('gamma', 1e-8, 1.0),\n",
      "C:\\Users\\HP\\AppData\\Local\\Temp\\ipykernel_10276\\2939489719.py:10: FutureWarning: suggest_loguniform has been deprecated in v3.0.0. This feature will be removed in v6.0.0. See https://github.com/optuna/optuna/releases/tag/v3.0.0. Use :func:`~optuna.trial.Trial.suggest_float` instead.\n",
      "  'subsample': trial.suggest_loguniform('subsample', 0.01, 1.0),\n",
      "C:\\Users\\HP\\AppData\\Local\\Temp\\ipykernel_10276\\2939489719.py:11: FutureWarning: suggest_loguniform has been deprecated in v3.0.0. This feature will be removed in v6.0.0. See https://github.com/optuna/optuna/releases/tag/v3.0.0. Use :func:`~optuna.trial.Trial.suggest_float` instead.\n",
      "  'colsample_bytree': trial.suggest_loguniform('colsample_bytree', 0.01, 1.0),\n",
      "C:\\Users\\HP\\AppData\\Local\\Temp\\ipykernel_10276\\2939489719.py:12: FutureWarning: suggest_loguniform has been deprecated in v3.0.0. This feature will be removed in v6.0.0. See https://github.com/optuna/optuna/releases/tag/v3.0.0. Use :func:`~optuna.trial.Trial.suggest_float` instead.\n",
      "  'reg_alpha': trial.suggest_loguniform('reg_alpha', 1e-8, 1.0),\n",
      "C:\\Users\\HP\\AppData\\Local\\Temp\\ipykernel_10276\\2939489719.py:13: FutureWarning: suggest_loguniform has been deprecated in v3.0.0. This feature will be removed in v6.0.0. See https://github.com/optuna/optuna/releases/tag/v3.0.0. Use :func:`~optuna.trial.Trial.suggest_float` instead.\n",
      "  'reg_lambda': trial.suggest_loguniform('reg_lambda', 1e-8, 1.0),\n",
      "C:\\Users\\HP\\anaconda3\\lib\\site-packages\\xgboost\\sklearn.py:1421: UserWarning: `use_label_encoder` is deprecated in 1.7.0.\n",
      "  warnings.warn(\"`use_label_encoder` is deprecated in 1.7.0.\")\n",
      "\u001b[32m[I 2023-03-18 18:40:41,255]\u001b[0m Trial 29 finished with value: 0.6409417633994507 and parameters: {'max_depth': 7, 'learning_rate': 0.2164686920904086, 'n_estimators': 134, 'min_child_weight': 1, 'gamma': 5.126444396149865e-08, 'subsample': 0.7294717515955131, 'colsample_bytree': 0.6465053729788222, 'reg_alpha': 1.1971773251782837e-06, 'reg_lambda': 3.277655082314182e-07}. Best is trial 14 with value: 0.6462041727295603.\u001b[0m\n",
      "C:\\Users\\HP\\AppData\\Local\\Temp\\ipykernel_10276\\2939489719.py:6: FutureWarning: suggest_loguniform has been deprecated in v3.0.0. This feature will be removed in v6.0.0. See https://github.com/optuna/optuna/releases/tag/v3.0.0. Use :func:`~optuna.trial.Trial.suggest_float` instead.\n",
      "  'learning_rate': trial.suggest_loguniform('learning_rate', 0.01, 1.0),\n",
      "C:\\Users\\HP\\AppData\\Local\\Temp\\ipykernel_10276\\2939489719.py:9: FutureWarning: suggest_loguniform has been deprecated in v3.0.0. This feature will be removed in v6.0.0. See https://github.com/optuna/optuna/releases/tag/v3.0.0. Use :func:`~optuna.trial.Trial.suggest_float` instead.\n",
      "  'gamma': trial.suggest_loguniform('gamma', 1e-8, 1.0),\n",
      "C:\\Users\\HP\\AppData\\Local\\Temp\\ipykernel_10276\\2939489719.py:10: FutureWarning: suggest_loguniform has been deprecated in v3.0.0. This feature will be removed in v6.0.0. See https://github.com/optuna/optuna/releases/tag/v3.0.0. Use :func:`~optuna.trial.Trial.suggest_float` instead.\n",
      "  'subsample': trial.suggest_loguniform('subsample', 0.01, 1.0),\n",
      "C:\\Users\\HP\\AppData\\Local\\Temp\\ipykernel_10276\\2939489719.py:11: FutureWarning: suggest_loguniform has been deprecated in v3.0.0. This feature will be removed in v6.0.0. See https://github.com/optuna/optuna/releases/tag/v3.0.0. Use :func:`~optuna.trial.Trial.suggest_float` instead.\n",
      "  'colsample_bytree': trial.suggest_loguniform('colsample_bytree', 0.01, 1.0),\n",
      "C:\\Users\\HP\\AppData\\Local\\Temp\\ipykernel_10276\\2939489719.py:12: FutureWarning: suggest_loguniform has been deprecated in v3.0.0. This feature will be removed in v6.0.0. See https://github.com/optuna/optuna/releases/tag/v3.0.0. Use :func:`~optuna.trial.Trial.suggest_float` instead.\n",
      "  'reg_alpha': trial.suggest_loguniform('reg_alpha', 1e-8, 1.0),\n",
      "C:\\Users\\HP\\AppData\\Local\\Temp\\ipykernel_10276\\2939489719.py:13: FutureWarning: suggest_loguniform has been deprecated in v3.0.0. This feature will be removed in v6.0.0. See https://github.com/optuna/optuna/releases/tag/v3.0.0. Use :func:`~optuna.trial.Trial.suggest_float` instead.\n",
      "  'reg_lambda': trial.suggest_loguniform('reg_lambda', 1e-8, 1.0),\n",
      "C:\\Users\\HP\\anaconda3\\lib\\site-packages\\xgboost\\sklearn.py:1421: UserWarning: `use_label_encoder` is deprecated in 1.7.0.\n",
      "  warnings.warn(\"`use_label_encoder` is deprecated in 1.7.0.\")\n",
      "\u001b[32m[I 2023-03-18 18:42:27,502]\u001b[0m Trial 30 finished with value: 0.6435018544249095 and parameters: {'max_depth': 8, 'learning_rate': 0.16074418185678013, 'n_estimators': 318, 'min_child_weight': 6, 'gamma': 4.1090046225016044e-06, 'subsample': 0.44293490241406724, 'colsample_bytree': 0.6953071882933592, 'reg_alpha': 2.0973744283487676e-07, 'reg_lambda': 4.653297919315954e-08}. Best is trial 14 with value: 0.6462041727295603.\u001b[0m\n",
      "C:\\Users\\HP\\AppData\\Local\\Temp\\ipykernel_10276\\2939489719.py:6: FutureWarning: suggest_loguniform has been deprecated in v3.0.0. This feature will be removed in v6.0.0. See https://github.com/optuna/optuna/releases/tag/v3.0.0. Use :func:`~optuna.trial.Trial.suggest_float` instead.\n",
      "  'learning_rate': trial.suggest_loguniform('learning_rate', 0.01, 1.0),\n",
      "C:\\Users\\HP\\AppData\\Local\\Temp\\ipykernel_10276\\2939489719.py:9: FutureWarning: suggest_loguniform has been deprecated in v3.0.0. This feature will be removed in v6.0.0. See https://github.com/optuna/optuna/releases/tag/v3.0.0. Use :func:`~optuna.trial.Trial.suggest_float` instead.\n",
      "  'gamma': trial.suggest_loguniform('gamma', 1e-8, 1.0),\n",
      "C:\\Users\\HP\\AppData\\Local\\Temp\\ipykernel_10276\\2939489719.py:10: FutureWarning: suggest_loguniform has been deprecated in v3.0.0. This feature will be removed in v6.0.0. See https://github.com/optuna/optuna/releases/tag/v3.0.0. Use :func:`~optuna.trial.Trial.suggest_float` instead.\n",
      "  'subsample': trial.suggest_loguniform('subsample', 0.01, 1.0),\n",
      "C:\\Users\\HP\\AppData\\Local\\Temp\\ipykernel_10276\\2939489719.py:11: FutureWarning: suggest_loguniform has been deprecated in v3.0.0. This feature will be removed in v6.0.0. See https://github.com/optuna/optuna/releases/tag/v3.0.0. Use :func:`~optuna.trial.Trial.suggest_float` instead.\n",
      "  'colsample_bytree': trial.suggest_loguniform('colsample_bytree', 0.01, 1.0),\n",
      "C:\\Users\\HP\\AppData\\Local\\Temp\\ipykernel_10276\\2939489719.py:12: FutureWarning: suggest_loguniform has been deprecated in v3.0.0. This feature will be removed in v6.0.0. See https://github.com/optuna/optuna/releases/tag/v3.0.0. Use :func:`~optuna.trial.Trial.suggest_float` instead.\n",
      "  'reg_alpha': trial.suggest_loguniform('reg_alpha', 1e-8, 1.0),\n",
      "C:\\Users\\HP\\AppData\\Local\\Temp\\ipykernel_10276\\2939489719.py:13: FutureWarning: suggest_loguniform has been deprecated in v3.0.0. This feature will be removed in v6.0.0. See https://github.com/optuna/optuna/releases/tag/v3.0.0. Use :func:`~optuna.trial.Trial.suggest_float` instead.\n",
      "  'reg_lambda': trial.suggest_loguniform('reg_lambda', 1e-8, 1.0),\n",
      "C:\\Users\\HP\\anaconda3\\lib\\site-packages\\xgboost\\sklearn.py:1421: UserWarning: `use_label_encoder` is deprecated in 1.7.0.\n",
      "  warnings.warn(\"`use_label_encoder` is deprecated in 1.7.0.\")\n"
     ]
    },
    {
     "name": "stderr",
     "output_type": "stream",
     "text": [
      "\u001b[32m[I 2023-03-18 18:43:40,975]\u001b[0m Trial 31 finished with value: 0.6450444733761473 and parameters: {'max_depth': 6, 'learning_rate': 0.2527161446214834, 'n_estimators': 397, 'min_child_weight': 3, 'gamma': 2.9720296385089244e-07, 'subsample': 0.9754851658522136, 'colsample_bytree': 0.4496216077306971, 'reg_alpha': 4.379047374339635e-08, 'reg_lambda': 1.0437358298616047e-08}. Best is trial 14 with value: 0.6462041727295603.\u001b[0m\n",
      "C:\\Users\\HP\\AppData\\Local\\Temp\\ipykernel_10276\\2939489719.py:6: FutureWarning: suggest_loguniform has been deprecated in v3.0.0. This feature will be removed in v6.0.0. See https://github.com/optuna/optuna/releases/tag/v3.0.0. Use :func:`~optuna.trial.Trial.suggest_float` instead.\n",
      "  'learning_rate': trial.suggest_loguniform('learning_rate', 0.01, 1.0),\n",
      "C:\\Users\\HP\\AppData\\Local\\Temp\\ipykernel_10276\\2939489719.py:9: FutureWarning: suggest_loguniform has been deprecated in v3.0.0. This feature will be removed in v6.0.0. See https://github.com/optuna/optuna/releases/tag/v3.0.0. Use :func:`~optuna.trial.Trial.suggest_float` instead.\n",
      "  'gamma': trial.suggest_loguniform('gamma', 1e-8, 1.0),\n",
      "C:\\Users\\HP\\AppData\\Local\\Temp\\ipykernel_10276\\2939489719.py:10: FutureWarning: suggest_loguniform has been deprecated in v3.0.0. This feature will be removed in v6.0.0. See https://github.com/optuna/optuna/releases/tag/v3.0.0. Use :func:`~optuna.trial.Trial.suggest_float` instead.\n",
      "  'subsample': trial.suggest_loguniform('subsample', 0.01, 1.0),\n",
      "C:\\Users\\HP\\AppData\\Local\\Temp\\ipykernel_10276\\2939489719.py:11: FutureWarning: suggest_loguniform has been deprecated in v3.0.0. This feature will be removed in v6.0.0. See https://github.com/optuna/optuna/releases/tag/v3.0.0. Use :func:`~optuna.trial.Trial.suggest_float` instead.\n",
      "  'colsample_bytree': trial.suggest_loguniform('colsample_bytree', 0.01, 1.0),\n",
      "C:\\Users\\HP\\AppData\\Local\\Temp\\ipykernel_10276\\2939489719.py:12: FutureWarning: suggest_loguniform has been deprecated in v3.0.0. This feature will be removed in v6.0.0. See https://github.com/optuna/optuna/releases/tag/v3.0.0. Use :func:`~optuna.trial.Trial.suggest_float` instead.\n",
      "  'reg_alpha': trial.suggest_loguniform('reg_alpha', 1e-8, 1.0),\n",
      "C:\\Users\\HP\\AppData\\Local\\Temp\\ipykernel_10276\\2939489719.py:13: FutureWarning: suggest_loguniform has been deprecated in v3.0.0. This feature will be removed in v6.0.0. See https://github.com/optuna/optuna/releases/tag/v3.0.0. Use :func:`~optuna.trial.Trial.suggest_float` instead.\n",
      "  'reg_lambda': trial.suggest_loguniform('reg_lambda', 1e-8, 1.0),\n",
      "C:\\Users\\HP\\anaconda3\\lib\\site-packages\\xgboost\\sklearn.py:1421: UserWarning: `use_label_encoder` is deprecated in 1.7.0.\n",
      "  warnings.warn(\"`use_label_encoder` is deprecated in 1.7.0.\")\n",
      "\u001b[32m[I 2023-03-18 18:44:25,926]\u001b[0m Trial 32 finished with value: 0.6384801374134328 and parameters: {'max_depth': 5, 'learning_rate': 0.23075611168960905, 'n_estimators': 262, 'min_child_weight': 4, 'gamma': 3.3095545289389077e-07, 'subsample': 0.7643131927714086, 'colsample_bytree': 0.386381378105265, 'reg_alpha': 2.9237533608580967e-08, 'reg_lambda': 1.2257180347813714e-08}. Best is trial 14 with value: 0.6462041727295603.\u001b[0m\n",
      "C:\\Users\\HP\\AppData\\Local\\Temp\\ipykernel_10276\\2939489719.py:6: FutureWarning: suggest_loguniform has been deprecated in v3.0.0. This feature will be removed in v6.0.0. See https://github.com/optuna/optuna/releases/tag/v3.0.0. Use :func:`~optuna.trial.Trial.suggest_float` instead.\n",
      "  'learning_rate': trial.suggest_loguniform('learning_rate', 0.01, 1.0),\n",
      "C:\\Users\\HP\\AppData\\Local\\Temp\\ipykernel_10276\\2939489719.py:9: FutureWarning: suggest_loguniform has been deprecated in v3.0.0. This feature will be removed in v6.0.0. See https://github.com/optuna/optuna/releases/tag/v3.0.0. Use :func:`~optuna.trial.Trial.suggest_float` instead.\n",
      "  'gamma': trial.suggest_loguniform('gamma', 1e-8, 1.0),\n",
      "C:\\Users\\HP\\AppData\\Local\\Temp\\ipykernel_10276\\2939489719.py:10: FutureWarning: suggest_loguniform has been deprecated in v3.0.0. This feature will be removed in v6.0.0. See https://github.com/optuna/optuna/releases/tag/v3.0.0. Use :func:`~optuna.trial.Trial.suggest_float` instead.\n",
      "  'subsample': trial.suggest_loguniform('subsample', 0.01, 1.0),\n",
      "C:\\Users\\HP\\AppData\\Local\\Temp\\ipykernel_10276\\2939489719.py:11: FutureWarning: suggest_loguniform has been deprecated in v3.0.0. This feature will be removed in v6.0.0. See https://github.com/optuna/optuna/releases/tag/v3.0.0. Use :func:`~optuna.trial.Trial.suggest_float` instead.\n",
      "  'colsample_bytree': trial.suggest_loguniform('colsample_bytree', 0.01, 1.0),\n",
      "C:\\Users\\HP\\AppData\\Local\\Temp\\ipykernel_10276\\2939489719.py:12: FutureWarning: suggest_loguniform has been deprecated in v3.0.0. This feature will be removed in v6.0.0. See https://github.com/optuna/optuna/releases/tag/v3.0.0. Use :func:`~optuna.trial.Trial.suggest_float` instead.\n",
      "  'reg_alpha': trial.suggest_loguniform('reg_alpha', 1e-8, 1.0),\n",
      "C:\\Users\\HP\\AppData\\Local\\Temp\\ipykernel_10276\\2939489719.py:13: FutureWarning: suggest_loguniform has been deprecated in v3.0.0. This feature will be removed in v6.0.0. See https://github.com/optuna/optuna/releases/tag/v3.0.0. Use :func:`~optuna.trial.Trial.suggest_float` instead.\n",
      "  'reg_lambda': trial.suggest_loguniform('reg_lambda', 1e-8, 1.0),\n",
      "C:\\Users\\HP\\anaconda3\\lib\\site-packages\\xgboost\\sklearn.py:1421: UserWarning: `use_label_encoder` is deprecated in 1.7.0.\n",
      "  warnings.warn(\"`use_label_encoder` is deprecated in 1.7.0.\")\n",
      "\u001b[32m[I 2023-03-18 18:45:57,945]\u001b[0m Trial 33 finished with value: 0.637539249258777 and parameters: {'max_depth': 4, 'learning_rate': 0.1546501407905016, 'n_estimators': 420, 'min_child_weight': 2, 'gamma': 4.527755975644036e-08, 'subsample': 0.5409712690507417, 'colsample_bytree': 0.9899361317314714, 'reg_alpha': 7.188027464803499e-08, 'reg_lambda': 1.366651538215439e-07}. Best is trial 14 with value: 0.6462041727295603.\u001b[0m\n",
      "C:\\Users\\HP\\AppData\\Local\\Temp\\ipykernel_10276\\2939489719.py:6: FutureWarning: suggest_loguniform has been deprecated in v3.0.0. This feature will be removed in v6.0.0. See https://github.com/optuna/optuna/releases/tag/v3.0.0. Use :func:`~optuna.trial.Trial.suggest_float` instead.\n",
      "  'learning_rate': trial.suggest_loguniform('learning_rate', 0.01, 1.0),\n",
      "C:\\Users\\HP\\AppData\\Local\\Temp\\ipykernel_10276\\2939489719.py:9: FutureWarning: suggest_loguniform has been deprecated in v3.0.0. This feature will be removed in v6.0.0. See https://github.com/optuna/optuna/releases/tag/v3.0.0. Use :func:`~optuna.trial.Trial.suggest_float` instead.\n",
      "  'gamma': trial.suggest_loguniform('gamma', 1e-8, 1.0),\n",
      "C:\\Users\\HP\\AppData\\Local\\Temp\\ipykernel_10276\\2939489719.py:10: FutureWarning: suggest_loguniform has been deprecated in v3.0.0. This feature will be removed in v6.0.0. See https://github.com/optuna/optuna/releases/tag/v3.0.0. Use :func:`~optuna.trial.Trial.suggest_float` instead.\n",
      "  'subsample': trial.suggest_loguniform('subsample', 0.01, 1.0),\n",
      "C:\\Users\\HP\\AppData\\Local\\Temp\\ipykernel_10276\\2939489719.py:11: FutureWarning: suggest_loguniform has been deprecated in v3.0.0. This feature will be removed in v6.0.0. See https://github.com/optuna/optuna/releases/tag/v3.0.0. Use :func:`~optuna.trial.Trial.suggest_float` instead.\n",
      "  'colsample_bytree': trial.suggest_loguniform('colsample_bytree', 0.01, 1.0),\n",
      "C:\\Users\\HP\\AppData\\Local\\Temp\\ipykernel_10276\\2939489719.py:12: FutureWarning: suggest_loguniform has been deprecated in v3.0.0. This feature will be removed in v6.0.0. See https://github.com/optuna/optuna/releases/tag/v3.0.0. Use :func:`~optuna.trial.Trial.suggest_float` instead.\n",
      "  'reg_alpha': trial.suggest_loguniform('reg_alpha', 1e-8, 1.0),\n",
      "C:\\Users\\HP\\AppData\\Local\\Temp\\ipykernel_10276\\2939489719.py:13: FutureWarning: suggest_loguniform has been deprecated in v3.0.0. This feature will be removed in v6.0.0. See https://github.com/optuna/optuna/releases/tag/v3.0.0. Use :func:`~optuna.trial.Trial.suggest_float` instead.\n",
      "  'reg_lambda': trial.suggest_loguniform('reg_lambda', 1e-8, 1.0),\n",
      "C:\\Users\\HP\\anaconda3\\lib\\site-packages\\xgboost\\sklearn.py:1421: UserWarning: `use_label_encoder` is deprecated in 1.7.0.\n",
      "  warnings.warn(\"`use_label_encoder` is deprecated in 1.7.0.\")\n",
      "\u001b[32m[I 2023-03-18 18:47:20,658]\u001b[0m Trial 34 finished with value: 0.6466964979267639 and parameters: {'max_depth': 7, 'learning_rate': 0.2403147821190824, 'n_estimators': 458, 'min_child_weight': 3, 'gamma': 5.443787619988271e-05, 'subsample': 0.9872880054967054, 'colsample_bytree': 0.41125022228941116, 'reg_alpha': 1.3658947685985401e-08, 'reg_lambda': 3.444299551227841e-08}. Best is trial 34 with value: 0.6466964979267639.\u001b[0m\n"
     ]
    },
    {
     "name": "stderr",
     "output_type": "stream",
     "text": [
      "C:\\Users\\HP\\AppData\\Local\\Temp\\ipykernel_10276\\2939489719.py:6: FutureWarning: suggest_loguniform has been deprecated in v3.0.0. This feature will be removed in v6.0.0. See https://github.com/optuna/optuna/releases/tag/v3.0.0. Use :func:`~optuna.trial.Trial.suggest_float` instead.\n",
      "  'learning_rate': trial.suggest_loguniform('learning_rate', 0.01, 1.0),\n",
      "C:\\Users\\HP\\AppData\\Local\\Temp\\ipykernel_10276\\2939489719.py:9: FutureWarning: suggest_loguniform has been deprecated in v3.0.0. This feature will be removed in v6.0.0. See https://github.com/optuna/optuna/releases/tag/v3.0.0. Use :func:`~optuna.trial.Trial.suggest_float` instead.\n",
      "  'gamma': trial.suggest_loguniform('gamma', 1e-8, 1.0),\n",
      "C:\\Users\\HP\\AppData\\Local\\Temp\\ipykernel_10276\\2939489719.py:10: FutureWarning: suggest_loguniform has been deprecated in v3.0.0. This feature will be removed in v6.0.0. See https://github.com/optuna/optuna/releases/tag/v3.0.0. Use :func:`~optuna.trial.Trial.suggest_float` instead.\n",
      "  'subsample': trial.suggest_loguniform('subsample', 0.01, 1.0),\n",
      "C:\\Users\\HP\\AppData\\Local\\Temp\\ipykernel_10276\\2939489719.py:11: FutureWarning: suggest_loguniform has been deprecated in v3.0.0. This feature will be removed in v6.0.0. See https://github.com/optuna/optuna/releases/tag/v3.0.0. Use :func:`~optuna.trial.Trial.suggest_float` instead.\n",
      "  'colsample_bytree': trial.suggest_loguniform('colsample_bytree', 0.01, 1.0),\n",
      "C:\\Users\\HP\\AppData\\Local\\Temp\\ipykernel_10276\\2939489719.py:12: FutureWarning: suggest_loguniform has been deprecated in v3.0.0. This feature will be removed in v6.0.0. See https://github.com/optuna/optuna/releases/tag/v3.0.0. Use :func:`~optuna.trial.Trial.suggest_float` instead.\n",
      "  'reg_alpha': trial.suggest_loguniform('reg_alpha', 1e-8, 1.0),\n",
      "C:\\Users\\HP\\AppData\\Local\\Temp\\ipykernel_10276\\2939489719.py:13: FutureWarning: suggest_loguniform has been deprecated in v3.0.0. This feature will be removed in v6.0.0. See https://github.com/optuna/optuna/releases/tag/v3.0.0. Use :func:`~optuna.trial.Trial.suggest_float` instead.\n",
      "  'reg_lambda': trial.suggest_loguniform('reg_lambda', 1e-8, 1.0),\n",
      "C:\\Users\\HP\\anaconda3\\lib\\site-packages\\xgboost\\sklearn.py:1421: UserWarning: `use_label_encoder` is deprecated in 1.7.0.\n",
      "  warnings.warn(\"`use_label_encoder` is deprecated in 1.7.0.\")\n",
      "\u001b[32m[I 2023-03-18 18:48:35,022]\u001b[0m Trial 35 finished with value: 0.6415544347559708 and parameters: {'max_depth': 6, 'learning_rate': 0.08113576534459997, 'n_estimators': 470, 'min_child_weight': 3, 'gamma': 5.550675982516182e-05, 'subsample': 0.9738096979440035, 'colsample_bytree': 0.4248733434880282, 'reg_alpha': 1.075471570718536e-08, 'reg_lambda': 2.7254118264527767e-07}. Best is trial 34 with value: 0.6466964979267639.\u001b[0m\n",
      "C:\\Users\\HP\\AppData\\Local\\Temp\\ipykernel_10276\\2939489719.py:6: FutureWarning: suggest_loguniform has been deprecated in v3.0.0. This feature will be removed in v6.0.0. See https://github.com/optuna/optuna/releases/tag/v3.0.0. Use :func:`~optuna.trial.Trial.suggest_float` instead.\n",
      "  'learning_rate': trial.suggest_loguniform('learning_rate', 0.01, 1.0),\n",
      "C:\\Users\\HP\\AppData\\Local\\Temp\\ipykernel_10276\\2939489719.py:9: FutureWarning: suggest_loguniform has been deprecated in v3.0.0. This feature will be removed in v6.0.0. See https://github.com/optuna/optuna/releases/tag/v3.0.0. Use :func:`~optuna.trial.Trial.suggest_float` instead.\n",
      "  'gamma': trial.suggest_loguniform('gamma', 1e-8, 1.0),\n",
      "C:\\Users\\HP\\AppData\\Local\\Temp\\ipykernel_10276\\2939489719.py:10: FutureWarning: suggest_loguniform has been deprecated in v3.0.0. This feature will be removed in v6.0.0. See https://github.com/optuna/optuna/releases/tag/v3.0.0. Use :func:`~optuna.trial.Trial.suggest_float` instead.\n",
      "  'subsample': trial.suggest_loguniform('subsample', 0.01, 1.0),\n",
      "C:\\Users\\HP\\AppData\\Local\\Temp\\ipykernel_10276\\2939489719.py:11: FutureWarning: suggest_loguniform has been deprecated in v3.0.0. This feature will be removed in v6.0.0. See https://github.com/optuna/optuna/releases/tag/v3.0.0. Use :func:`~optuna.trial.Trial.suggest_float` instead.\n",
      "  'colsample_bytree': trial.suggest_loguniform('colsample_bytree', 0.01, 1.0),\n",
      "C:\\Users\\HP\\AppData\\Local\\Temp\\ipykernel_10276\\2939489719.py:12: FutureWarning: suggest_loguniform has been deprecated in v3.0.0. This feature will be removed in v6.0.0. See https://github.com/optuna/optuna/releases/tag/v3.0.0. Use :func:`~optuna.trial.Trial.suggest_float` instead.\n",
      "  'reg_alpha': trial.suggest_loguniform('reg_alpha', 1e-8, 1.0),\n",
      "C:\\Users\\HP\\AppData\\Local\\Temp\\ipykernel_10276\\2939489719.py:13: FutureWarning: suggest_loguniform has been deprecated in v3.0.0. This feature will be removed in v6.0.0. See https://github.com/optuna/optuna/releases/tag/v3.0.0. Use :func:`~optuna.trial.Trial.suggest_float` instead.\n",
      "  'reg_lambda': trial.suggest_loguniform('reg_lambda', 1e-8, 1.0),\n",
      "C:\\Users\\HP\\anaconda3\\lib\\site-packages\\xgboost\\sklearn.py:1421: UserWarning: `use_label_encoder` is deprecated in 1.7.0.\n",
      "  warnings.warn(\"`use_label_encoder` is deprecated in 1.7.0.\")\n",
      "\u001b[32m[I 2023-03-18 18:49:53,016]\u001b[0m Trial 36 finished with value: 0.6400336969246087 and parameters: {'max_depth': 7, 'learning_rate': 0.165168619405424, 'n_estimators': 401, 'min_child_weight': 2, 'gamma': 0.00013424369862229793, 'subsample': 0.37450544392242546, 'colsample_bytree': 0.3565479383127551, 'reg_alpha': 1.5184507358661298e-07, 'reg_lambda': 2.40034201026515e-08}. Best is trial 34 with value: 0.6466964979267639.\u001b[0m\n",
      "C:\\Users\\HP\\AppData\\Local\\Temp\\ipykernel_10276\\2939489719.py:6: FutureWarning: suggest_loguniform has been deprecated in v3.0.0. This feature will be removed in v6.0.0. See https://github.com/optuna/optuna/releases/tag/v3.0.0. Use :func:`~optuna.trial.Trial.suggest_float` instead.\n",
      "  'learning_rate': trial.suggest_loguniform('learning_rate', 0.01, 1.0),\n",
      "C:\\Users\\HP\\AppData\\Local\\Temp\\ipykernel_10276\\2939489719.py:9: FutureWarning: suggest_loguniform has been deprecated in v3.0.0. This feature will be removed in v6.0.0. See https://github.com/optuna/optuna/releases/tag/v3.0.0. Use :func:`~optuna.trial.Trial.suggest_float` instead.\n",
      "  'gamma': trial.suggest_loguniform('gamma', 1e-8, 1.0),\n",
      "C:\\Users\\HP\\AppData\\Local\\Temp\\ipykernel_10276\\2939489719.py:10: FutureWarning: suggest_loguniform has been deprecated in v3.0.0. This feature will be removed in v6.0.0. See https://github.com/optuna/optuna/releases/tag/v3.0.0. Use :func:`~optuna.trial.Trial.suggest_float` instead.\n",
      "  'subsample': trial.suggest_loguniform('subsample', 0.01, 1.0),\n",
      "C:\\Users\\HP\\AppData\\Local\\Temp\\ipykernel_10276\\2939489719.py:11: FutureWarning: suggest_loguniform has been deprecated in v3.0.0. This feature will be removed in v6.0.0. See https://github.com/optuna/optuna/releases/tag/v3.0.0. Use :func:`~optuna.trial.Trial.suggest_float` instead.\n",
      "  'colsample_bytree': trial.suggest_loguniform('colsample_bytree', 0.01, 1.0),\n",
      "C:\\Users\\HP\\AppData\\Local\\Temp\\ipykernel_10276\\2939489719.py:12: FutureWarning: suggest_loguniform has been deprecated in v3.0.0. This feature will be removed in v6.0.0. See https://github.com/optuna/optuna/releases/tag/v3.0.0. Use :func:`~optuna.trial.Trial.suggest_float` instead.\n",
      "  'reg_alpha': trial.suggest_loguniform('reg_alpha', 1e-8, 1.0),\n",
      "C:\\Users\\HP\\AppData\\Local\\Temp\\ipykernel_10276\\2939489719.py:13: FutureWarning: suggest_loguniform has been deprecated in v3.0.0. This feature will be removed in v6.0.0. See https://github.com/optuna/optuna/releases/tag/v3.0.0. Use :func:`~optuna.trial.Trial.suggest_float` instead.\n",
      "  'reg_lambda': trial.suggest_loguniform('reg_lambda', 1e-8, 1.0),\n",
      "C:\\Users\\HP\\anaconda3\\lib\\site-packages\\xgboost\\sklearn.py:1421: UserWarning: `use_label_encoder` is deprecated in 1.7.0.\n",
      "  warnings.warn(\"`use_label_encoder` is deprecated in 1.7.0.\")\n",
      "\u001b[32m[I 2023-03-18 18:50:46,016]\u001b[0m Trial 37 finished with value: 0.6318720392109668 and parameters: {'max_depth': 5, 'learning_rate': 0.36489827451639856, 'n_estimators': 473, 'min_child_weight': 3, 'gamma': 1.951091671678121e-06, 'subsample': 0.18273708816280657, 'colsample_bytree': 0.20460153478912738, 'reg_alpha': 1.068929007926997e-07, 'reg_lambda': 2.7645010040893513e-08}. Best is trial 34 with value: 0.6466964979267639.\u001b[0m\n",
      "C:\\Users\\HP\\AppData\\Local\\Temp\\ipykernel_10276\\2939489719.py:6: FutureWarning: suggest_loguniform has been deprecated in v3.0.0. This feature will be removed in v6.0.0. See https://github.com/optuna/optuna/releases/tag/v3.0.0. Use :func:`~optuna.trial.Trial.suggest_float` instead.\n",
      "  'learning_rate': trial.suggest_loguniform('learning_rate', 0.01, 1.0),\n",
      "C:\\Users\\HP\\AppData\\Local\\Temp\\ipykernel_10276\\2939489719.py:9: FutureWarning: suggest_loguniform has been deprecated in v3.0.0. This feature will be removed in v6.0.0. See https://github.com/optuna/optuna/releases/tag/v3.0.0. Use :func:`~optuna.trial.Trial.suggest_float` instead.\n",
      "  'gamma': trial.suggest_loguniform('gamma', 1e-8, 1.0),\n",
      "C:\\Users\\HP\\AppData\\Local\\Temp\\ipykernel_10276\\2939489719.py:10: FutureWarning: suggest_loguniform has been deprecated in v3.0.0. This feature will be removed in v6.0.0. See https://github.com/optuna/optuna/releases/tag/v3.0.0. Use :func:`~optuna.trial.Trial.suggest_float` instead.\n",
      "  'subsample': trial.suggest_loguniform('subsample', 0.01, 1.0),\n",
      "C:\\Users\\HP\\AppData\\Local\\Temp\\ipykernel_10276\\2939489719.py:11: FutureWarning: suggest_loguniform has been deprecated in v3.0.0. This feature will be removed in v6.0.0. See https://github.com/optuna/optuna/releases/tag/v3.0.0. Use :func:`~optuna.trial.Trial.suggest_float` instead.\n",
      "  'colsample_bytree': trial.suggest_loguniform('colsample_bytree', 0.01, 1.0),\n",
      "C:\\Users\\HP\\AppData\\Local\\Temp\\ipykernel_10276\\2939489719.py:12: FutureWarning: suggest_loguniform has been deprecated in v3.0.0. This feature will be removed in v6.0.0. See https://github.com/optuna/optuna/releases/tag/v3.0.0. Use :func:`~optuna.trial.Trial.suggest_float` instead.\n",
      "  'reg_alpha': trial.suggest_loguniform('reg_alpha', 1e-8, 1.0),\n",
      "C:\\Users\\HP\\AppData\\Local\\Temp\\ipykernel_10276\\2939489719.py:13: FutureWarning: suggest_loguniform has been deprecated in v3.0.0. This feature will be removed in v6.0.0. See https://github.com/optuna/optuna/releases/tag/v3.0.0. Use :func:`~optuna.trial.Trial.suggest_float` instead.\n",
      "  'reg_lambda': trial.suggest_loguniform('reg_lambda', 1e-8, 1.0),\n",
      "C:\\Users\\HP\\anaconda3\\lib\\site-packages\\xgboost\\sklearn.py:1421: UserWarning: `use_label_encoder` is deprecated in 1.7.0.\n",
      "  warnings.warn(\"`use_label_encoder` is deprecated in 1.7.0.\")\n"
     ]
    },
    {
     "name": "stderr",
     "output_type": "stream",
     "text": [
      "\u001b[32m[I 2023-03-18 18:51:35,991]\u001b[0m Trial 38 finished with value: 0.6371891513407656 and parameters: {'max_depth': 4, 'learning_rate': 0.20311397814244952, 'n_estimators': 447, 'min_child_weight': 10, 'gamma': 0.00016425528671638783, 'subsample': 0.30888985736303565, 'colsample_bytree': 0.31688901917735357, 'reg_alpha': 8.568849466188843e-07, 'reg_lambda': 1.6796288674187134e-07}. Best is trial 34 with value: 0.6466964979267639.\u001b[0m\n",
      "C:\\Users\\HP\\AppData\\Local\\Temp\\ipykernel_10276\\2939489719.py:6: FutureWarning: suggest_loguniform has been deprecated in v3.0.0. This feature will be removed in v6.0.0. See https://github.com/optuna/optuna/releases/tag/v3.0.0. Use :func:`~optuna.trial.Trial.suggest_float` instead.\n",
      "  'learning_rate': trial.suggest_loguniform('learning_rate', 0.01, 1.0),\n",
      "C:\\Users\\HP\\AppData\\Local\\Temp\\ipykernel_10276\\2939489719.py:9: FutureWarning: suggest_loguniform has been deprecated in v3.0.0. This feature will be removed in v6.0.0. See https://github.com/optuna/optuna/releases/tag/v3.0.0. Use :func:`~optuna.trial.Trial.suggest_float` instead.\n",
      "  'gamma': trial.suggest_loguniform('gamma', 1e-8, 1.0),\n",
      "C:\\Users\\HP\\AppData\\Local\\Temp\\ipykernel_10276\\2939489719.py:10: FutureWarning: suggest_loguniform has been deprecated in v3.0.0. This feature will be removed in v6.0.0. See https://github.com/optuna/optuna/releases/tag/v3.0.0. Use :func:`~optuna.trial.Trial.suggest_float` instead.\n",
      "  'subsample': trial.suggest_loguniform('subsample', 0.01, 1.0),\n",
      "C:\\Users\\HP\\AppData\\Local\\Temp\\ipykernel_10276\\2939489719.py:11: FutureWarning: suggest_loguniform has been deprecated in v3.0.0. This feature will be removed in v6.0.0. See https://github.com/optuna/optuna/releases/tag/v3.0.0. Use :func:`~optuna.trial.Trial.suggest_float` instead.\n",
      "  'colsample_bytree': trial.suggest_loguniform('colsample_bytree', 0.01, 1.0),\n",
      "C:\\Users\\HP\\AppData\\Local\\Temp\\ipykernel_10276\\2939489719.py:12: FutureWarning: suggest_loguniform has been deprecated in v3.0.0. This feature will be removed in v6.0.0. See https://github.com/optuna/optuna/releases/tag/v3.0.0. Use :func:`~optuna.trial.Trial.suggest_float` instead.\n",
      "  'reg_alpha': trial.suggest_loguniform('reg_alpha', 1e-8, 1.0),\n",
      "C:\\Users\\HP\\AppData\\Local\\Temp\\ipykernel_10276\\2939489719.py:13: FutureWarning: suggest_loguniform has been deprecated in v3.0.0. This feature will be removed in v6.0.0. See https://github.com/optuna/optuna/releases/tag/v3.0.0. Use :func:`~optuna.trial.Trial.suggest_float` instead.\n",
      "  'reg_lambda': trial.suggest_loguniform('reg_lambda', 1e-8, 1.0),\n",
      "C:\\Users\\HP\\anaconda3\\lib\\site-packages\\xgboost\\sklearn.py:1421: UserWarning: `use_label_encoder` is deprecated in 1.7.0.\n",
      "  warnings.warn(\"`use_label_encoder` is deprecated in 1.7.0.\")\n",
      "\u001b[32m[I 2023-03-18 18:52:20,911]\u001b[0m Trial 39 finished with value: 0.6350448015929455 and parameters: {'max_depth': 3, 'learning_rate': 0.446862145082116, 'n_estimators': 428, 'min_child_weight': 2, 'gamma': 0.00048360540623435986, 'subsample': 0.7970712924547029, 'colsample_bytree': 0.2133197202113085, 'reg_alpha': 2.2957754475725924e-07, 'reg_lambda': 1.0374995414663836e-08}. Best is trial 34 with value: 0.6466964979267639.\u001b[0m\n",
      "C:\\Users\\HP\\AppData\\Local\\Temp\\ipykernel_10276\\2939489719.py:6: FutureWarning: suggest_loguniform has been deprecated in v3.0.0. This feature will be removed in v6.0.0. See https://github.com/optuna/optuna/releases/tag/v3.0.0. Use :func:`~optuna.trial.Trial.suggest_float` instead.\n",
      "  'learning_rate': trial.suggest_loguniform('learning_rate', 0.01, 1.0),\n",
      "C:\\Users\\HP\\AppData\\Local\\Temp\\ipykernel_10276\\2939489719.py:9: FutureWarning: suggest_loguniform has been deprecated in v3.0.0. This feature will be removed in v6.0.0. See https://github.com/optuna/optuna/releases/tag/v3.0.0. Use :func:`~optuna.trial.Trial.suggest_float` instead.\n",
      "  'gamma': trial.suggest_loguniform('gamma', 1e-8, 1.0),\n",
      "C:\\Users\\HP\\AppData\\Local\\Temp\\ipykernel_10276\\2939489719.py:10: FutureWarning: suggest_loguniform has been deprecated in v3.0.0. This feature will be removed in v6.0.0. See https://github.com/optuna/optuna/releases/tag/v3.0.0. Use :func:`~optuna.trial.Trial.suggest_float` instead.\n",
      "  'subsample': trial.suggest_loguniform('subsample', 0.01, 1.0),\n",
      "C:\\Users\\HP\\AppData\\Local\\Temp\\ipykernel_10276\\2939489719.py:11: FutureWarning: suggest_loguniform has been deprecated in v3.0.0. This feature will be removed in v6.0.0. See https://github.com/optuna/optuna/releases/tag/v3.0.0. Use :func:`~optuna.trial.Trial.suggest_float` instead.\n",
      "  'colsample_bytree': trial.suggest_loguniform('colsample_bytree', 0.01, 1.0),\n",
      "C:\\Users\\HP\\AppData\\Local\\Temp\\ipykernel_10276\\2939489719.py:12: FutureWarning: suggest_loguniform has been deprecated in v3.0.0. This feature will be removed in v6.0.0. See https://github.com/optuna/optuna/releases/tag/v3.0.0. Use :func:`~optuna.trial.Trial.suggest_float` instead.\n",
      "  'reg_alpha': trial.suggest_loguniform('reg_alpha', 1e-8, 1.0),\n",
      "C:\\Users\\HP\\AppData\\Local\\Temp\\ipykernel_10276\\2939489719.py:13: FutureWarning: suggest_loguniform has been deprecated in v3.0.0. This feature will be removed in v6.0.0. See https://github.com/optuna/optuna/releases/tag/v3.0.0. Use :func:`~optuna.trial.Trial.suggest_float` instead.\n",
      "  'reg_lambda': trial.suggest_loguniform('reg_lambda', 1e-8, 1.0),\n",
      "C:\\Users\\HP\\anaconda3\\lib\\site-packages\\xgboost\\sklearn.py:1421: UserWarning: `use_label_encoder` is deprecated in 1.7.0.\n",
      "  warnings.warn(\"`use_label_encoder` is deprecated in 1.7.0.\")\n",
      "\u001b[32m[I 2023-03-18 18:53:41,760]\u001b[0m Trial 40 finished with value: 0.639388203888275 and parameters: {'max_depth': 6, 'learning_rate': 0.09381845359544325, 'n_estimators': 365, 'min_child_weight': 1, 'gamma': 1.506615817844498e-05, 'subsample': 0.5087925204316077, 'colsample_bytree': 0.45035130748418184, 'reg_alpha': 2.3953828482412738e-08, 'reg_lambda': 5.230218039264112e-07}. Best is trial 34 with value: 0.6466964979267639.\u001b[0m\n",
      "C:\\Users\\HP\\AppData\\Local\\Temp\\ipykernel_10276\\2939489719.py:6: FutureWarning: suggest_loguniform has been deprecated in v3.0.0. This feature will be removed in v6.0.0. See https://github.com/optuna/optuna/releases/tag/v3.0.0. Use :func:`~optuna.trial.Trial.suggest_float` instead.\n",
      "  'learning_rate': trial.suggest_loguniform('learning_rate', 0.01, 1.0),\n",
      "C:\\Users\\HP\\AppData\\Local\\Temp\\ipykernel_10276\\2939489719.py:9: FutureWarning: suggest_loguniform has been deprecated in v3.0.0. This feature will be removed in v6.0.0. See https://github.com/optuna/optuna/releases/tag/v3.0.0. Use :func:`~optuna.trial.Trial.suggest_float` instead.\n",
      "  'gamma': trial.suggest_loguniform('gamma', 1e-8, 1.0),\n",
      "C:\\Users\\HP\\AppData\\Local\\Temp\\ipykernel_10276\\2939489719.py:10: FutureWarning: suggest_loguniform has been deprecated in v3.0.0. This feature will be removed in v6.0.0. See https://github.com/optuna/optuna/releases/tag/v3.0.0. Use :func:`~optuna.trial.Trial.suggest_float` instead.\n",
      "  'subsample': trial.suggest_loguniform('subsample', 0.01, 1.0),\n",
      "C:\\Users\\HP\\AppData\\Local\\Temp\\ipykernel_10276\\2939489719.py:11: FutureWarning: suggest_loguniform has been deprecated in v3.0.0. This feature will be removed in v6.0.0. See https://github.com/optuna/optuna/releases/tag/v3.0.0. Use :func:`~optuna.trial.Trial.suggest_float` instead.\n",
      "  'colsample_bytree': trial.suggest_loguniform('colsample_bytree', 0.01, 1.0),\n",
      "C:\\Users\\HP\\AppData\\Local\\Temp\\ipykernel_10276\\2939489719.py:12: FutureWarning: suggest_loguniform has been deprecated in v3.0.0. This feature will be removed in v6.0.0. See https://github.com/optuna/optuna/releases/tag/v3.0.0. Use :func:`~optuna.trial.Trial.suggest_float` instead.\n",
      "  'reg_alpha': trial.suggest_loguniform('reg_alpha', 1e-8, 1.0),\n",
      "C:\\Users\\HP\\AppData\\Local\\Temp\\ipykernel_10276\\2939489719.py:13: FutureWarning: suggest_loguniform has been deprecated in v3.0.0. This feature will be removed in v6.0.0. See https://github.com/optuna/optuna/releases/tag/v3.0.0. Use :func:`~optuna.trial.Trial.suggest_float` instead.\n",
      "  'reg_lambda': trial.suggest_loguniform('reg_lambda', 1e-8, 1.0),\n",
      "C:\\Users\\HP\\anaconda3\\lib\\site-packages\\xgboost\\sklearn.py:1421: UserWarning: `use_label_encoder` is deprecated in 1.7.0.\n",
      "  warnings.warn(\"`use_label_encoder` is deprecated in 1.7.0.\")\n",
      "\u001b[32m[I 2023-03-18 18:54:59,413]\u001b[0m Trial 41 finished with value: 0.6440598229817402 and parameters: {'max_depth': 7, 'learning_rate': 0.2844390385407045, 'n_estimators': 297, 'min_child_weight': 4, 'gamma': 6.939438385263443e-07, 'subsample': 0.7378065159181552, 'colsample_bytree': 0.6486031818114226, 'reg_alpha': 2.8124374102164112e-08, 'reg_lambda': 5.537913398370188e-08}. Best is trial 34 with value: 0.6466964979267639.\u001b[0m\n"
     ]
    },
    {
     "name": "stderr",
     "output_type": "stream",
     "text": [
      "C:\\Users\\HP\\AppData\\Local\\Temp\\ipykernel_10276\\2939489719.py:6: FutureWarning: suggest_loguniform has been deprecated in v3.0.0. This feature will be removed in v6.0.0. See https://github.com/optuna/optuna/releases/tag/v3.0.0. Use :func:`~optuna.trial.Trial.suggest_float` instead.\n",
      "  'learning_rate': trial.suggest_loguniform('learning_rate', 0.01, 1.0),\n",
      "C:\\Users\\HP\\AppData\\Local\\Temp\\ipykernel_10276\\2939489719.py:9: FutureWarning: suggest_loguniform has been deprecated in v3.0.0. This feature will be removed in v6.0.0. See https://github.com/optuna/optuna/releases/tag/v3.0.0. Use :func:`~optuna.trial.Trial.suggest_float` instead.\n",
      "  'gamma': trial.suggest_loguniform('gamma', 1e-8, 1.0),\n",
      "C:\\Users\\HP\\AppData\\Local\\Temp\\ipykernel_10276\\2939489719.py:10: FutureWarning: suggest_loguniform has been deprecated in v3.0.0. This feature will be removed in v6.0.0. See https://github.com/optuna/optuna/releases/tag/v3.0.0. Use :func:`~optuna.trial.Trial.suggest_float` instead.\n",
      "  'subsample': trial.suggest_loguniform('subsample', 0.01, 1.0),\n",
      "C:\\Users\\HP\\AppData\\Local\\Temp\\ipykernel_10276\\2939489719.py:11: FutureWarning: suggest_loguniform has been deprecated in v3.0.0. This feature will be removed in v6.0.0. See https://github.com/optuna/optuna/releases/tag/v3.0.0. Use :func:`~optuna.trial.Trial.suggest_float` instead.\n",
      "  'colsample_bytree': trial.suggest_loguniform('colsample_bytree', 0.01, 1.0),\n",
      "C:\\Users\\HP\\AppData\\Local\\Temp\\ipykernel_10276\\2939489719.py:12: FutureWarning: suggest_loguniform has been deprecated in v3.0.0. This feature will be removed in v6.0.0. See https://github.com/optuna/optuna/releases/tag/v3.0.0. Use :func:`~optuna.trial.Trial.suggest_float` instead.\n",
      "  'reg_alpha': trial.suggest_loguniform('reg_alpha', 1e-8, 1.0),\n",
      "C:\\Users\\HP\\AppData\\Local\\Temp\\ipykernel_10276\\2939489719.py:13: FutureWarning: suggest_loguniform has been deprecated in v3.0.0. This feature will be removed in v6.0.0. See https://github.com/optuna/optuna/releases/tag/v3.0.0. Use :func:`~optuna.trial.Trial.suggest_float` instead.\n",
      "  'reg_lambda': trial.suggest_loguniform('reg_lambda', 1e-8, 1.0),\n",
      "C:\\Users\\HP\\anaconda3\\lib\\site-packages\\xgboost\\sklearn.py:1421: UserWarning: `use_label_encoder` is deprecated in 1.7.0.\n",
      "  warnings.warn(\"`use_label_encoder` is deprecated in 1.7.0.\")\n",
      "\u001b[32m[I 2023-03-18 18:55:58,541]\u001b[0m Trial 42 finished with value: 0.6431189348270845 and parameters: {'max_depth': 8, 'learning_rate': 0.24293475061581027, 'n_estimators': 190, 'min_child_weight': 5, 'gamma': 4.1274007687586805e-06, 'subsample': 0.7612423864568397, 'colsample_bytree': 0.7149073173374738, 'reg_alpha': 7.108390393342893e-08, 'reg_lambda': 5.0168724870756145e-08}. Best is trial 34 with value: 0.6466964979267639.\u001b[0m\n",
      "C:\\Users\\HP\\AppData\\Local\\Temp\\ipykernel_10276\\2939489719.py:6: FutureWarning: suggest_loguniform has been deprecated in v3.0.0. This feature will be removed in v6.0.0. See https://github.com/optuna/optuna/releases/tag/v3.0.0. Use :func:`~optuna.trial.Trial.suggest_float` instead.\n",
      "  'learning_rate': trial.suggest_loguniform('learning_rate', 0.01, 1.0),\n",
      "C:\\Users\\HP\\AppData\\Local\\Temp\\ipykernel_10276\\2939489719.py:9: FutureWarning: suggest_loguniform has been deprecated in v3.0.0. This feature will be removed in v6.0.0. See https://github.com/optuna/optuna/releases/tag/v3.0.0. Use :func:`~optuna.trial.Trial.suggest_float` instead.\n",
      "  'gamma': trial.suggest_loguniform('gamma', 1e-8, 1.0),\n",
      "C:\\Users\\HP\\AppData\\Local\\Temp\\ipykernel_10276\\2939489719.py:10: FutureWarning: suggest_loguniform has been deprecated in v3.0.0. This feature will be removed in v6.0.0. See https://github.com/optuna/optuna/releases/tag/v3.0.0. Use :func:`~optuna.trial.Trial.suggest_float` instead.\n",
      "  'subsample': trial.suggest_loguniform('subsample', 0.01, 1.0),\n",
      "C:\\Users\\HP\\AppData\\Local\\Temp\\ipykernel_10276\\2939489719.py:11: FutureWarning: suggest_loguniform has been deprecated in v3.0.0. This feature will be removed in v6.0.0. See https://github.com/optuna/optuna/releases/tag/v3.0.0. Use :func:`~optuna.trial.Trial.suggest_float` instead.\n",
      "  'colsample_bytree': trial.suggest_loguniform('colsample_bytree', 0.01, 1.0),\n",
      "C:\\Users\\HP\\AppData\\Local\\Temp\\ipykernel_10276\\2939489719.py:12: FutureWarning: suggest_loguniform has been deprecated in v3.0.0. This feature will be removed in v6.0.0. See https://github.com/optuna/optuna/releases/tag/v3.0.0. Use :func:`~optuna.trial.Trial.suggest_float` instead.\n",
      "  'reg_alpha': trial.suggest_loguniform('reg_alpha', 1e-8, 1.0),\n",
      "C:\\Users\\HP\\AppData\\Local\\Temp\\ipykernel_10276\\2939489719.py:13: FutureWarning: suggest_loguniform has been deprecated in v3.0.0. This feature will be removed in v6.0.0. See https://github.com/optuna/optuna/releases/tag/v3.0.0. Use :func:`~optuna.trial.Trial.suggest_float` instead.\n",
      "  'reg_lambda': trial.suggest_loguniform('reg_lambda', 1e-8, 1.0),\n",
      "C:\\Users\\HP\\anaconda3\\lib\\site-packages\\xgboost\\sklearn.py:1421: UserWarning: `use_label_encoder` is deprecated in 1.7.0.\n",
      "  warnings.warn(\"`use_label_encoder` is deprecated in 1.7.0.\")\n",
      "\u001b[32m[I 2023-03-18 18:58:25,387]\u001b[0m Trial 43 finished with value: 0.6360622736671663 and parameters: {'max_depth': 9, 'learning_rate': 0.30484337632071395, 'n_estimators': 395, 'min_child_weight': 3, 'gamma': 2.1284542094099718e-07, 'subsample': 0.6109022937607771, 'colsample_bytree': 0.7735277969922617, 'reg_alpha': 2.241460842098063e-08, 'reg_lambda': 1.2678449819612025e-07}. Best is trial 34 with value: 0.6466964979267639.\u001b[0m\n",
      "C:\\Users\\HP\\AppData\\Local\\Temp\\ipykernel_10276\\2939489719.py:6: FutureWarning: suggest_loguniform has been deprecated in v3.0.0. This feature will be removed in v6.0.0. See https://github.com/optuna/optuna/releases/tag/v3.0.0. Use :func:`~optuna.trial.Trial.suggest_float` instead.\n",
      "  'learning_rate': trial.suggest_loguniform('learning_rate', 0.01, 1.0),\n",
      "C:\\Users\\HP\\AppData\\Local\\Temp\\ipykernel_10276\\2939489719.py:9: FutureWarning: suggest_loguniform has been deprecated in v3.0.0. This feature will be removed in v6.0.0. See https://github.com/optuna/optuna/releases/tag/v3.0.0. Use :func:`~optuna.trial.Trial.suggest_float` instead.\n",
      "  'gamma': trial.suggest_loguniform('gamma', 1e-8, 1.0),\n",
      "C:\\Users\\HP\\AppData\\Local\\Temp\\ipykernel_10276\\2939489719.py:10: FutureWarning: suggest_loguniform has been deprecated in v3.0.0. This feature will be removed in v6.0.0. See https://github.com/optuna/optuna/releases/tag/v3.0.0. Use :func:`~optuna.trial.Trial.suggest_float` instead.\n",
      "  'subsample': trial.suggest_loguniform('subsample', 0.01, 1.0),\n",
      "C:\\Users\\HP\\AppData\\Local\\Temp\\ipykernel_10276\\2939489719.py:11: FutureWarning: suggest_loguniform has been deprecated in v3.0.0. This feature will be removed in v6.0.0. See https://github.com/optuna/optuna/releases/tag/v3.0.0. Use :func:`~optuna.trial.Trial.suggest_float` instead.\n",
      "  'colsample_bytree': trial.suggest_loguniform('colsample_bytree', 0.01, 1.0),\n",
      "C:\\Users\\HP\\AppData\\Local\\Temp\\ipykernel_10276\\2939489719.py:12: FutureWarning: suggest_loguniform has been deprecated in v3.0.0. This feature will be removed in v6.0.0. See https://github.com/optuna/optuna/releases/tag/v3.0.0. Use :func:`~optuna.trial.Trial.suggest_float` instead.\n",
      "  'reg_alpha': trial.suggest_loguniform('reg_alpha', 1e-8, 1.0),\n",
      "C:\\Users\\HP\\AppData\\Local\\Temp\\ipykernel_10276\\2939489719.py:13: FutureWarning: suggest_loguniform has been deprecated in v3.0.0. This feature will be removed in v6.0.0. See https://github.com/optuna/optuna/releases/tag/v3.0.0. Use :func:`~optuna.trial.Trial.suggest_float` instead.\n",
      "  'reg_lambda': trial.suggest_loguniform('reg_lambda', 1e-8, 1.0),\n",
      "C:\\Users\\HP\\anaconda3\\lib\\site-packages\\xgboost\\sklearn.py:1421: UserWarning: `use_label_encoder` is deprecated in 1.7.0.\n",
      "  warnings.warn(\"`use_label_encoder` is deprecated in 1.7.0.\")\n",
      "\u001b[32m[I 2023-03-18 18:59:20,499]\u001b[0m Trial 44 finished with value: 0.6452195223351531 and parameters: {'max_depth': 7, 'learning_rate': 0.22404297279533694, 'n_estimators': 338, 'min_child_weight': 4, 'gamma': 2.5065216779946302e-08, 'subsample': 0.9723477957752503, 'colsample_bytree': 0.2890973245719304, 'reg_alpha': 7.022802058345332e-08, 'reg_lambda': 2.783018876390235e-08}. Best is trial 34 with value: 0.6466964979267639.\u001b[0m\n",
      "C:\\Users\\HP\\AppData\\Local\\Temp\\ipykernel_10276\\2939489719.py:6: FutureWarning: suggest_loguniform has been deprecated in v3.0.0. This feature will be removed in v6.0.0. See https://github.com/optuna/optuna/releases/tag/v3.0.0. Use :func:`~optuna.trial.Trial.suggest_float` instead.\n",
      "  'learning_rate': trial.suggest_loguniform('learning_rate', 0.01, 1.0),\n",
      "C:\\Users\\HP\\AppData\\Local\\Temp\\ipykernel_10276\\2939489719.py:9: FutureWarning: suggest_loguniform has been deprecated in v3.0.0. This feature will be removed in v6.0.0. See https://github.com/optuna/optuna/releases/tag/v3.0.0. Use :func:`~optuna.trial.Trial.suggest_float` instead.\n",
      "  'gamma': trial.suggest_loguniform('gamma', 1e-8, 1.0),\n",
      "C:\\Users\\HP\\AppData\\Local\\Temp\\ipykernel_10276\\2939489719.py:10: FutureWarning: suggest_loguniform has been deprecated in v3.0.0. This feature will be removed in v6.0.0. See https://github.com/optuna/optuna/releases/tag/v3.0.0. Use :func:`~optuna.trial.Trial.suggest_float` instead.\n",
      "  'subsample': trial.suggest_loguniform('subsample', 0.01, 1.0),\n",
      "C:\\Users\\HP\\AppData\\Local\\Temp\\ipykernel_10276\\2939489719.py:11: FutureWarning: suggest_loguniform has been deprecated in v3.0.0. This feature will be removed in v6.0.0. See https://github.com/optuna/optuna/releases/tag/v3.0.0. Use :func:`~optuna.trial.Trial.suggest_float` instead.\n",
      "  'colsample_bytree': trial.suggest_loguniform('colsample_bytree', 0.01, 1.0),\n",
      "C:\\Users\\HP\\AppData\\Local\\Temp\\ipykernel_10276\\2939489719.py:12: FutureWarning: suggest_loguniform has been deprecated in v3.0.0. This feature will be removed in v6.0.0. See https://github.com/optuna/optuna/releases/tag/v3.0.0. Use :func:`~optuna.trial.Trial.suggest_float` instead.\n",
      "  'reg_alpha': trial.suggest_loguniform('reg_alpha', 1e-8, 1.0),\n",
      "C:\\Users\\HP\\AppData\\Local\\Temp\\ipykernel_10276\\2939489719.py:13: FutureWarning: suggest_loguniform has been deprecated in v3.0.0. This feature will be removed in v6.0.0. See https://github.com/optuna/optuna/releases/tag/v3.0.0. Use :func:`~optuna.trial.Trial.suggest_float` instead.\n",
      "  'reg_lambda': trial.suggest_loguniform('reg_lambda', 1e-8, 1.0),\n",
      "C:\\Users\\HP\\anaconda3\\lib\\site-packages\\xgboost\\sklearn.py:1421: UserWarning: `use_label_encoder` is deprecated in 1.7.0.\n",
      "  warnings.warn(\"`use_label_encoder` is deprecated in 1.7.0.\")\n"
     ]
    },
    {
     "name": "stderr",
     "output_type": "stream",
     "text": [
      "\u001b[32m[I 2023-03-18 19:00:13,875]\u001b[0m Trial 45 finished with value: 0.6414340885966544 and parameters: {'max_depth': 7, 'learning_rate': 0.1420892829258025, 'n_estimators': 325, 'min_child_weight': 5, 'gamma': 2.503090768865572e-08, 'subsample': 0.9706954088299141, 'colsample_bytree': 0.2669374743109345, 'reg_alpha': 2.8559881874234753e-07, 'reg_lambda': 2.4890234056996336e-08}. Best is trial 34 with value: 0.6466964979267639.\u001b[0m\n",
      "C:\\Users\\HP\\AppData\\Local\\Temp\\ipykernel_10276\\2939489719.py:6: FutureWarning: suggest_loguniform has been deprecated in v3.0.0. This feature will be removed in v6.0.0. See https://github.com/optuna/optuna/releases/tag/v3.0.0. Use :func:`~optuna.trial.Trial.suggest_float` instead.\n",
      "  'learning_rate': trial.suggest_loguniform('learning_rate', 0.01, 1.0),\n",
      "C:\\Users\\HP\\AppData\\Local\\Temp\\ipykernel_10276\\2939489719.py:9: FutureWarning: suggest_loguniform has been deprecated in v3.0.0. This feature will be removed in v6.0.0. See https://github.com/optuna/optuna/releases/tag/v3.0.0. Use :func:`~optuna.trial.Trial.suggest_float` instead.\n",
      "  'gamma': trial.suggest_loguniform('gamma', 1e-8, 1.0),\n",
      "C:\\Users\\HP\\AppData\\Local\\Temp\\ipykernel_10276\\2939489719.py:10: FutureWarning: suggest_loguniform has been deprecated in v3.0.0. This feature will be removed in v6.0.0. See https://github.com/optuna/optuna/releases/tag/v3.0.0. Use :func:`~optuna.trial.Trial.suggest_float` instead.\n",
      "  'subsample': trial.suggest_loguniform('subsample', 0.01, 1.0),\n",
      "C:\\Users\\HP\\AppData\\Local\\Temp\\ipykernel_10276\\2939489719.py:11: FutureWarning: suggest_loguniform has been deprecated in v3.0.0. This feature will be removed in v6.0.0. See https://github.com/optuna/optuna/releases/tag/v3.0.0. Use :func:`~optuna.trial.Trial.suggest_float` instead.\n",
      "  'colsample_bytree': trial.suggest_loguniform('colsample_bytree', 0.01, 1.0),\n",
      "C:\\Users\\HP\\AppData\\Local\\Temp\\ipykernel_10276\\2939489719.py:12: FutureWarning: suggest_loguniform has been deprecated in v3.0.0. This feature will be removed in v6.0.0. See https://github.com/optuna/optuna/releases/tag/v3.0.0. Use :func:`~optuna.trial.Trial.suggest_float` instead.\n",
      "  'reg_alpha': trial.suggest_loguniform('reg_alpha', 1e-8, 1.0),\n",
      "C:\\Users\\HP\\AppData\\Local\\Temp\\ipykernel_10276\\2939489719.py:13: FutureWarning: suggest_loguniform has been deprecated in v3.0.0. This feature will be removed in v6.0.0. See https://github.com/optuna/optuna/releases/tag/v3.0.0. Use :func:`~optuna.trial.Trial.suggest_float` instead.\n",
      "  'reg_lambda': trial.suggest_loguniform('reg_lambda', 1e-8, 1.0),\n",
      "C:\\Users\\HP\\anaconda3\\lib\\site-packages\\xgboost\\sklearn.py:1421: UserWarning: `use_label_encoder` is deprecated in 1.7.0.\n",
      "  warnings.warn(\"`use_label_encoder` is deprecated in 1.7.0.\")\n",
      "\u001b[32m[I 2023-03-18 19:01:16,982]\u001b[0m Trial 46 finished with value: 0.6397492423662243 and parameters: {'max_depth': 7, 'learning_rate': 0.18407827426071624, 'n_estimators': 341, 'min_child_weight': 3, 'gamma': 9.137171235024526e-08, 'subsample': 0.44365192164090383, 'colsample_bytree': 0.3153344389081532, 'reg_alpha': 6.4474274387786e-08, 'reg_lambda': 2.5435184128100123e-07}. Best is trial 34 with value: 0.6466964979267639.\u001b[0m\n",
      "C:\\Users\\HP\\AppData\\Local\\Temp\\ipykernel_10276\\2939489719.py:6: FutureWarning: suggest_loguniform has been deprecated in v3.0.0. This feature will be removed in v6.0.0. See https://github.com/optuna/optuna/releases/tag/v3.0.0. Use :func:`~optuna.trial.Trial.suggest_float` instead.\n",
      "  'learning_rate': trial.suggest_loguniform('learning_rate', 0.01, 1.0),\n",
      "C:\\Users\\HP\\AppData\\Local\\Temp\\ipykernel_10276\\2939489719.py:9: FutureWarning: suggest_loguniform has been deprecated in v3.0.0. This feature will be removed in v6.0.0. See https://github.com/optuna/optuna/releases/tag/v3.0.0. Use :func:`~optuna.trial.Trial.suggest_float` instead.\n",
      "  'gamma': trial.suggest_loguniform('gamma', 1e-8, 1.0),\n",
      "C:\\Users\\HP\\AppData\\Local\\Temp\\ipykernel_10276\\2939489719.py:10: FutureWarning: suggest_loguniform has been deprecated in v3.0.0. This feature will be removed in v6.0.0. See https://github.com/optuna/optuna/releases/tag/v3.0.0. Use :func:`~optuna.trial.Trial.suggest_float` instead.\n",
      "  'subsample': trial.suggest_loguniform('subsample', 0.01, 1.0),\n",
      "C:\\Users\\HP\\AppData\\Local\\Temp\\ipykernel_10276\\2939489719.py:11: FutureWarning: suggest_loguniform has been deprecated in v3.0.0. This feature will be removed in v6.0.0. See https://github.com/optuna/optuna/releases/tag/v3.0.0. Use :func:`~optuna.trial.Trial.suggest_float` instead.\n",
      "  'colsample_bytree': trial.suggest_loguniform('colsample_bytree', 0.01, 1.0),\n",
      "C:\\Users\\HP\\AppData\\Local\\Temp\\ipykernel_10276\\2939489719.py:12: FutureWarning: suggest_loguniform has been deprecated in v3.0.0. This feature will be removed in v6.0.0. See https://github.com/optuna/optuna/releases/tag/v3.0.0. Use :func:`~optuna.trial.Trial.suggest_float` instead.\n",
      "  'reg_alpha': trial.suggest_loguniform('reg_alpha', 1e-8, 1.0),\n",
      "C:\\Users\\HP\\AppData\\Local\\Temp\\ipykernel_10276\\2939489719.py:13: FutureWarning: suggest_loguniform has been deprecated in v3.0.0. This feature will be removed in v6.0.0. See https://github.com/optuna/optuna/releases/tag/v3.0.0. Use :func:`~optuna.trial.Trial.suggest_float` instead.\n",
      "  'reg_lambda': trial.suggest_loguniform('reg_lambda', 1e-8, 1.0),\n",
      "C:\\Users\\HP\\anaconda3\\lib\\site-packages\\xgboost\\sklearn.py:1421: UserWarning: `use_label_encoder` is deprecated in 1.7.0.\n",
      "  warnings.warn(\"`use_label_encoder` is deprecated in 1.7.0.\")\n",
      "\u001b[32m[I 2023-03-18 19:02:03,986]\u001b[0m Trial 47 finished with value: 0.6259750774044616 and parameters: {'max_depth': 6, 'learning_rate': 0.3969827711333259, 'n_estimators': 362, 'min_child_weight': 4, 'gamma': 2.7094737322107242e-08, 'subsample': 0.13069570129468125, 'colsample_bytree': 0.25931026311592337, 'reg_alpha': 1.2834479764466794e-08, 'reg_lambda': 5.811815910106788e-07}. Best is trial 34 with value: 0.6466964979267639.\u001b[0m\n",
      "C:\\Users\\HP\\AppData\\Local\\Temp\\ipykernel_10276\\2939489719.py:6: FutureWarning: suggest_loguniform has been deprecated in v3.0.0. This feature will be removed in v6.0.0. See https://github.com/optuna/optuna/releases/tag/v3.0.0. Use :func:`~optuna.trial.Trial.suggest_float` instead.\n",
      "  'learning_rate': trial.suggest_loguniform('learning_rate', 0.01, 1.0),\n",
      "C:\\Users\\HP\\AppData\\Local\\Temp\\ipykernel_10276\\2939489719.py:9: FutureWarning: suggest_loguniform has been deprecated in v3.0.0. This feature will be removed in v6.0.0. See https://github.com/optuna/optuna/releases/tag/v3.0.0. Use :func:`~optuna.trial.Trial.suggest_float` instead.\n",
      "  'gamma': trial.suggest_loguniform('gamma', 1e-8, 1.0),\n",
      "C:\\Users\\HP\\AppData\\Local\\Temp\\ipykernel_10276\\2939489719.py:10: FutureWarning: suggest_loguniform has been deprecated in v3.0.0. This feature will be removed in v6.0.0. See https://github.com/optuna/optuna/releases/tag/v3.0.0. Use :func:`~optuna.trial.Trial.suggest_float` instead.\n",
      "  'subsample': trial.suggest_loguniform('subsample', 0.01, 1.0),\n",
      "C:\\Users\\HP\\AppData\\Local\\Temp\\ipykernel_10276\\2939489719.py:11: FutureWarning: suggest_loguniform has been deprecated in v3.0.0. This feature will be removed in v6.0.0. See https://github.com/optuna/optuna/releases/tag/v3.0.0. Use :func:`~optuna.trial.Trial.suggest_float` instead.\n",
      "  'colsample_bytree': trial.suggest_loguniform('colsample_bytree', 0.01, 1.0),\n",
      "C:\\Users\\HP\\AppData\\Local\\Temp\\ipykernel_10276\\2939489719.py:12: FutureWarning: suggest_loguniform has been deprecated in v3.0.0. This feature will be removed in v6.0.0. See https://github.com/optuna/optuna/releases/tag/v3.0.0. Use :func:`~optuna.trial.Trial.suggest_float` instead.\n",
      "  'reg_alpha': trial.suggest_loguniform('reg_alpha', 1e-8, 1.0),\n",
      "C:\\Users\\HP\\AppData\\Local\\Temp\\ipykernel_10276\\2939489719.py:13: FutureWarning: suggest_loguniform has been deprecated in v3.0.0. This feature will be removed in v6.0.0. See https://github.com/optuna/optuna/releases/tag/v3.0.0. Use :func:`~optuna.trial.Trial.suggest_float` instead.\n",
      "  'reg_lambda': trial.suggest_loguniform('reg_lambda', 1e-8, 1.0),\n",
      "C:\\Users\\HP\\anaconda3\\lib\\site-packages\\xgboost\\sklearn.py:1421: UserWarning: `use_label_encoder` is deprecated in 1.7.0.\n",
      "  warnings.warn(\"`use_label_encoder` is deprecated in 1.7.0.\")\n",
      "\u001b[32m[I 2023-03-18 19:03:00,921]\u001b[0m Trial 48 finished with value: 0.6403947354025579 and parameters: {'max_depth': 5, 'learning_rate': 0.22463588078953045, 'n_estimators': 395, 'min_child_weight': 2, 'gamma': 1.4407291402182772e-07, 'subsample': 0.8603667677665624, 'colsample_bytree': 0.35396214161652495, 'reg_alpha': 1.0330854196471643e-07, 'reg_lambda': 2.5386066824251663e-08}. Best is trial 34 with value: 0.6466964979267639.\u001b[0m\n"
     ]
    },
    {
     "name": "stderr",
     "output_type": "stream",
     "text": [
      "C:\\Users\\HP\\AppData\\Local\\Temp\\ipykernel_10276\\2939489719.py:6: FutureWarning: suggest_loguniform has been deprecated in v3.0.0. This feature will be removed in v6.0.0. See https://github.com/optuna/optuna/releases/tag/v3.0.0. Use :func:`~optuna.trial.Trial.suggest_float` instead.\n",
      "  'learning_rate': trial.suggest_loguniform('learning_rate', 0.01, 1.0),\n",
      "C:\\Users\\HP\\AppData\\Local\\Temp\\ipykernel_10276\\2939489719.py:9: FutureWarning: suggest_loguniform has been deprecated in v3.0.0. This feature will be removed in v6.0.0. See https://github.com/optuna/optuna/releases/tag/v3.0.0. Use :func:`~optuna.trial.Trial.suggest_float` instead.\n",
      "  'gamma': trial.suggest_loguniform('gamma', 1e-8, 1.0),\n",
      "C:\\Users\\HP\\AppData\\Local\\Temp\\ipykernel_10276\\2939489719.py:10: FutureWarning: suggest_loguniform has been deprecated in v3.0.0. This feature will be removed in v6.0.0. See https://github.com/optuna/optuna/releases/tag/v3.0.0. Use :func:`~optuna.trial.Trial.suggest_float` instead.\n",
      "  'subsample': trial.suggest_loguniform('subsample', 0.01, 1.0),\n",
      "C:\\Users\\HP\\AppData\\Local\\Temp\\ipykernel_10276\\2939489719.py:11: FutureWarning: suggest_loguniform has been deprecated in v3.0.0. This feature will be removed in v6.0.0. See https://github.com/optuna/optuna/releases/tag/v3.0.0. Use :func:`~optuna.trial.Trial.suggest_float` instead.\n",
      "  'colsample_bytree': trial.suggest_loguniform('colsample_bytree', 0.01, 1.0),\n",
      "C:\\Users\\HP\\AppData\\Local\\Temp\\ipykernel_10276\\2939489719.py:12: FutureWarning: suggest_loguniform has been deprecated in v3.0.0. This feature will be removed in v6.0.0. See https://github.com/optuna/optuna/releases/tag/v3.0.0. Use :func:`~optuna.trial.Trial.suggest_float` instead.\n",
      "  'reg_alpha': trial.suggest_loguniform('reg_alpha', 1e-8, 1.0),\n",
      "C:\\Users\\HP\\AppData\\Local\\Temp\\ipykernel_10276\\2939489719.py:13: FutureWarning: suggest_loguniform has been deprecated in v3.0.0. This feature will be removed in v6.0.0. See https://github.com/optuna/optuna/releases/tag/v3.0.0. Use :func:`~optuna.trial.Trial.suggest_float` instead.\n",
      "  'reg_lambda': trial.suggest_loguniform('reg_lambda', 1e-8, 1.0),\n",
      "C:\\Users\\HP\\anaconda3\\lib\\site-packages\\xgboost\\sklearn.py:1421: UserWarning: `use_label_encoder` is deprecated in 1.7.0.\n",
      "  warnings.warn(\"`use_label_encoder` is deprecated in 1.7.0.\")\n",
      "\u001b[32m[I 2023-03-18 19:04:29,085]\u001b[0m Trial 49 finished with value: 0.6430532914674573 and parameters: {'max_depth': 6, 'learning_rate': 0.19633945486808715, 'n_estimators': 458, 'min_child_weight': 5, 'gamma': 2.2302210556712025e-08, 'subsample': 0.638531621514309, 'colsample_bytree': 0.4597440562526538, 'reg_alpha': 1.8592371546784326e-08, 'reg_lambda': 1.0140943586703887e-08}. Best is trial 34 with value: 0.6466964979267639.\u001b[0m\n"
     ]
    }
   ],
   "source": [
    "study.optimize(objective, n_trials=50) # 18:12 19:04"
   ]
  },
  {
   "cell_type": "code",
   "execution_count": 41,
   "id": "f9ff0196",
   "metadata": {},
   "outputs": [
    {
     "name": "stdout",
     "output_type": "stream",
     "text": [
      "Number of finished trials: 50\n",
      "Best trial:\n",
      "  Value: 0.6466964979267639\n",
      "  Params: \n",
      "    max_depth: 7\n",
      "    learning_rate: 0.2403147821190824\n",
      "    n_estimators: 458\n",
      "    min_child_weight: 3\n",
      "    gamma: 5.443787619988271e-05\n",
      "    subsample: 0.9872880054967054\n",
      "    colsample_bytree: 0.41125022228941116\n",
      "    reg_alpha: 1.3658947685985401e-08\n",
      "    reg_lambda: 3.444299551227841e-08\n"
     ]
    }
   ],
   "source": [
    "print('Number of finished trials: {}'.format(len(study.trials)))\n",
    "print('Best trial:')\n",
    "trial = study.best_trial\n",
    "\n",
    "print('  Value: {}'.format(trial.value))\n",
    "print('  Params: ')\n",
    "\n",
    "for key, value in trial.params.items():\n",
    "    print('    {}: {}'.format(key, value))"
   ]
  },
  {
   "cell_type": "markdown",
   "id": "f94e78d4",
   "metadata": {},
   "source": [
    "## Model 4.2 styczeń + ohe"
   ]
  },
  {
   "cell_type": "code",
   "execution_count": 16,
   "id": "a16e4258",
   "metadata": {},
   "outputs": [
    {
     "name": "stderr",
     "output_type": "stream",
     "text": [
      "C:\\Users\\HP\\AppData\\Local\\Temp\\ipykernel_8480\\3667236365.py:1: SettingWithCopyWarning: \n",
      "A value is trying to be set on a copy of a slice from a DataFrame\n",
      "\n",
      "See the caveats in the documentation: https://pandas.pydata.org/pandas-docs/stable/user_guide/indexing.html#returning-a-view-versus-a-copy\n",
      "  df_1.drop(['ARRIVAL_DELAY', 'DATE'], axis=1, inplace=True)\n"
     ]
    }
   ],
   "source": [
    "df_1.drop(['ARRIVAL_DELAY', 'DATE'], axis=1, inplace=True)"
   ]
  },
  {
   "cell_type": "code",
   "execution_count": 18,
   "id": "be402abd",
   "metadata": {},
   "outputs": [
    {
     "name": "stderr",
     "output_type": "stream",
     "text": [
      "C:\\Users\\HP\\AppData\\Local\\Temp\\ipykernel_8480\\32044613.py:1: SettingWithCopyWarning: \n",
      "A value is trying to be set on a copy of a slice from a DataFrame\n",
      "\n",
      "See the caveats in the documentation: https://pandas.pydata.org/pandas-docs/stable/user_guide/indexing.html#returning-a-view-versus-a-copy\n",
      "  df_1.drop(['MONTH_NAME'], axis=1, inplace=True)\n"
     ]
    }
   ],
   "source": [
    "df_1.drop(['MONTH_NAME'], axis=1, inplace=True)"
   ]
  },
  {
   "cell_type": "code",
   "execution_count": 20,
   "id": "bb81dcf8",
   "metadata": {},
   "outputs": [
    {
     "data": {
      "text/plain": [
       "(457013, 650)"
      ]
     },
     "execution_count": 20,
     "metadata": {},
     "output_type": "execute_result"
    }
   ],
   "source": [
    "df_12 = pd.get_dummies(data=df_1, columns=['DESTINATION_AIRPORT', 'ORIGIN_AIRPORT','AIRLINE', 'DAY_NAME'])\n",
    "df_12.shape"
   ]
  },
  {
   "cell_type": "code",
   "execution_count": 21,
   "id": "3ac1a3d6",
   "metadata": {},
   "outputs": [],
   "source": [
    "y=df_12.pop('delayed')\n",
    "X=df_12\n",
    "\n",
    "X_train,X_test,y_train,y_test = train_test_split(X,y,test_size=0.2, random_state=1)"
   ]
  },
  {
   "cell_type": "code",
   "execution_count": 22,
   "id": "ee198de8",
   "metadata": {},
   "outputs": [],
   "source": [
    "scaler = StandardScaler()\n",
    "scaler.fit(X_train)\n",
    "X_train = scaler.transform(X_train)\n",
    "X_test = scaler.transform(X_test)"
   ]
  },
  {
   "cell_type": "code",
   "execution_count": 23,
   "id": "66982aea",
   "metadata": {},
   "outputs": [
    {
     "name": "stdout",
     "output_type": "stream",
     "text": [
      "Accuracy score in train set: 0.808\n",
      "Accuracy score in test set: 0.598\n",
      "ROC AUC score in train set: 0.778\n",
      "ROC AUC score in test set: 0.557\n"
     ]
    }
   ],
   "source": [
    "dt = DecisionTreeClassifier()\n",
    "dt.fit(X_train, y_train)\n",
    "dt_results_train = dt.predict(X_train)\n",
    "dt_results_test = dt.predict(X_test)\n",
    "\n",
    "print('Accuracy score in train set: {:.3f}'.format(accuracy_score(y_train, dt_results_train)))\n",
    "print('Accuracy score in test set: {:.3f}'.format(accuracy_score(y_test, dt_results_test)))\n",
    "print('ROC AUC score in train set: {:.3f}'.format(roc_auc_score(y_train, dt_results_train)))\n",
    "print('ROC AUC score in test set: {:.3f}'.format(roc_auc_score(y_test, dt_results_test)))"
   ]
  },
  {
   "cell_type": "code",
   "execution_count": 25,
   "id": "cc5214a0",
   "metadata": {},
   "outputs": [
    {
     "name": "stdout",
     "output_type": "stream",
     "text": [
      "Accuracy score in train set: 0.808\n",
      "Accuracy score in test set: 0.592\n",
      "ROC AUC score in train set: 0.792\n",
      "ROC AUC score in test set: 0.564\n"
     ]
    }
   ],
   "source": [
    "rf = RandomForestClassifier(random_state=1, n_jobs=-1)\n",
    "rf.fit(X_train, y_train)\n",
    "rf_results_train = rf.predict(X_train)\n",
    "rf_results_test = rf.predict(X_test)\n",
    "\n",
    "print('Accuracy score in train set: {:.3f}'.format(accuracy_score(y_train, rf_results_train)))\n",
    "print('Accuracy score in test set: {:.3f}'.format(accuracy_score(y_test, rf_results_test)))\n",
    "print('ROC AUC score in train set: {:.3f}'.format(roc_auc_score(y_train, rf_results_train)))\n",
    "print('ROC AUC score in test set: {:.3f}'.format(roc_auc_score(y_test, rf_results_test)))"
   ]
  },
  {
   "cell_type": "code",
   "execution_count": 26,
   "id": "26049837",
   "metadata": {},
   "outputs": [
    {
     "name": "stdout",
     "output_type": "stream",
     "text": [
      "Accuracy score in train set: 0.651\n",
      "Accuracy score in test set: 0.641\n",
      "ROC AUC score in train set: 0.597\n",
      "ROC AUC score in test set: 0.587\n"
     ]
    }
   ],
   "source": [
    "xgb = XGBClassifier(random_state=1, n_jobs=-1)\n",
    "xgb.fit(X_train, y_train)\n",
    "xgb_results_train = xgb.predict(X_train)\n",
    "xgb_results_test = xgb.predict(X_test)\n",
    "\n",
    "print('Accuracy score in train set: {:.3f}'.format(accuracy_score(y_train, xgb_results_train)))\n",
    "print('Accuracy score in test set: {:.3f}'.format(accuracy_score(y_test, xgb_results_test)))\n",
    "print('ROC AUC score in train set: {:.3f}'.format(roc_auc_score(y_train, xgb_results_train)))\n",
    "print('ROC AUC score in test set: {:.3f}'.format(roc_auc_score(y_test, xgb_results_test)))"
   ]
  },
  {
   "cell_type": "code",
   "execution_count": 27,
   "id": "2bcb51c0",
   "metadata": {},
   "outputs": [
    {
     "ename": "NameError",
     "evalue": "name 'finakResults' is not defined",
     "output_type": "error",
     "traceback": [
      "\u001b[1;31m---------------------------------------------------------------------------\u001b[0m",
      "\u001b[1;31mNameError\u001b[0m                                 Traceback (most recent call last)",
      "Input \u001b[1;32mIn [27]\u001b[0m, in \u001b[0;36m<cell line: 17>\u001b[1;34m()\u001b[0m\n\u001b[0;32m     14\u001b[0m     finalResults\u001b[38;5;241m.\u001b[39mappend((name,score))\n\u001b[0;32m     16\u001b[0m finalResults\u001b[38;5;241m.\u001b[39msort(key\u001b[38;5;241m=\u001b[39m\u001b[38;5;28;01mlambda\u001b[39;00m k:k[\u001b[38;5;241m1\u001b[39m],reverse\u001b[38;5;241m=\u001b[39m\u001b[38;5;28;01mTrue\u001b[39;00m)\n\u001b[1;32m---> 17\u001b[0m \u001b[43mfinakResults\u001b[49m\n",
      "\u001b[1;31mNameError\u001b[0m: name 'finakResults' is not defined"
     ]
    }
   ],
   "source": [
    "models =[(\"LR\", LogisticRegression(random_state=1)), ('ADA',AdaBoostClassifier(random_state=1)), \n",
    "         (\"GNB\", GaussianNB()), (\"Ridge\", RidgeClassifier(random_state=1)), (\"SGD\", SGDClassifier(random_state=1))]\n",
    "\n",
    "results = []\n",
    "names = []\n",
    "finalResults = []\n",
    "\n",
    "for name,model in models:\n",
    "    model.fit(X_train, y_train)\n",
    "    model_results = model.predict(X_test)\n",
    "    score = roc_auc_score(y_test, model_results)\n",
    "    results.append(score)\n",
    "    names.append(name)\n",
    "    finalResults.append((name,score))\n",
    "    \n",
    "finalResults.sort(key=lambda k:k[1],reverse=True)\n",
    "finalResults"
   ]
  },
  {
   "cell_type": "code",
   "execution_count": 28,
   "id": "09776933",
   "metadata": {},
   "outputs": [
    {
     "data": {
      "text/plain": [
       "[('LR', 0.5691880106567803),\n",
       " ('Ridge', 0.568110941611981),\n",
       " ('ADA', 0.5534857684958053),\n",
       " ('GNB', 0.5507969029373792),\n",
       " ('SGD', 0.5358185448199053)]"
      ]
     },
     "execution_count": 28,
     "metadata": {},
     "output_type": "execute_result"
    }
   ],
   "source": [
    "finalResults  # ROC_AUC_SCORE on test set"
   ]
  },
  {
   "cell_type": "code",
   "execution_count": 29,
   "id": "8e7e7d1a",
   "metadata": {},
   "outputs": [
    {
     "data": {
      "text/plain": [
       "[('Ridge', 0.6255155738870716),\n",
       " ('LR', 0.6251873570889358),\n",
       " ('ADA', 0.616030108420949),\n",
       " ('SGD', 0.6067525135936457),\n",
       " ('GNB', 0.5243153944618886)]"
      ]
     },
     "execution_count": 29,
     "metadata": {},
     "output_type": "execute_result"
    }
   ],
   "source": [
    "results = []\n",
    "names = []\n",
    "finalResults = []\n",
    "\n",
    "for name,model in models:\n",
    "    model.fit(X_train, y_train)\n",
    "    model_results = model.predict(X_test)\n",
    "    score = accuracy_score(y_test, model_results)\n",
    "    results.append(score)\n",
    "    names.append(name)\n",
    "    finalResults.append((name,score))\n",
    "    \n",
    "finalResults.sort(key=lambda k:k[1],reverse=True)\n",
    "finalResults   # Accuracy score on test set"
   ]
  },
  {
   "cell_type": "markdown",
   "id": "36df2740",
   "metadata": {},
   "source": [
    "## Model 5 other months"
   ]
  },
  {
   "cell_type": "code",
   "execution_count": 14,
   "id": "c8fbe20f",
   "metadata": {},
   "outputs": [],
   "source": [
    "# February\n",
    "df_2 = df_air[df_air['MONTH_NAME'] == 'February']"
   ]
  },
  {
   "cell_type": "code",
   "execution_count": 16,
   "id": "5513e21c",
   "metadata": {},
   "outputs": [
    {
     "name": "stderr",
     "output_type": "stream",
     "text": [
      "C:\\Users\\HP\\AppData\\Local\\Temp\\ipykernel_17008\\4685587.py:1: SettingWithCopyWarning: \n",
      "A value is trying to be set on a copy of a slice from a DataFrame\n",
      "\n",
      "See the caveats in the documentation: https://pandas.pydata.org/pandas-docs/stable/user_guide/indexing.html#returning-a-view-versus-a-copy\n",
      "  df_2.drop(['DESTINATION_AIRPORT', 'ORIGIN_AIRPORT', 'ARRIVAL_DELAY', 'DATE', 'MONTH_NAME','plane_route'],\n"
     ]
    }
   ],
   "source": [
    "df_2.drop(['DESTINATION_AIRPORT', 'ORIGIN_AIRPORT', 'ARRIVAL_DELAY', 'DATE', 'MONTH_NAME','plane_route'], \n",
    "                  axis=1, inplace=True)"
   ]
  },
  {
   "cell_type": "code",
   "execution_count": 18,
   "id": "5c9da5b3",
   "metadata": {},
   "outputs": [
    {
     "data": {
      "text/plain": [
       "(407663, 29)"
      ]
     },
     "execution_count": 18,
     "metadata": {},
     "output_type": "execute_result"
    }
   ],
   "source": [
    "df_21 = pd.get_dummies(data=df_2, columns=['AIRLINE', 'DAY_NAME'])\n",
    "df_21.shape"
   ]
  },
  {
   "cell_type": "code",
   "execution_count": 19,
   "id": "966ce206",
   "metadata": {},
   "outputs": [],
   "source": [
    "y=df_21.pop('delayed')\n",
    "X=df_21\n",
    "\n",
    "X_train,X_test,y_train,y_test = train_test_split(X,y,test_size=0.2, random_state=1)"
   ]
  },
  {
   "cell_type": "code",
   "execution_count": 20,
   "id": "e9a6623d",
   "metadata": {},
   "outputs": [],
   "source": [
    "scaler = StandardScaler()\n",
    "scaler.fit(X_train)\n",
    "X_train = scaler.transform(X_train)\n",
    "X_test = scaler.transform(X_test)"
   ]
  },
  {
   "cell_type": "code",
   "execution_count": 21,
   "id": "6803cc26",
   "metadata": {},
   "outputs": [
    {
     "data": {
      "text/plain": [
       "[('XGB', 0.5997984193304148),\n",
       " ('ADA', 0.5692880851078335),\n",
       " ('LR', 0.5649367714674083),\n",
       " ('Ridge', 0.5638563965262946),\n",
       " ('RF', 0.5628759500197094),\n",
       " ('GNB', 0.5587660910682387),\n",
       " ('DTC', 0.5524745144601161),\n",
       " ('SGD', 0.5390688382086329)]"
      ]
     },
     "execution_count": 21,
     "metadata": {},
     "output_type": "execute_result"
    }
   ],
   "source": [
    "models =[(\"LR\", LogisticRegression(random_state=1)), ('ADA',AdaBoostClassifier(random_state=1)), \n",
    "         (\"XGB\", XGBClassifier(random_state=1)), (\"DTC\", DecisionTreeClassifier()), \n",
    "         ('RF',RandomForestClassifier(random_state=1)), (\"GNB\", GaussianNB()),\n",
    "        (\"Ridge\", RidgeClassifier(random_state=1)), (\"SGD\", SGDClassifier(random_state=1))]\n",
    "\n",
    "results = []\n",
    "names = []\n",
    "finalResults = []\n",
    "\n",
    "for name,model in models:\n",
    "    model.fit(X_train, y_train)\n",
    "    model_results = model.predict(X_test)\n",
    "    score = roc_auc_score(y_test, model_results)\n",
    "    results.append(score)\n",
    "    names.append(name)\n",
    "    finalResults.append((name,score))\n",
    "    \n",
    "finalResults.sort(key=lambda k:k[1],reverse=True)\n",
    "finalResults   # ROC_AUC_SCORE on test set"
   ]
  },
  {
   "cell_type": "code",
   "execution_count": 22,
   "id": "0c9dd472",
   "metadata": {},
   "outputs": [
    {
     "data": {
      "text/plain": [
       "[('XGB', 0.6276722308758417),\n",
       " ('ADA', 0.6044546379993377),\n",
       " ('LR', 0.6019035237265893),\n",
       " ('Ridge', 0.6015723694700306),\n",
       " ('GNB', 0.5973900138594189),\n",
       " ('SGD', 0.5904112445267561),\n",
       " ('RF', 0.5746998147989157),\n",
       " ('DTC', 0.5737922068364957)]"
      ]
     },
     "execution_count": 22,
     "metadata": {},
     "output_type": "execute_result"
    }
   ],
   "source": [
    "models =[(\"LR\", LogisticRegression(random_state=1)), ('ADA',AdaBoostClassifier(random_state=1)), \n",
    "         (\"XGB\", XGBClassifier(random_state=1)), (\"DTC\", DecisionTreeClassifier()), \n",
    "         ('RF',RandomForestClassifier(random_state=1)), (\"GNB\", GaussianNB()),\n",
    "        (\"Ridge\", RidgeClassifier(random_state=1)), (\"SGD\", SGDClassifier(random_state=1))]\n",
    "\n",
    "results = []\n",
    "names = []\n",
    "finalResults = []\n",
    "\n",
    "for name,model in models:\n",
    "    model.fit(X_train, y_train)\n",
    "    model_results = model.predict(X_test)\n",
    "    score = accuracy_score(y_test, model_results)\n",
    "    results.append(score)\n",
    "    names.append(name)\n",
    "    finalResults.append((name,score))\n",
    "    \n",
    "finalResults.sort(key=lambda k:k[1],reverse=True)\n",
    "finalResults   # ACC score on test set"
   ]
  },
  {
   "cell_type": "code",
   "execution_count": null,
   "id": "3ecfe103",
   "metadata": {},
   "outputs": [],
   "source": [
    "models = {'RF':RandomForestClassifier(), \"LR\":LogisticRegression(), \"Ridge\":RidgeClassifier(), \n",
    "          'ADA':AdaBoostClassifier(), 'XGB':XGBClassifier()}\n",
    "\n",
    "results_cv = []\n",
    "for model in models.values():\n",
    "    skf = StratifiedKFold(n_splits=5, random_state=1, shuffle=True)\n",
    "    cv_results = cross_val_score(model, X_train, y_train, cv=kf)   #  8 min.\n",
    "    results_cv.append(cv_results)"
   ]
  },
  {
   "cell_type": "code",
   "execution_count": 46,
   "id": "9a119919",
   "metadata": {},
   "outputs": [
    {
     "name": "stderr",
     "output_type": "stream",
     "text": [
      "C:\\Users\\HP\\AppData\\Local\\Temp\\ipykernel_17008\\184614804.py:3: SettingWithCopyWarning: \n",
      "A value is trying to be set on a copy of a slice from a DataFrame\n",
      "\n",
      "See the caveats in the documentation: https://pandas.pydata.org/pandas-docs/stable/user_guide/indexing.html#returning-a-view-versus-a-copy\n",
      "  df_3.drop(['DESTINATION_AIRPORT', 'ORIGIN_AIRPORT', 'ARRIVAL_DELAY', 'DATE', 'MONTH_NAME','plane_route'],\n"
     ]
    },
    {
     "data": {
      "text/plain": [
       "(492138, 29)"
      ]
     },
     "execution_count": 46,
     "metadata": {},
     "output_type": "execute_result"
    }
   ],
   "source": [
    "# March\n",
    "df_3 = df_air[df_air['MONTH_NAME'] == 'March']\n",
    "df_3.drop(['DESTINATION_AIRPORT', 'ORIGIN_AIRPORT', 'ARRIVAL_DELAY', 'DATE', 'MONTH_NAME','plane_route'], \n",
    "                  axis=1, inplace=True)\n",
    "df_31 = pd.get_dummies(data=df_3, columns=['AIRLINE', 'DAY_NAME'])\n",
    "df_31.shape"
   ]
  },
  {
   "cell_type": "code",
   "execution_count": 47,
   "id": "c47f7f0e",
   "metadata": {},
   "outputs": [],
   "source": [
    "y=df_31.pop('delayed')\n",
    "X=df_31\n",
    "\n",
    "X_train,X_test,y_train,y_test = train_test_split(X,y,test_size=0.2, random_state=1)"
   ]
  },
  {
   "cell_type": "code",
   "execution_count": 48,
   "id": "62fcc3ad",
   "metadata": {},
   "outputs": [],
   "source": [
    "scaler = StandardScaler()\n",
    "scaler.fit(X_train)\n",
    "X_train = scaler.transform(X_train)\n",
    "X_test = scaler.transform(X_test)"
   ]
  },
  {
   "cell_type": "code",
   "execution_count": 31,
   "id": "3c53f22c",
   "metadata": {},
   "outputs": [
    {
     "data": {
      "text/plain": [
       "[('XGB', 0.583860597608397),\n",
       " ('RF', 0.5723502174824802),\n",
       " ('DTC', 0.5639104733838368),\n",
       " ('GNB', 0.5496172308973815),\n",
       " ('ADA', 0.5467879084971273),\n",
       " ('LR', 0.5456903530564006),\n",
       " ('Ridge', 0.5429478838545027),\n",
       " ('SGD', 0.5060616344649619)]"
      ]
     },
     "execution_count": 31,
     "metadata": {},
     "output_type": "execute_result"
    }
   ],
   "source": [
    "results = []\n",
    "names = []\n",
    "finalResults = []\n",
    "\n",
    "for name,model in models:\n",
    "    model.fit(X_train, y_train)\n",
    "    model_results = model.predict(X_test)\n",
    "    score = roc_auc_score(y_test, model_results)\n",
    "    results.append(score)\n",
    "    names.append(name)\n",
    "    finalResults.append((name,score))\n",
    "    \n",
    "finalResults.sort(key=lambda k:k[1],reverse=True)\n",
    "finalResults   # ROC_AUC_SCORE on test set"
   ]
  },
  {
   "cell_type": "code",
   "execution_count": 32,
   "id": "08544b19",
   "metadata": {},
   "outputs": [
    {
     "data": {
      "text/plain": [
       "[('XGB', 0.6494493436826919),\n",
       " ('ADA', 0.6283069858170439),\n",
       " ('LR', 0.6272503759092941),\n",
       " ('Ridge', 0.6267525500873735),\n",
       " ('SGD', 0.6135550859511522),\n",
       " ('GNB', 0.610761165522006),\n",
       " ('DTC', 0.610740846100703),\n",
       " ('RF', 0.6059861015158289)]"
      ]
     },
     "execution_count": 32,
     "metadata": {},
     "output_type": "execute_result"
    }
   ],
   "source": [
    "results = []\n",
    "names = []\n",
    "finalResults = []\n",
    "\n",
    "for name,model in models:\n",
    "    model.fit(X_train, y_train)\n",
    "    model_results = model.predict(X_test)\n",
    "    score = accuracy_score(y_test, model_results)\n",
    "    results.append(score)\n",
    "    names.append(name)\n",
    "    finalResults.append((name,score))\n",
    "    \n",
    "finalResults.sort(key=lambda k:k[1],reverse=True)\n",
    "finalResults   # ACC score on test set"
   ]
  },
  {
   "cell_type": "code",
   "execution_count": 50,
   "id": "17e8bd8f",
   "metadata": {},
   "outputs": [],
   "source": [
    "models = {'RF':RandomForestClassifier(), \"LR\":LogisticRegression(), \"Ridge\":RidgeClassifier(), \n",
    "          'ADA':AdaBoostClassifier(), 'XGB':XGBClassifier()}\n",
    "\n",
    "results_cv = []\n",
    "for model in models.values():\n",
    "    skf = StratifiedKFold(n_splits=5, random_state=1, shuffle=True)\n",
    "    cv_results = cross_val_score(model, X_train, y_train, cv=skf)   # 8 min\n",
    "    results_cv.append(cv_results)"
   ]
  },
  {
   "cell_type": "code",
   "execution_count": 51,
   "id": "1de9cb5e",
   "metadata": {},
   "outputs": [
    {
     "data": {
      "image/png": "[encoded data removed]",
      "text/plain": [
       "<Figure size 432x288 with 1 Axes>"
      ]
     },
     "metadata": {
      "needs_background": "light"
     },
     "output_type": "display_data"
    }
   ],
   "source": [
    "plt.boxplot(results_cv, labels=models.keys())\n",
    "plt.show()"
   ]
  },
  {
   "cell_type": "code",
   "execution_count": 56,
   "id": "f6622ffb",
   "metadata": {},
   "outputs": [
    {
     "name": "stderr",
     "output_type": "stream",
     "text": [
      "C:\\Users\\HP\\AppData\\Local\\Temp\\ipykernel_17008\\1283283915.py:3: SettingWithCopyWarning: \n",
      "A value is trying to be set on a copy of a slice from a DataFrame\n",
      "\n",
      "See the caveats in the documentation: https://pandas.pydata.org/pandas-docs/stable/user_guide/indexing.html#returning-a-view-versus-a-copy\n",
      "  df_4.drop(['DESTINATION_AIRPORT', 'ORIGIN_AIRPORT', 'ARRIVAL_DELAY', 'DATE', 'MONTH_NAME','plane_route'],\n"
     ]
    }
   ],
   "source": [
    "# April\n",
    "df_4 = df_air[df_air['MONTH_NAME'] == 'April']\n",
    "df_4.drop(['DESTINATION_AIRPORT', 'ORIGIN_AIRPORT', 'ARRIVAL_DELAY', 'DATE', 'MONTH_NAME','plane_route'], \n",
    "                  axis=1, inplace=True)\n",
    "df_41 = pd.get_dummies(data=df_4, columns=['AIRLINE', 'DAY_NAME'])\n",
    "\n",
    "y=df_41.pop('delayed')\n",
    "X=df_41"
   ]
  },
  {
   "cell_type": "code",
   "execution_count": 57,
   "id": "13369502",
   "metadata": {},
   "outputs": [],
   "source": [
    "X_train,X_test,y_train,y_test = train_test_split(X,y,test_size=0.2, random_state=1)\n",
    "\n",
    "scaler = StandardScaler()\n",
    "scaler.fit(X_train)\n",
    "X_train = scaler.transform(X_train)\n",
    "X_test = scaler.transform(X_test)"
   ]
  },
  {
   "cell_type": "code",
   "execution_count": 58,
   "id": "a3fae964",
   "metadata": {},
   "outputs": [],
   "source": [
    "models = {'RF':RandomForestClassifier(), \"LR\":LogisticRegression(), \"Ridge\":RidgeClassifier(), \n",
    "          'ADA':AdaBoostClassifier(), 'XGB':XGBClassifier()}\n",
    "\n",
    "results_cv = []\n",
    "for model in models.values():\n",
    "    kf = KFold(n_splits=5, random_state=1, shuffle=True)\n",
    "    cv_results = cross_val_score(model, X_train, y_train, cv=kf)   #  9 min\n",
    "    results_cv.append(cv_results)"
   ]
  },
  {
   "cell_type": "code",
   "execution_count": 59,
   "id": "b51b121c",
   "metadata": {},
   "outputs": [
    {
     "data": {
      "image/png": "[encoded data removed]",
      "text/plain": [
       "<Figure size 432x288 with 1 Axes>"
      ]
     },
     "metadata": {
      "needs_background": "light"
     },
     "output_type": "display_data"
    }
   ],
   "source": [
    "plt.boxplot(results_cv, labels=models.keys())\n",
    "plt.show()"
   ]
  },
  {
   "cell_type": "code",
   "execution_count": 52,
   "id": "0653e87f",
   "metadata": {},
   "outputs": [
    {
     "name": "stderr",
     "output_type": "stream",
     "text": [
      "C:\\Users\\HP\\AppData\\Local\\Temp\\ipykernel_17008\\3268319686.py:3: SettingWithCopyWarning: \n",
      "A value is trying to be set on a copy of a slice from a DataFrame\n",
      "\n",
      "See the caveats in the documentation: https://pandas.pydata.org/pandas-docs/stable/user_guide/indexing.html#returning-a-view-versus-a-copy\n",
      "  df_5.drop(['DESTINATION_AIRPORT', 'ORIGIN_AIRPORT', 'ARRIVAL_DELAY', 'DATE', 'MONTH_NAME','plane_route'],\n"
     ]
    }
   ],
   "source": [
    "# May\n",
    "df_5 = df_air[df_air['MONTH_NAME'] == 'April']\n",
    "df_5.drop(['DESTINATION_AIRPORT', 'ORIGIN_AIRPORT', 'ARRIVAL_DELAY', 'DATE', 'MONTH_NAME','plane_route'], \n",
    "                  axis=1, inplace=True)\n",
    "df_51 = pd.get_dummies(data=df_5, columns=['AIRLINE', 'DAY_NAME'])\n",
    "\n",
    "y=df_51.pop('delayed')\n",
    "X=df_51"
   ]
  },
  {
   "cell_type": "code",
   "execution_count": 53,
   "id": "19d74940",
   "metadata": {},
   "outputs": [],
   "source": [
    "X_train,X_test,y_train,y_test = train_test_split(X,y,test_size=0.2, random_state=1)\n",
    "\n",
    "scaler = StandardScaler()\n",
    "scaler.fit(X_train)\n",
    "X_train = scaler.transform(X_train)\n",
    "X_test = scaler.transform(X_test)"
   ]
  },
  {
   "cell_type": "code",
   "execution_count": 54,
   "id": "daa91950",
   "metadata": {},
   "outputs": [],
   "source": [
    "models = {'RF':RandomForestClassifier(), \"LR\":LogisticRegression(), \"Ridge\":RidgeClassifier(), \n",
    "          'ADA':AdaBoostClassifier(), 'XGB':XGBClassifier()}\n",
    "\n",
    "results_cv = []\n",
    "for model in models.values():\n",
    "    skf = StratifiedKFold(n_splits=5, random_state=1, shuffle=True)\n",
    "    cv_results = cross_val_score(model, X_train, y_train, cv=skf)\n",
    "    results_cv.append(cv_results)"
   ]
  },
  {
   "cell_type": "code",
   "execution_count": 55,
   "id": "a8ff9167",
   "metadata": {},
   "outputs": [
    {
     "data": {
      "image/png": "[encoded data removed]",
      "text/plain": [
       "<Figure size 432x288 with 1 Axes>"
      ]
     },
     "metadata": {
      "needs_background": "light"
     },
     "output_type": "display_data"
    }
   ],
   "source": [
    "plt.boxplot(results_cv, labels=models.keys())\n",
    "plt.show()"
   ]
  },
  {
   "cell_type": "code",
   "execution_count": null,
   "id": "9ac70fff",
   "metadata": {},
   "outputs": [],
   "source": []
  }
 ],
 "metadata": {
  "kernelspec": {
   "display_name": "Python 3 (ipykernel)",
   "language": "python",
   "name": "python3"
  },
  "language_info": {
   "codemirror_mode": {
    "name": "ipython",
    "version": 3
   },
   "file_extension": ".py",
   "mimetype": "text/x-python",
   "name": "python",
   "nbconvert_exporter": "python",
   "pygments_lexer": "ipython3",
   "version": "3.9.12"
  }
 },
 "nbformat": 4,
 "nbformat_minor": 5
}
